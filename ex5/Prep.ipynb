{
 "cells": [
  {
   "cell_type": "markdown",
   "metadata": {},
   "source": [
    "# Introduction\n",
    "\n",
    "This notebook is used in order to prepare a clean version of the csv file ready to print top N airports and pax."
   ]
  },
  {
   "cell_type": "code",
   "execution_count": 1,
   "metadata": {
    "collapsed": true
   },
   "outputs": [],
   "source": [
    "import numpy as np\n",
    "import pandas as pd"
   ]
  },
  {
   "cell_type": "code",
   "execution_count": 52,
   "metadata": {
    "collapsed": true
   },
   "outputs": [],
   "source": [
    "fraw = '../ex2.h5';\n",
    "fnew = 'topN.h5';"
   ]
  },
  {
   "cell_type": "code",
   "execution_count": 60,
   "metadata": {
    "collapsed": false
   },
   "outputs": [],
   "source": [
    "#Read dataframe and clean strings\n",
    "df = pd.read_hdf(fraw,mode='r')\n",
    "df['arr_port']=df['arr_port'].str.strip()"
   ]
  },
  {
   "cell_type": "code",
   "execution_count": 61,
   "metadata": {
    "collapsed": true
   },
   "outputs": [],
   "source": [
    "#Group by, sum PAX and sort values\n",
    "df = df.groupby(['arr_port']).sum()\n",
    "df = df.sort_values('pax',ascending=False)\n",
    "df= df.reset_index(level=['arr_port'])\n",
    "#Lets make index column to give the actual position on the ranking!\n",
    "df.index = np.arange(1, len(df) + 1)"
   ]
  },
  {
   "cell_type": "code",
   "execution_count": 62,
   "metadata": {
    "collapsed": true
   },
   "outputs": [],
   "source": [
    "#Write new file with sorted results\n",
    "with pd.HDFStore(fnew,mode='w') as store:\n",
    "    store.append('sorted_bookings', df,data_columns=['arr_port','pax'])"
   ]
  },
  {
   "cell_type": "code",
   "execution_count": 63,
   "metadata": {
    "collapsed": false
   },
   "outputs": [
    {
     "data": {
      "text/html": [
       "<div>\n",
       "<style>\n",
       "    .dataframe thead tr:only-child th {\n",
       "        text-align: right;\n",
       "    }\n",
       "\n",
       "    .dataframe thead th {\n",
       "        text-align: left;\n",
       "    }\n",
       "\n",
       "    .dataframe tbody tr th {\n",
       "        vertical-align: top;\n",
       "    }\n",
       "</style>\n",
       "<table border=\"1\" class=\"dataframe\">\n",
       "  <thead>\n",
       "    <tr style=\"text-align: right;\">\n",
       "      <th></th>\n",
       "      <th>arr_port</th>\n",
       "      <th>pax</th>\n",
       "    </tr>\n",
       "  </thead>\n",
       "  <tbody>\n",
       "    <tr>\n",
       "      <th>1</th>\n",
       "      <td>LHR</td>\n",
       "      <td>88809</td>\n",
       "    </tr>\n",
       "    <tr>\n",
       "      <th>2</th>\n",
       "      <td>MCO</td>\n",
       "      <td>70930</td>\n",
       "    </tr>\n",
       "    <tr>\n",
       "      <th>3</th>\n",
       "      <td>LAX</td>\n",
       "      <td>70530</td>\n",
       "    </tr>\n",
       "    <tr>\n",
       "      <th>4</th>\n",
       "      <td>LAS</td>\n",
       "      <td>69630</td>\n",
       "    </tr>\n",
       "    <tr>\n",
       "      <th>5</th>\n",
       "      <td>JFK</td>\n",
       "      <td>66270</td>\n",
       "    </tr>\n",
       "    <tr>\n",
       "      <th>6</th>\n",
       "      <td>CDG</td>\n",
       "      <td>64490</td>\n",
       "    </tr>\n",
       "    <tr>\n",
       "      <th>7</th>\n",
       "      <td>BKK</td>\n",
       "      <td>59460</td>\n",
       "    </tr>\n",
       "  </tbody>\n",
       "</table>\n",
       "</div>"
      ],
      "text/plain": [
       "  arr_port    pax\n",
       "1      LHR  88809\n",
       "2      MCO  70930\n",
       "3      LAX  70530\n",
       "4      LAS  69630\n",
       "5      JFK  66270\n",
       "6      CDG  64490\n",
       "7      BKK  59460"
      ]
     },
     "execution_count": 63,
     "metadata": {},
     "output_type": "execute_result"
    }
   ],
   "source": [
    "df = pd.read_hdf(fnew,mode='r')\n",
    "N = 7\n",
    "df.head(N)"
   ]
  },
  {
   "cell_type": "code",
   "execution_count": 64,
   "metadata": {
    "collapsed": false
   },
   "outputs": [
    {
     "name": "stdout",
     "output_type": "stream",
     "text": [
      "[1, 2, 3, 4, 5, 6, 7]\n"
     ]
    }
   ],
   "source": [
    "topN = df.head(N)\n",
    "print list(topN.index)\n",
    "#topN= topN.reset_index(level=['arr_port']) #Reset index in order to use arr_port as a column again\n",
    "#topN_names = topN['arr_port'].tolist()\n",
    "#topN_pax = topN['pax'].tolist()"
   ]
  },
  {
   "cell_type": "code",
   "execution_count": 65,
   "metadata": {
    "collapsed": false
   },
   "outputs": [],
   "source": [
    "mydict=topN.to_dict()"
   ]
  },
  {
   "cell_type": "code",
   "execution_count": 66,
   "metadata": {
    "collapsed": false
   },
   "outputs": [
    {
     "data": {
      "text/plain": [
       "{'arr_port': {1: 'LHR',\n",
       "  2: 'MCO',\n",
       "  3: 'LAX',\n",
       "  4: 'LAS',\n",
       "  5: 'JFK',\n",
       "  6: 'CDG',\n",
       "  7: 'BKK'},\n",
       " 'pax': {1: 88809, 2: 70930, 3: 70530, 4: 69630, 5: 66270, 6: 64490, 7: 59460}}"
      ]
     },
     "execution_count": 66,
     "metadata": {},
     "output_type": "execute_result"
    }
   ],
   "source": [
    "mydict"
   ]
  },
  {
   "cell_type": "markdown",
   "metadata": {},
   "source": [
    "# Testing the web service"
   ]
  },
  {
   "cell_type": "code",
   "execution_count": 73,
   "metadata": {
    "collapsed": true
   },
   "outputs": [],
   "source": [
    "import json\n",
    "import web"
   ]
  },
  {
   "cell_type": "code",
   "execution_count": 74,
   "metadata": {
    "collapsed": false
   },
   "outputs": [
    {
     "data": {
      "text/plain": [
       "'{\"pax\": {\"1\": 88809, \"2\": 70930}, \"arr_port\": {\"1\": \"LHR\", \"2\": \"MCO\"}}'"
      ]
     },
     "execution_count": 74,
     "metadata": {},
     "output_type": "execute_result"
    }
   ],
   "source": [
    "json.dumps(mydict)"
   ]
  },
  {
   "cell_type": "code",
   "execution_count": 78,
   "metadata": {
    "collapsed": true
   },
   "outputs": [],
   "source": [
    "name = 10"
   ]
  },
  {
   "cell_type": "code",
   "execution_count": 79,
   "metadata": {
    "collapsed": false
   },
   "outputs": [
    {
     "name": "stdout",
     "output_type": "stream",
     "text": [
      "{\"pax\": {\"1\": 88809, \"2\": 70930, \"3\": 70530, \"4\": 69630, \"5\": 66270, \"6\": 64490, \"7\": 59460, \"8\": 58150, \"9\": 58000, \"10\": 55590}, \"arr_port\": {\"1\": \"LHR\", \"2\": \"MCO\", \"3\": \"LAX\", \"4\": \"LAS\", \"5\": \"JFK\", \"6\": \"CDG\", \"7\": \"BKK\", \"8\": \"MIA\", \"9\": \"SFO\", \"10\": \"DXB\"}}\n"
     ]
    }
   ],
   "source": [
    "fnew = 'topN.h5';#File to read\n",
    "df = pd.read_hdf(fnew,mode='r')\n",
    "N = np.int(name)#Convert to integer\n",
    "df = df.head(N)\n",
    "mydict = df.to_dict()\n",
    "#web.header('Content-Type','application/json')\n",
    "print json.dumps(mydict)\n"
   ]
  },
  {
   "cell_type": "code",
   "execution_count": null,
   "metadata": {
    "collapsed": true
   },
   "outputs": [],
   "source": []
  }
 ],
 "metadata": {
  "kernelspec": {
   "display_name": "Python 2",
   "language": "python",
   "name": "python2"
  },
  "language_info": {
   "codemirror_mode": {
    "name": "ipython",
    "version": 2
   },
   "file_extension": ".py",
   "mimetype": "text/x-python",
   "name": "python",
   "nbconvert_exporter": "python",
   "pygments_lexer": "ipython2",
   "version": "2.7.13"
  }
 },
 "nbformat": 4,
 "nbformat_minor": 2
}
