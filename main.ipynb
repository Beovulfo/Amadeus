{
 "cells": [
  {
   "cell_type": "code",
   "execution_count": 4,
   "metadata": {
    "collapsed": false
   },
   "outputs": [],
   "source": [
    "import numpy as np\n",
    "import pandas as pd\n",
    "import matplotlib.pyplot as plt\n",
    "import bz2"
   ]
  },
  {
   "cell_type": "code",
   "execution_count": 5,
   "metadata": {
    "collapsed": true
   },
   "outputs": [],
   "source": [
    "#Filenames\n",
    "fsearches='searches.csv.bz2'\n",
    "fbookings='bookings.csv.bz2'"
   ]
  },
  {
   "cell_type": "code",
   "execution_count": null,
   "metadata": {
    "collapsed": true
   },
   "outputs": [],
   "source": [
    "# Read the file line by line and count line by line\n",
    "count=0\n",
    "with bz2.BZ2File(fsearches,\"r\") as file:\n",
    "    for line in file:\n",
    "        count +=1\n",
    "print count\n",
    "nlines_searches = count\n",
    "# Read the file line by line and count\n",
    "count=0\n",
    "with bz2.BZ2File(fbookings,\"r\") as file:\n",
    "    for line in file:\n",
    "        count +=1\n",
    "print count\n",
    "nlines_bookings=count"
   ]
  },
  {
   "cell_type": "code",
   "execution_count": 7,
   "metadata": {
    "collapsed": false
   },
   "outputs": [
    {
     "name": "stdout",
     "output_type": "stream",
     "text": [
      "File searches.csv.bz2 has 20390199 lines.\n",
      "File bookings.csv.bz2 has 10000011 lines.\n"
     ]
    }
   ],
   "source": [
    "print \"File %s has %s lines.\"%(fsearches,nlines_searches)\n",
    "print \"File %s has %s lines.\"%(fbookings,nlines_bookings)"
   ]
  },
  {
   "cell_type": "code",
   "execution_count": null,
   "metadata": {
    "collapsed": true
   },
   "outputs": [],
   "source": []
  }
 ],
 "metadata": {
  "kernelspec": {
   "display_name": "Python 2",
   "language": "python",
   "name": "python2"
  },
  "language_info": {
   "codemirror_mode": {
    "name": "ipython",
    "version": 2
   },
   "file_extension": ".py",
   "mimetype": "text/x-python",
   "name": "python",
   "nbconvert_exporter": "python",
   "pygments_lexer": "ipython2",
   "version": "2.7.13"
  }
 },
 "nbformat": 4,
 "nbformat_minor": 2
}
