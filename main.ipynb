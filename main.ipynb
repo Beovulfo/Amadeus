{
 "cells": [
  {
   "cell_type": "code",
   "execution_count": 1,
   "metadata": {
    "collapsed": false
   },
   "outputs": [],
   "source": [
    "import numpy as np\n",
    "import pandas as pd\n",
    "import matplotlib.pyplot as plt\n",
    "import bz2 #can handle .bz2 compressed files"
   ]
  },
  {
   "cell_type": "markdown",
   "metadata": {},
   "source": [
    "# Exercise 1\n",
    "\n",
    "## Problem statement\n",
    "*Count the number of lines in Python for each file.*"
   ]
  },
  {
   "cell_type": "markdown",
   "metadata": {},
   "source": [
    "## Solution"
   ]
  },
  {
   "cell_type": "code",
   "execution_count": 2,
   "metadata": {
    "collapsed": true
   },
   "outputs": [],
   "source": [
    "#Filenames declaration\n",
    "fsearches='searches.csv.bz2'\n",
    "fbookings='bookings.csv.bz2'"
   ]
  },
  {
   "cell_type": "code",
   "execution_count": null,
   "metadata": {
    "collapsed": true
   },
   "outputs": [],
   "source": [
    "# Read the file line by line and count\n",
    "count=0\n",
    "with bz2.BZ2File(fsearches,\"r\") as file:\n",
    "    for line in file:\n",
    "        count +=1\n",
    "print count\n",
    "nlines_searches = count\n",
    "# Read the file line by line and count\n",
    "count=0\n",
    "with bz2.BZ2File(fbookings,\"r\") as file:\n",
    "    for line in file:\n",
    "        count +=1\n",
    "print count\n",
    "nlines_bookings=count"
   ]
  },
  {
   "cell_type": "code",
   "execution_count": 7,
   "metadata": {
    "collapsed": false
   },
   "outputs": [
    {
     "name": "stdout",
     "output_type": "stream",
     "text": [
      "File searches.csv.bz2 has 20390199 lines.\n",
      "File bookings.csv.bz2 has 10000011 lines.\n"
     ]
    }
   ],
   "source": [
    "print \"File %s has %s lines.\"%(fsearches,nlines_searches)\n",
    "print \"File %s has %s lines.\"%(fbookings,nlines_bookings)"
   ]
  },
  {
   "cell_type": "markdown",
   "metadata": {},
   "source": [
    "# Exercise 2\n",
    "\n",
    "## Problem statement\n",
    "\n",
    "*top 10 arrival airports in the world in 2013 (using the bookings file)*\n",
    "\n",
    "Arrival airport is the column arr_port. It is the IATA code for the airport\n",
    "\n",
    "To get the total number of passengers for an airport, you can sum the column pax, grouping by arr_port. Note that there is negative pax. That corresponds to cancelations. So to get the total number of passengers that have actually booked, you should sum including the negatives (that will remove the canceled bookings).\n",
    "\n",
    "Print the top 10 arrival airports in the standard output, including the number of passengers.\n",
    "\n",
    "Bonus point: Get the name of the city or airport corresponding to that airport (programatically, we suggest to have a look at GeoBases in Github)\n",
    "\n",
    "Bonus point: Solve this problem using pandas (instead of any other approach)"
   ]
  },
  {
   "cell_type": "markdown",
   "metadata": {},
   "source": [
    "## Solution"
   ]
  },
  {
   "cell_type": "markdown",
   "metadata": {},
   "source": [
    "### 1) Accessing data efficiently"
   ]
  },
  {
   "cell_type": "markdown",
   "metadata": {},
   "source": [
    "Prepare dataframe to be read using chunks (due to RAM restrictions). Note that the columns are separated by '^' character in the Bookings file.\n",
    "\n",
    "We will define two different chunksizes:\n",
    "\n",
    "    * chksize_big: for production\n",
    "    * chksize_small: for testing and overview purposes.\n",
    "    \n",
    "Read column labels and sample (first chunk) to overview data."
   ]
  },
  {
   "cell_type": "code",
   "execution_count": 3,
   "metadata": {
    "collapsed": false
   },
   "outputs": [
    {
     "name": "stdout",
     "output_type": "stream",
     "text": [
      "   act_date             source  pos_ctry                          pos_iata  \\\n",
      "0  2013-03-05 00:00:00  1A      DE        a68dd7ae953c8acfb187a1af2dcbe123   \n",
      "1  2013-03-26 00:00:00  1A      US        e612b9eeeee6f17f42d9b0d3b79e75ca   \n",
      "2  2013-03-26 00:00:00  1A      US        e612b9eeeee6f17f42d9b0d3b79e75ca   \n",
      "3  2013-03-26 00:00:00  1A      AU        0f984b3bb6bd06661c95529bbd6193bc   \n",
      "4  2013-03-26 00:00:00  1A      AU        0f984b3bb6bd06661c95529bbd6193bc   \n",
      "\n",
      "                          pos_oid                      rloc            \\\n",
      "0  1a11ae49fcbf545fd2afc1a24d88d2b7  ea65900e72d71f4626378e2ebd298267   \n",
      "1  7437560d8f276d6d05eeb806d9e7edee  737295a86982c941f1c2da9a46a14043   \n",
      "2  7437560d8f276d6d05eeb806d9e7edee  737295a86982c941f1c2da9a46a14043   \n",
      "3  36472c6dbaf7afec9136ac40364e2794  5ecf00fdcbcec761c43dc7285253d0c1   \n",
      "4  36472c6dbaf7afec9136ac40364e2794  5ecf00fdcbcec761c43dc7285253d0c1   \n",
      "\n",
      "   cre_date             duration  distance  dep_port    ...      \\\n",
      "0  2013-02-22 00:00:00      1708         0  ZRH         ...       \n",
      "1  2013-03-26 00:00:00    135270         0  SAL         ...       \n",
      "2  2013-03-26 00:00:00    135270         0  SAL         ...       \n",
      "3  2013-03-26 00:00:00     30885         0  AKL         ...       \n",
      "4  2013-03-26 00:00:00     30885         0  AKL         ...       \n",
      "\n",
      "   route           carrier  bkg_class  cab_class  brd_time             \\\n",
      "0  LHRZRH               VI  T          Y          2013-03-07 08:50:00   \n",
      "1  SALATLCLT            NV  L          Y          2013-04-12 13:04:00   \n",
      "2  CLTATLSAL            NV  U          Y          2013-07-15 07:00:00   \n",
      "3  AKLHKGSVO            XK  G          Y          2013-04-24 23:59:00   \n",
      "4  SVOHKGAKL            XK  G          Y          2013-05-14 20:15:00   \n",
      "\n",
      "   off_time            pax  year month  oid        \n",
      "0  2013-03-07 11:33:37  -1  2013     3  NULL       \n",
      "1  2013-04-12 22:05:40   1  2013     3  NULL       \n",
      "2  2013-07-15 11:34:51   1  2013     3  NULL       \n",
      "3  2013-04-25 16:06:31   1  2013     3  SYDA82546  \n",
      "4  2013-05-16 10:44:50   1  2013     3  SYDA82546  \n",
      "\n",
      "[5 rows x 38 columns]\n",
      "     act_date             source  pos_ctry                          pos_iata  \\\n",
      "995  2013-03-23 00:00:00  1P      US        bfafedb1505531ad8e70e176941a7ad0   \n",
      "996  2013-03-06 00:00:00  1P      US        83ccf07a55606976f78e63fcc805f58c   \n",
      "997  2013-03-06 00:00:00  1P      US        83ccf07a55606976f78e63fcc805f58c   \n",
      "998  2013-03-06 00:00:00  1P      US        0deb0937d0f143f79505297b235eaeeb   \n",
      "999  2013-03-07 00:00:00  1P      US        0deb0937d0f143f79505297b235eaeeb   \n",
      "\n",
      "                            pos_oid                      rloc            \\\n",
      "995  804deeaddf16e6a93d36e5d046040d60  be83fd657625d53f58c5d3070cdb41b8   \n",
      "996  1490c3c5f95f04fa076fe15c775a80a9  691f15622668e671f51ba033ea904398   \n",
      "997  1490c3c5f95f04fa076fe15c775a80a9  691f15622668e671f51ba033ea904398   \n",
      "998  f4ae494f0ebec1d84f6e01750d61747d  bed521f09feee94fcb87f705267b0327   \n",
      "999  f4ae494f0ebec1d84f6e01750d61747d  bed521f09feee94fcb87f705267b0327   \n",
      "\n",
      "     cre_date             duration  distance  dep_port    ...      \\\n",
      "995  2013-03-06 00:00:00      5570         0  SLC         ...       \n",
      "996  2013-03-06 00:00:00      4664         0  SNA         ...       \n",
      "997  2013-03-06 00:00:00      4664         0  SNA         ...       \n",
      "998  2013-03-06 00:00:00       331      2598  LAX         ...       \n",
      "999  2013-03-06 00:00:00       331      2598  LAX         ...       \n",
      "\n",
      "     route           carrier  bkg_class  cab_class  brd_time             \\\n",
      "995  SLCMSN               NV  K          Y          2013-05-20 14:00:00   \n",
      "996  SNASFO               FK  V          Y          2013-03-17 13:31:00   \n",
      "997  SFOSNA               FK  W          Y          2013-03-20 17:45:00   \n",
      "998  LAXDFWMEM            KK  Y          Y          2013-03-09 07:30:00   \n",
      "999  LAXDFWMEM            KK  Y          Y          2013-03-09 07:30:00   \n",
      "\n",
      "     off_time            pax  year month  oid        \n",
      "995  2013-05-20 18:00:55   1  2013     3  NULL       \n",
      "996  2013-03-17 15:01:12   1  2013     3  NULL       \n",
      "997  2013-03-20 19:15:12   1  2013     3  NULL       \n",
      "998  2013-03-09 15:01:52   1  2013     3  NULL       \n",
      "999  2013-03-09 15:01:52  -1  2013     3  NULL       \n",
      "\n",
      "[5 rows x 38 columns]\n"
     ]
    }
   ],
   "source": [
    "chksize_big=1000000 #used for production\n",
    "chksize_small = 1000 #used for testing\n",
    "reader = pd.read_csv(fbookings,compression='bz2', sep='^',iterator=True, chunksize=chksize_small)\n",
    "#Get some relevant information about the dataframe\n",
    "for df in reader:\n",
    "    [rows,cols] = df.shape\n",
    "    bookings_labels = df.columns\n",
    "    bookings_head   = df.head()\n",
    "    bookings_tail   = df.tail()\n",
    "    break\n",
    "#Show sample\n",
    "print bookings_head\n",
    "print bookings_tail"
   ]
  },
  {
   "cell_type": "code",
   "execution_count": 4,
   "metadata": {
    "collapsed": false
   },
   "outputs": [
    {
     "name": "stdout",
     "output_type": "stream",
     "text": [
      "Index([u'act_date           ', u'source', u'pos_ctry', u'pos_iata',\n",
      "       u'pos_oid  ', u'rloc          ', u'cre_date           ', u'duration',\n",
      "       u'distance', u'dep_port', u'dep_city', u'dep_ctry', u'arr_port',\n",
      "       u'arr_city', u'arr_ctry', u'lst_port', u'lst_city', u'lst_ctry',\n",
      "       u'brd_port', u'brd_city', u'brd_ctry', u'off_port', u'off_city',\n",
      "       u'off_ctry', u'mkt_port', u'mkt_city', u'mkt_ctry', u'intl',\n",
      "       u'route          ', u'carrier', u'bkg_class', u'cab_class',\n",
      "       u'brd_time           ', u'off_time           ', u'pax', u'year',\n",
      "       u'month', u'oid      '],\n",
      "      dtype='object')\n"
     ]
    }
   ],
   "source": [
    "print bookings_labels"
   ]
  },
  {
   "cell_type": "markdown",
   "metadata": {},
   "source": [
    "### 2) Filtering dataframe\n",
    "\n",
    "Reading the dataframe in chunks, we will append the target columns on a new dataframe (written as hdf5 file called **'ex2.h5'**). \n",
    "We need to pay special attention to missing values. In this case we have found some 'Na' value on PAX, this giving errors when trying to append the data."
   ]
  },
  {
   "cell_type": "code",
   "execution_count": 2,
   "metadata": {
    "collapsed": true
   },
   "outputs": [],
   "source": [
    "#Filename to write the filtered results\n",
    "ffilter = 'ex2.h5'"
   ]
  },
  {
   "cell_type": "code",
   "execution_count": 218,
   "metadata": {
    "collapsed": false
   },
   "outputs": [
    {
     "name": "stdout",
     "output_type": "stream",
     "text": [
      "Reading chunk number 1\n",
      "Reading chunk number 2\n",
      "Reading chunk number 3\n",
      "Reading chunk number 4\n",
      "Reading chunk number 5\n",
      "Reading chunk number 6\n",
      "Reading chunk number 7\n",
      "Reading chunk number 8\n",
      "Reading chunk number 9\n",
      "Reading chunk number 10\n",
      "Reading chunk number 11\n"
     ]
    }
   ],
   "source": [
    "#In order to handle numerica NaN values on PAX, we will set missing values to 0.\n",
    "def nan2zero(num):\n",
    "    try:\n",
    "        return np.int(num)\n",
    "    except:\n",
    "        return 0\n",
    "\n",
    "reader = pd.read_csv(fbookings,compression='bz2', sep='^',iterator=True,memory_map=True, \\\n",
    "                     chunksize=chksize_big,converters={'pax':nan2zero})\n",
    "with pd.HDFStore(ffilter,mode='w') as store:\n",
    "    nc = 1\n",
    "    for df in reader:\n",
    "        print \"Reading chunk number %s\"%nc\n",
    "        #Reduce the problem to two columns\n",
    "        df2            = df.filter(['arr_port','pax'],axis=1)\n",
    "        df2['pax']     = df2['pax'].astype(int)\n",
    "        df2['arr_port']= df2['arr_port'].astype('str')\n",
    "        #Write to file\n",
    "        store.append('bookings', df2)#data_columns=['arr_port','pax'])\n",
    "        nc += 1"
   ]
  },
  {
   "cell_type": "markdown",
   "metadata": {},
   "source": [
    "Now, the problem has been reduced to a dataframe with only 2 columns (instead of 38) with a size <200 Mb."
   ]
  },
  {
   "cell_type": "markdown",
   "metadata": {},
   "source": [
    "### 3) Find top 10 airports by pax numbers."
   ]
  },
  {
   "cell_type": "code",
   "execution_count": 3,
   "metadata": {
    "collapsed": false,
    "scrolled": true
   },
   "outputs": [
    {
     "data": {
      "text/html": [
       "<div>\n",
       "<style>\n",
       "    .dataframe thead tr:only-child th {\n",
       "        text-align: right;\n",
       "    }\n",
       "\n",
       "    .dataframe thead th {\n",
       "        text-align: left;\n",
       "    }\n",
       "\n",
       "    .dataframe tbody tr th {\n",
       "        vertical-align: top;\n",
       "    }\n",
       "</style>\n",
       "<table border=\"1\" class=\"dataframe\">\n",
       "  <thead>\n",
       "    <tr style=\"text-align: right;\">\n",
       "      <th></th>\n",
       "      <th>arr_port</th>\n",
       "      <th>pax</th>\n",
       "    </tr>\n",
       "  </thead>\n",
       "  <tbody>\n",
       "    <tr>\n",
       "      <th>10000000</th>\n",
       "      <td>MEL</td>\n",
       "      <td>2</td>\n",
       "    </tr>\n",
       "    <tr>\n",
       "      <th>10000001</th>\n",
       "      <td>LAS</td>\n",
       "      <td>2</td>\n",
       "    </tr>\n",
       "    <tr>\n",
       "      <th>10000002</th>\n",
       "      <td>LAS</td>\n",
       "      <td>2</td>\n",
       "    </tr>\n",
       "    <tr>\n",
       "      <th>10000003</th>\n",
       "      <td>MAA</td>\n",
       "      <td>1</td>\n",
       "    </tr>\n",
       "    <tr>\n",
       "      <th>10000004</th>\n",
       "      <td>MAA</td>\n",
       "      <td>1</td>\n",
       "    </tr>\n",
       "    <tr>\n",
       "      <th>10000005</th>\n",
       "      <td>MAA</td>\n",
       "      <td>-1</td>\n",
       "    </tr>\n",
       "    <tr>\n",
       "      <th>10000006</th>\n",
       "      <td>MAA</td>\n",
       "      <td>1</td>\n",
       "    </tr>\n",
       "    <tr>\n",
       "      <th>10000007</th>\n",
       "      <td>RDU</td>\n",
       "      <td>1</td>\n",
       "    </tr>\n",
       "    <tr>\n",
       "      <th>10000008</th>\n",
       "      <td>ORY</td>\n",
       "      <td>1</td>\n",
       "    </tr>\n",
       "    <tr>\n",
       "      <th>10000009</th>\n",
       "      <td>ORY</td>\n",
       "      <td>1</td>\n",
       "    </tr>\n",
       "  </tbody>\n",
       "</table>\n",
       "</div>"
      ],
      "text/plain": [
       "          arr_port  pax\n",
       "10000000  MEL         2\n",
       "10000001  LAS         2\n",
       "10000002  LAS         2\n",
       "10000003  MAA         1\n",
       "10000004  MAA         1\n",
       "10000005  MAA        -1\n",
       "10000006  MAA         1\n",
       "10000007  RDU         1\n",
       "10000008  ORY         1\n",
       "10000009  ORY         1"
      ]
     },
     "execution_count": 3,
     "metadata": {},
     "output_type": "execute_result"
    }
   ],
   "source": [
    "#Read the filtered file and check dataframe\n",
    "df = pd.read_hdf(ffilter,mode='r')\n",
    "df.tail(10)"
   ]
  },
  {
   "cell_type": "markdown",
   "metadata": {},
   "source": [
    "** We are assuming that all the information provided in arr_port and pax is correct. Moreover, we will eliminate now the airports with 'NaN', without trying to infer the value by inspection.**\n",
    "\n",
    "First, we will make sure that IATA code is given by the 3 first characters without any space behind (trying to avoid possible duplicates)."
   ]
  },
  {
   "cell_type": "code",
   "execution_count": 4,
   "metadata": {
    "collapsed": false
   },
   "outputs": [],
   "source": [
    "df['arr_port']=df['arr_port'].str[0:3]"
   ]
  },
  {
   "cell_type": "markdown",
   "metadata": {},
   "source": [
    "Note that **there exists an airport with code NAN**, but all the IATA codes are given with Capital letters, \n",
    "so that, it is expected that the value 'NaN' is just a missing value."
   ]
  },
  {
   "cell_type": "code",
   "execution_count": 5,
   "metadata": {
    "collapsed": false
   },
   "outputs": [
    {
     "name": "stdout",
     "output_type": "stream",
     "text": [
      "(10000010, 2)\n",
      "(10000010, 2)\n"
     ]
    }
   ],
   "source": [
    "mask = df['arr_port'].isin(['NaN', 'NA', ' '])\n",
    "print df.shape\n",
    "df = df[~mask]\n",
    "print df.shape"
   ]
  },
  {
   "cell_type": "markdown",
   "metadata": {},
   "source": [
    "No missing value has been found on the data."
   ]
  },
  {
   "cell_type": "markdown",
   "metadata": {},
   "source": [
    "Now, group by arr_port and sum the numbers on pax column"
   ]
  },
  {
   "cell_type": "code",
   "execution_count": 6,
   "metadata": {
    "collapsed": true
   },
   "outputs": [],
   "source": [
    "df2 = df.groupby(['arr_port']).sum()"
   ]
  },
  {
   "cell_type": "code",
   "execution_count": 7,
   "metadata": {
    "collapsed": false
   },
   "outputs": [
    {
     "name": "stdout",
     "output_type": "stream",
     "text": [
      "           pax\n",
      "arr_port      \n",
      "AAB         30\n",
      "AAE        810\n",
      "AAL        810\n",
      "AAN         20\n",
      "AAQ       1650\n",
      "           pax\n",
      "arr_port      \n",
      "ZWE         30\n",
      "ZWS        620\n",
      "ZYL       1290\n",
      "ZYN         20\n",
      "ZYR       1020\n"
     ]
    }
   ],
   "source": [
    "print df2.head(5)\n",
    "print df2.tail(5)"
   ]
  },
  {
   "cell_type": "markdown",
   "metadata": {},
   "source": [
    "Sort in descending order and show the **top 10 airports**:"
   ]
  },
  {
   "cell_type": "code",
   "execution_count": 8,
   "metadata": {
    "collapsed": false
   },
   "outputs": [
    {
     "data": {
      "text/html": [
       "<div>\n",
       "<style>\n",
       "    .dataframe thead tr:only-child th {\n",
       "        text-align: right;\n",
       "    }\n",
       "\n",
       "    .dataframe thead th {\n",
       "        text-align: left;\n",
       "    }\n",
       "\n",
       "    .dataframe tbody tr th {\n",
       "        vertical-align: top;\n",
       "    }\n",
       "</style>\n",
       "<table border=\"1\" class=\"dataframe\">\n",
       "  <thead>\n",
       "    <tr style=\"text-align: right;\">\n",
       "      <th></th>\n",
       "      <th>pax</th>\n",
       "    </tr>\n",
       "    <tr>\n",
       "      <th>arr_port</th>\n",
       "      <th></th>\n",
       "    </tr>\n",
       "  </thead>\n",
       "  <tbody>\n",
       "    <tr>\n",
       "      <th>LHR</th>\n",
       "      <td>88809</td>\n",
       "    </tr>\n",
       "    <tr>\n",
       "      <th>MCO</th>\n",
       "      <td>70930</td>\n",
       "    </tr>\n",
       "    <tr>\n",
       "      <th>LAX</th>\n",
       "      <td>70530</td>\n",
       "    </tr>\n",
       "    <tr>\n",
       "      <th>LAS</th>\n",
       "      <td>69630</td>\n",
       "    </tr>\n",
       "    <tr>\n",
       "      <th>JFK</th>\n",
       "      <td>66270</td>\n",
       "    </tr>\n",
       "    <tr>\n",
       "      <th>CDG</th>\n",
       "      <td>64490</td>\n",
       "    </tr>\n",
       "    <tr>\n",
       "      <th>BKK</th>\n",
       "      <td>59460</td>\n",
       "    </tr>\n",
       "    <tr>\n",
       "      <th>MIA</th>\n",
       "      <td>58150</td>\n",
       "    </tr>\n",
       "    <tr>\n",
       "      <th>SFO</th>\n",
       "      <td>58000</td>\n",
       "    </tr>\n",
       "    <tr>\n",
       "      <th>DXB</th>\n",
       "      <td>55590</td>\n",
       "    </tr>\n",
       "  </tbody>\n",
       "</table>\n",
       "</div>"
      ],
      "text/plain": [
       "            pax\n",
       "arr_port       \n",
       "LHR       88809\n",
       "MCO       70930\n",
       "LAX       70530\n",
       "LAS       69630\n",
       "JFK       66270\n",
       "CDG       64490\n",
       "BKK       59460\n",
       "MIA       58150\n",
       "SFO       58000\n",
       "DXB       55590"
      ]
     },
     "execution_count": 8,
     "metadata": {},
     "output_type": "execute_result"
    }
   ],
   "source": [
    "df3=df2.sort_values('pax',ascending=False)\n",
    "df3.head(10)"
   ]
  },
  {
   "cell_type": "markdown",
   "metadata": {},
   "source": [
    "### 4) Find the names of the cities using GeoBases"
   ]
  },
  {
   "cell_type": "markdown",
   "metadata": {},
   "source": [
    "First, we need to clone and follow the instructions for installation of GeoBases. Once it is installed, we can use it in order to give the name of the city for a given Airport code."
   ]
  },
  {
   "cell_type": "code",
   "execution_count": 29,
   "metadata": {
    "collapsed": false
   },
   "outputs": [],
   "source": [
    "from GeoBases import GeoBase\n",
    "geo_o = GeoBase(data='ori_por', verbose=False)\n",
    "geo_a = GeoBase(data='airports', verbose=False)"
   ]
  },
  {
   "cell_type": "code",
   "execution_count": 31,
   "metadata": {
    "collapsed": false
   },
   "outputs": [
    {
     "data": {
      "text/plain": [
       "'London'"
      ]
     },
     "execution_count": 31,
     "metadata": {},
     "output_type": "execute_result"
    }
   ],
   "source": [
    "#Testing geobases with an example\n",
    "geo_o.get('LHR','city_name_ascii')"
   ]
  },
  {
   "cell_type": "markdown",
   "metadata": {},
   "source": [
    "Take the previous dataframe with the top 10 airports and convert it to lists."
   ]
  },
  {
   "cell_type": "code",
   "execution_count": 73,
   "metadata": {
    "collapsed": false
   },
   "outputs": [
    {
     "name": "stdout",
     "output_type": "stream",
     "text": [
      "['LHR', 'MCO', 'LAX', 'LAS', 'JFK', 'CDG', 'BKK', 'MIA', 'SFO', 'DXB']\n"
     ]
    }
   ],
   "source": [
    "top10 = df3.head(10)\n",
    "top10 = top10.reset_index(level=['arr_port']) #Reset index in order to use arr_port as a column again\n",
    "top10_names = top10['arr_port'].tolist()\n",
    "top10_pax = top10['pax'].tolist()\n",
    "print top10_names"
   ]
  },
  {
   "cell_type": "code",
   "execution_count": 77,
   "metadata": {
    "collapsed": false
   },
   "outputs": [
    {
     "name": "stdout",
     "output_type": "stream",
     "text": [
      "Top 10 ranking airports/cities\n",
      "1) LHR, city: London --> 88809 pax\n",
      "2) MCO, city: Orlando --> 70930 pax\n",
      "3) LAX, city: Los Angeles --> 70530 pax\n",
      "4) LAS, city: Las Vegas --> 69630 pax\n",
      "5) JFK, city: New York City --> 66270 pax\n",
      "6) CDG, city: Paris --> 64490 pax\n",
      "7) BKK, city: Bangkok --> 59460 pax\n",
      "8) MIA, city: Miami --> 58150 pax\n",
      "9) SFO, city: San Francisco --> 58000 pax\n",
      "10) DXB, city: Dubai --> 55590 pax\n"
     ]
    }
   ],
   "source": [
    "# Print results nicely\n",
    "print \"Top 10 ranking airports/cities\"\n",
    "ipos = 1\n",
    "for IATA in top10_names:\n",
    "    city = geo_o.get(IATA,'city_name_ascii')\n",
    "    pax = top10_pax[ipos-1]\n",
    "    print \"%s) %s, city: %s --> %s pax\"%(ipos,IATA,city,pax)\n",
    "    ipos += 1"
   ]
  },
  {
   "cell_type": "markdown",
   "metadata": {},
   "source": [
    "### 5) Sanity check\n",
    "\n",
    "After all the data manipulation it is importat to check if the results make sense.\n",
    "\n",
    "First of all we see that the top 10 airports are indeed important hubs or big cities. In addition, the pax numbers are also reasonable. We can also see that Geobase package is working well; for instance: LHR, LAX and JFK are some well-known aiports."
   ]
  },
  {
   "cell_type": "code",
   "execution_count": null,
   "metadata": {
    "collapsed": true
   },
   "outputs": [],
   "source": []
  }
 ],
 "metadata": {
  "kernelspec": {
   "display_name": "Python 2",
   "language": "python",
   "name": "python2"
  },
  "language_info": {
   "codemirror_mode": {
    "name": "ipython",
    "version": 2
   },
   "file_extension": ".py",
   "mimetype": "text/x-python",
   "name": "python",
   "nbconvert_exporter": "python",
   "pygments_lexer": "ipython2",
   "version": "2.7.13"
  }
 },
 "nbformat": 4,
 "nbformat_minor": 2
}
