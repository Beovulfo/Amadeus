{
 "cells": [
  {
   "cell_type": "code",
   "execution_count": 2,
   "metadata": {
    "collapsed": false
   },
   "outputs": [],
   "source": [
    "import numpy as np\n",
    "import pandas as pd\n",
    "import matplotlib.pyplot as plt\n",
    "import bz2 #can handle .bz2 compressed files"
   ]
  },
  {
   "cell_type": "markdown",
   "metadata": {},
   "source": [
    "# Exercise 1\n",
    "\n",
    "## Problem statement\n",
    "*Count the number of lines in Python for each file.*"
   ]
  },
  {
   "cell_type": "markdown",
   "metadata": {},
   "source": [
    "## Solution"
   ]
  },
  {
   "cell_type": "code",
   "execution_count": 3,
   "metadata": {
    "collapsed": true
   },
   "outputs": [],
   "source": [
    "#Filenames declaration\n",
    "fsearches='searches.csv.bz2'\n",
    "fbookings='bookings.csv.bz2'"
   ]
  },
  {
   "cell_type": "code",
   "execution_count": null,
   "metadata": {
    "collapsed": true
   },
   "outputs": [],
   "source": [
    "# Read the file line by line and count\n",
    "count=0\n",
    "with bz2.BZ2File(fsearches,\"r\") as file:\n",
    "    for line in file:\n",
    "        count +=1\n",
    "print count\n",
    "nlines_searches = count\n",
    "# Read the file line by line and count\n",
    "count=0\n",
    "with bz2.BZ2File(fbookings,\"r\") as file:\n",
    "    for line in file:\n",
    "        count +=1\n",
    "print count\n",
    "nlines_bookings=count"
   ]
  },
  {
   "cell_type": "code",
   "execution_count": 7,
   "metadata": {
    "collapsed": false
   },
   "outputs": [
    {
     "name": "stdout",
     "output_type": "stream",
     "text": [
      "File searches.csv.bz2 has 20390199 lines.\n",
      "File bookings.csv.bz2 has 10000011 lines.\n"
     ]
    }
   ],
   "source": [
    "print \"File %s has %s lines.\"%(fsearches,nlines_searches)\n",
    "print \"File %s has %s lines.\"%(fbookings,nlines_bookings)"
   ]
  },
  {
   "cell_type": "markdown",
   "metadata": {},
   "source": [
    "# Exercise 2\n",
    "\n",
    "## Problem statement\n",
    "\n",
    "*top 10 arrival airports in the world in 2013 (using the bookings file)*\n",
    "\n",
    "Arrival airport is the column arr_port. It is the IATA code for the airport\n",
    "\n",
    "To get the total number of passengers for an airport, you can sum the column pax, grouping by arr_port. Note that there is negative pax. That corresponds to cancelations. So to get the total number of passengers that have actually booked, you should sum including the negatives (that will remove the canceled bookings).\n",
    "\n",
    "Print the top 10 arrival airports in the standard output, including the number of passengers.\n",
    "\n",
    "Bonus point: Get the name of the city or airport corresponding to that airport (programatically, we suggest to have a look at GeoBases in Github)\n",
    "\n",
    "Bonus point: Solve this problem using pandas (instead of any other approach)"
   ]
  },
  {
   "cell_type": "markdown",
   "metadata": {},
   "source": [
    "## Solution"
   ]
  },
  {
   "cell_type": "markdown",
   "metadata": {},
   "source": [
    "Prepare dataframe to be read using chunks (due to RAM restrictions). Note that the columns are separated by '^' character in the Bookings file.\n",
    "\n",
    "We will define two different chunksizes:\n",
    "\n",
    "    * chksize_big: for production\n",
    "    * chksize_small: for testing and overview purposes.\n",
    "    \n",
    "Read column labels and sample (first chunk) to overview data."
   ]
  },
  {
   "cell_type": "code",
   "execution_count": 49,
   "metadata": {
    "collapsed": false
   },
   "outputs": [
    {
     "name": "stdout",
     "output_type": "stream",
     "text": [
      "   act_date             source  pos_ctry                          pos_iata  \\\n",
      "0  2013-03-05 00:00:00  1A      DE        a68dd7ae953c8acfb187a1af2dcbe123   \n",
      "1  2013-03-26 00:00:00  1A      US        e612b9eeeee6f17f42d9b0d3b79e75ca   \n",
      "2  2013-03-26 00:00:00  1A      US        e612b9eeeee6f17f42d9b0d3b79e75ca   \n",
      "3  2013-03-26 00:00:00  1A      AU        0f984b3bb6bd06661c95529bbd6193bc   \n",
      "4  2013-03-26 00:00:00  1A      AU        0f984b3bb6bd06661c95529bbd6193bc   \n",
      "\n",
      "                          pos_oid                      rloc            \\\n",
      "0  1a11ae49fcbf545fd2afc1a24d88d2b7  ea65900e72d71f4626378e2ebd298267   \n",
      "1  7437560d8f276d6d05eeb806d9e7edee  737295a86982c941f1c2da9a46a14043   \n",
      "2  7437560d8f276d6d05eeb806d9e7edee  737295a86982c941f1c2da9a46a14043   \n",
      "3  36472c6dbaf7afec9136ac40364e2794  5ecf00fdcbcec761c43dc7285253d0c1   \n",
      "4  36472c6dbaf7afec9136ac40364e2794  5ecf00fdcbcec761c43dc7285253d0c1   \n",
      "\n",
      "   cre_date             duration  distance  dep_port    ...      \\\n",
      "0  2013-02-22 00:00:00      1708         0  ZRH         ...       \n",
      "1  2013-03-26 00:00:00    135270         0  SAL         ...       \n",
      "2  2013-03-26 00:00:00    135270         0  SAL         ...       \n",
      "3  2013-03-26 00:00:00     30885         0  AKL         ...       \n",
      "4  2013-03-26 00:00:00     30885         0  AKL         ...       \n",
      "\n",
      "   route           carrier  bkg_class  cab_class  brd_time             \\\n",
      "0  LHRZRH               VI  T          Y          2013-03-07 08:50:00   \n",
      "1  SALATLCLT            NV  L          Y          2013-04-12 13:04:00   \n",
      "2  CLTATLSAL            NV  U          Y          2013-07-15 07:00:00   \n",
      "3  AKLHKGSVO            XK  G          Y          2013-04-24 23:59:00   \n",
      "4  SVOHKGAKL            XK  G          Y          2013-05-14 20:15:00   \n",
      "\n",
      "   off_time            pax  year month  oid        \n",
      "0  2013-03-07 11:33:37  -1  2013     3  NULL       \n",
      "1  2013-04-12 22:05:40   1  2013     3  NULL       \n",
      "2  2013-07-15 11:34:51   1  2013     3  NULL       \n",
      "3  2013-04-25 16:06:31   1  2013     3  SYDA82546  \n",
      "4  2013-05-16 10:44:50   1  2013     3  SYDA82546  \n",
      "\n",
      "[5 rows x 38 columns]\n"
     ]
    }
   ],
   "source": [
    "chksize_big=1000000 #used for production\n",
    "chksize_small = 10 #used for testing\n",
    "reader = pd.read_csv(fbookings,compression='bz2', sep='^',iterator=True, chunksize=chksize_small)\n",
    "#Get some relevant information about the dataframe\n",
    "for df in reader:\n",
    "    [rows,cols] = df.shape\n",
    "    bookings_labels = df.columns\n",
    "    bookings_head   = df.head()\n",
    "    break\n",
    "#Show sample\n",
    "print bookings_head"
   ]
  },
  {
   "cell_type": "code",
   "execution_count": 44,
   "metadata": {
    "collapsed": false
   },
   "outputs": [
    {
     "name": "stdout",
     "output_type": "stream",
     "text": [
      "Index([u'act_date           ', u'source', u'pos_ctry', u'pos_iata',\n",
      "       u'pos_oid  ', u'rloc          ', u'cre_date           ', u'duration',\n",
      "       u'distance', u'dep_port', u'dep_city', u'dep_ctry', u'arr_port',\n",
      "       u'arr_city', u'arr_ctry', u'lst_port', u'lst_city', u'lst_ctry',\n",
      "       u'brd_port', u'brd_city', u'brd_ctry', u'off_port', u'off_city',\n",
      "       u'off_ctry', u'mkt_port', u'mkt_city', u'mkt_ctry', u'intl',\n",
      "       u'route          ', u'carrier', u'bkg_class', u'cab_class',\n",
      "       u'brd_time           ', u'off_time           ', u'pax', u'year',\n",
      "       u'month', u'oid      '],\n",
      "      dtype='object')\n"
     ]
    }
   ],
   "source": [
    "print bookings_labels"
   ]
  },
  {
   "cell_type": "raw",
   "metadata": {},
   "source": [
    "for df in reader:\n",
    "    # Create a groupby variable that groups preTestScores by regiment\n",
    "    #kk = df['pax'].groupby(df['arr_port'])\n",
    "    #print kk.describe()\n",
    "    break"
   ]
  },
  {
   "cell_type": "code",
   "execution_count": null,
   "metadata": {
    "collapsed": true
   },
   "outputs": [],
   "source": []
  }
 ],
 "metadata": {
  "kernelspec": {
   "display_name": "Python 2",
   "language": "python",
   "name": "python2"
  },
  "language_info": {
   "codemirror_mode": {
    "name": "ipython",
    "version": 2
   },
   "file_extension": ".py",
   "mimetype": "text/x-python",
   "name": "python",
   "nbconvert_exporter": "python",
   "pygments_lexer": "ipython2",
   "version": "2.7.13"
  }
 },
 "nbformat": 4,
 "nbformat_minor": 2
}
