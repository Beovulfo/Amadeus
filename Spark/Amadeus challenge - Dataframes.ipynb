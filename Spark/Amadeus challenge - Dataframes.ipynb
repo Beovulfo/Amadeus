{
 "cells": [
  {
   "cell_type": "markdown",
   "metadata": {},
   "source": [
    "# Solution with DATAFRAMES"
   ]
  },
  {
   "cell_type": "code",
   "execution_count": 1,
   "metadata": {},
   "outputs": [
    {
     "data": {
      "text/plain": [
       "spark = org.apache.spark.sql.SparkSession@14a43eb7\n"
      ]
     },
     "metadata": {},
     "output_type": "display_data"
    },
    {
     "data": {
      "text/html": [
       "<ul>\n",
       "<li><a href=\"Some(http://10.0.2.15:4040)\" target=\"new_tab\">Spark UI: local-1508837628210</a></li>\n",
       "</ul>"
      ],
      "text/plain": [
       "Spark local-1508837628210: Some(http://10.0.2.15:4040)"
      ]
     },
     "execution_count": 1,
     "metadata": {},
     "output_type": "execute_result"
    }
   ],
   "source": [
    "import java.nio.file.Paths\n",
    "import org.apache.spark.sql._\n",
    "import org.apache.spark.sql.types._\n",
    "import org.apache.spark.sql.SparkSession\n",
    "import org.apache.spark.sql.functions._\n",
    "//now create session\n",
    "val spark: org.apache.spark.sql.SparkSession = SparkSession\n",
    "      .builder()\n",
    "      .appName(\"Amadeus challenge\")\n",
    "      .config(\"spark.master\", \"local\")\n",
    "      .getOrCreate()\n",
    "\n",
    "import spark.implicits._"
   ]
  },
  {
   "cell_type": "code",
   "execution_count": 3,
   "metadata": {},
   "outputs": [
    {
     "data": {
      "text/plain": [
       "configMap = Map(spark.driver.host -> 10.0.2.15, spark.driver.port -> 42725, hive.metastore.warehouse.dir -> file:/home/amadeus/spark-warehouse/, spark.repl.class.uri -> spark://10.0.2.15:42725/classes, spark.jars -> file:/usr/local/share/jupyter/kernels/apache_toree_scala/lib/toree-assembly-0.2.0.dev1-incubating-SNAPSHOT.jar, spark.repl.class.outputDir -> /tmp/spark-8ac0cd79-09d5-4f83-bba0-7db7da2a05ea/repl-771098c7-43ed-4c98-b884-53bcb3af6e2e, spark.app.name -> Amadeus challenge, spark.executor.id -> driver, spark.submit.deployMode -> client, spark.master -> local, spark.executor.memory -> 3g, spark.app.id -> local-1508837628210, spark.sql.shuffle.partitions -> 2)\n"
      ]
     },
     "metadata": {},
     "output_type": "display_data"
    },
    {
     "data": {
      "text/plain": [
       "Map(spark.driver.host -> 10.0.2.15, spark.driver.port -> 42725, hive.metastore.warehouse.dir -> file:/home/amadeus/spark-warehouse/, spark.repl.class.uri -> spark://10.0.2.15:42725/classes, spark.jars -> file:/usr/local/share/jupyter/kernels/apache_toree_scala/lib/toree-assembly-0.2.0.dev1-incubating-SNAPSHOT.jar, spark.repl.class.outputDir -> /tmp/spark-8ac0cd79-09d5-4f83-bba0-7db7da2a05ea/repl-771098c7-43ed-4c98-b884-53bcb3af6e2e, spark.app.name -> Amadeus challenge, spark.executor.id -> driver, spark.submit.deployMode -> client, spark.master -> local, spark.executor.memory -> 3g, spark.app.id -> local-1508837628210, spark.sql.shuffle.partitions -> 2)"
      ]
     },
     "execution_count": 3,
     "metadata": {},
     "output_type": "execute_result"
    }
   ],
   "source": [
    "//set new runtime options\n",
    "spark.conf.set(\"spark.sql.shuffle.partitions\", 2)\n",
    "spark.conf.set(\"spark.executor.memory\", \"3g\")\n",
    "//get all settings\n",
    "val configMap:Map[String, String] = spark.conf.getAll"
   ]
  },
  {
   "cell_type": "code",
   "execution_count": 4,
   "metadata": {},
   "outputs": [
    {
     "data": {
      "text/plain": [
       "root_path = /media/sf_VirtualFolder/amadeus/\n",
       "searches_path = /media/sf_VirtualFolder/amadeus/searches.csv.bz2\n",
       "bookings_path = /media/sf_VirtualFolder/amadeus/bookings.csv.bz2\n"
      ]
     },
     "metadata": {},
     "output_type": "display_data"
    },
    {
     "data": {
      "text/plain": [
       "/media/sf_VirtualFolder/amadeus/bookings.csv.bz2"
      ]
     },
     "execution_count": 4,
     "metadata": {},
     "output_type": "execute_result"
    }
   ],
   "source": [
    "val root_path: String = \"/media/sf_VirtualFolder/amadeus/\";//where to find files\n",
    "val searches_path: String = root_path + \"searches.csv.bz2\";\n",
    "val bookings_path: String = root_path + \"bookings.csv.bz2\";"
   ]
  },
  {
   "cell_type": "code",
   "execution_count": null,
   "metadata": {},
   "outputs": [],
   "source": [
    "val df1=spark.read.option(\"sep\", \"^\").option(\"header\", \"true\").option(\"inferSchema\", \"false\").csv(searches_path)"
   ]
  },
  {
   "cell_type": "code",
   "execution_count": null,
   "metadata": {},
   "outputs": [],
   "source": [
    "val df2=spark.read.option(\"sep\", \"^\").option(\"header\", \"true\").option(\"inferSchema\", \"false\").csv(bookings_path)"
   ]
  },
  {
   "cell_type": "code",
   "execution_count": null,
   "metadata": {},
   "outputs": [],
   "source": [
    "df2.printSchema"
   ]
  },
  {
   "cell_type": "code",
   "execution_count": null,
   "metadata": {},
   "outputs": [],
   "source": [
    "val df1_columns = df1.columns.map(name=>name.trim)\n",
    "val df_searches = df1.toDF(df1_columns: _*)\n",
    "df_searches.printSchema\n",
    "val df2_columns = df2.columns.map(name=>name.trim)\n",
    "val df_bookings = df2.toDF(df2_columns: _*)\n",
    "df_bookings.printSchema"
   ]
  }
 ],
 "metadata": {
  "kernelspec": {
   "display_name": "Apache Toree - Scala",
   "language": "scala",
   "name": "apache_toree_scala"
  },
  "language_info": {
   "codemirror_mode": "text/x-scala",
   "file_extension": ".scala",
   "mimetype": "text/x-scala",
   "name": "scala",
   "pygments_lexer": "scala",
   "version": "2.11.8"
  }
 },
 "nbformat": 4,
 "nbformat_minor": 2
}
