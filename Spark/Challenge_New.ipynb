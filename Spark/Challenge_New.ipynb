{
 "cells": [
  {
   "cell_type": "markdown",
   "metadata": {},
   "source": [
    "This Spark notebook will answer the questions of the Amadeus Challenge (bookings + searches) using Spark instead of python pandas."
   ]
  },
  {
   "cell_type": "code",
   "execution_count": 44,
   "metadata": {},
   "outputs": [
    {
     "name": "stdout",
     "output_type": "stream",
     "text": [
      "Marking org.typelevel:cats-core_2.11:0.9.0 for download\n",
      "Preparing to fetch from:\n",
      "-> file:/tmp/toree-tmp-dir9064204515783808255/toree_add_deps/\n",
      "-> https://repo1.maven.org/maven2\n",
      "-> New file at /tmp/toree-tmp-dir9064204515783808255/toree_add_deps/https/repo1.maven.org/maven2/org/typelevel/cats-core_2.11/0.9.0/cats-core_2.11-0.9.0.jar\n",
      "Marking org.typelevel:cats-kernel_2.11:0.9.0 for download\n",
      "Preparing to fetch from:\n",
      "-> file:/tmp/toree-tmp-dir9064204515783808255/toree_add_deps/\n",
      "-> https://repo1.maven.org/maven2\n",
      "-> New file at /tmp/toree-tmp-dir9064204515783808255/toree_add_deps/https/repo1.maven.org/maven2/org/typelevel/cats-kernel_2.11/0.9.0/cats-kernel_2.11-0.9.0.jar\n",
      "Marking org.typelevel:cats-macros_2.11:0.9.0 for download\n",
      "Preparing to fetch from:\n",
      "-> file:/tmp/toree-tmp-dir9064204515783808255/toree_add_deps/\n",
      "-> https://repo1.maven.org/maven2\n",
      "-> New file at /tmp/toree-tmp-dir9064204515783808255/toree_add_deps/https/repo1.maven.org/maven2/org/typelevel/cats-macros_2.11/0.9.0/cats-macros_2.11-0.9.0.jar\n",
      "Marking io.circe:circe-core_2.11:0.7.0 for download\n",
      "Preparing to fetch from:\n",
      "-> file:/tmp/toree-tmp-dir9064204515783808255/toree_add_deps/\n",
      "-> https://repo1.maven.org/maven2\n",
      "-> New file at /tmp/toree-tmp-dir9064204515783808255/toree_add_deps/https/repo1.maven.org/maven2/io/circe/circe-core_2.11/0.7.0/circe-core_2.11-0.7.0.jar\n",
      "Marking io.circe:circe-generic_2.11:0.7.0 for download\n",
      "Preparing to fetch from:\n",
      "-> file:/tmp/toree-tmp-dir9064204515783808255/toree_add_deps/\n",
      "-> https://repo1.maven.org/maven2\n",
      "-> New file at /tmp/toree-tmp-dir9064204515783808255/toree_add_deps/https/repo1.maven.org/maven2/io/circe/circe-generic_2.11/0.7.0/circe-generic_2.11-0.7.0.jar\n",
      "Marking io.circe:circe-jawn_2.11:0.7.0 for download\n",
      "Preparing to fetch from:\n",
      "-> file:/tmp/toree-tmp-dir9064204515783808255/toree_add_deps/\n",
      "-> https://repo1.maven.org/maven2\n",
      "-> New file at /tmp/toree-tmp-dir9064204515783808255/toree_add_deps/https/repo1.maven.org/maven2/io/circe/circe-jawn_2.11/0.7.0/circe-jawn_2.11-0.7.0.jar\n",
      "Marking io.circe:circe-numbers_2.11:0.7.0 for download\n",
      "Preparing to fetch from:\n",
      "-> file:/tmp/toree-tmp-dir9064204515783808255/toree_add_deps/\n",
      "-> https://repo1.maven.org/maven2\n",
      "-> New file at /tmp/toree-tmp-dir9064204515783808255/toree_add_deps/https/repo1.maven.org/maven2/io/circe/circe-numbers_2.11/0.7.0/circe-numbers_2.11-0.7.0.jar\n",
      "Marking io.circe:circe-parser_2.11:0.7.0 for download\n",
      "Preparing to fetch from:\n",
      "-> file:/tmp/toree-tmp-dir9064204515783808255/toree_add_deps/\n",
      "-> https://repo1.maven.org/maven2\n",
      "-> New file at /tmp/toree-tmp-dir9064204515783808255/toree_add_deps/https/repo1.maven.org/maven2/io/circe/circe-parser_2.11/0.7.0/circe-parser_2.11-0.7.0.jar\n",
      "Marking org.spire-math:jawn-parser_2.11:0.10.4 for download\n",
      "Preparing to fetch from:\n",
      "-> file:/tmp/toree-tmp-dir9064204515783808255/toree_add_deps/\n",
      "-> https://repo1.maven.org/maven2\n",
      "-> New file at /tmp/toree-tmp-dir9064204515783808255/toree_add_deps/https/repo1.maven.org/maven2/org/spire-math/jawn-parser_2.11/0.10.4/jawn-parser_2.11-0.10.4.jar\n",
      "Marking org.typelevel:machinist_2.11:0.6.1 for download\n",
      "Preparing to fetch from:\n",
      "-> file:/tmp/toree-tmp-dir9064204515783808255/toree_add_deps/\n",
      "-> https://repo1.maven.org/maven2\n",
      "-> New file at /tmp/toree-tmp-dir9064204515783808255/toree_add_deps/https/repo1.maven.org/maven2/org/typelevel/machinist_2.11/0.6.1/machinist_2.11-0.6.1.jar\n",
      "Marking org.typelevel:macro-compat_2.11:1.1.1 for download\n",
      "Preparing to fetch from:\n",
      "-> file:/tmp/toree-tmp-dir9064204515783808255/toree_add_deps/\n",
      "-> https://repo1.maven.org/maven2\n",
      "-> New file at /tmp/toree-tmp-dir9064204515783808255/toree_add_deps/https/repo1.maven.org/maven2/org/typelevel/macro-compat_2.11/1.1.1/macro-compat_2.11-1.1.1.jar\n",
      "Marking com.github.julien-truffaut:monocle-core_2.11:1.1.0 for download\n",
      "Preparing to fetch from:\n",
      "-> file:/tmp/toree-tmp-dir9064204515783808255/toree_add_deps/\n",
      "-> https://repo1.maven.org/maven2\n",
      "-> New file at /tmp/toree-tmp-dir9064204515783808255/toree_add_deps/https/repo1.maven.org/maven2/com/github/julien-truffaut/monocle-core_2.11/1.1.0/monocle-core_2.11-1.1.0.jar\n",
      "Marking com.github.julien-truffaut:monocle-macro_2.11:1.1.0 for download\n",
      "Preparing to fetch from:\n",
      "-> file:/tmp/toree-tmp-dir9064204515783808255/toree_add_deps/\n",
      "-> https://repo1.maven.org/maven2\n",
      "-> New file at /tmp/toree-tmp-dir9064204515783808255/toree_add_deps/https/repo1.maven.org/maven2/com/github/julien-truffaut/monocle-macro_2.11/1.1.0/monocle-macro_2.11-1.1.0.jar\n",
      "Marking org.scalafx:scalafx_2.11-8:0.92-R10 for download\n",
      "Preparing to fetch from:\n",
      "-> file:/tmp/toree-tmp-dir9064204515783808255/toree_add_deps/\n",
      "-> https://repo1.maven.org/maven2\n",
      "-> Failed to resolve org.scalafx:scalafx_2.11-8:0.92-R10\n",
      "    -> not found: /tmp/toree-tmp-dir9064204515783808255/toree_add_deps/cache/org.scalafx/scalafx_2.11-8/ivy-0.92-R10.xml\n",
      "    -> not found: https://repo1.maven.org/maven2/org/scalafx/scalafx_2.11-8/0.92-R10/scalafx_2.11-8-0.92-R10.pom\n",
      "Marking org.scalaz:scalaz-core_2.11:7.1.1 for download\n",
      "Preparing to fetch from:\n",
      "-> file:/tmp/toree-tmp-dir9064204515783808255/toree_add_deps/\n",
      "-> https://repo1.maven.org/maven2\n",
      "-> New file at /tmp/toree-tmp-dir9064204515783808255/toree_add_deps/https/repo1.maven.org/maven2/org/scalaz/scalaz-core_2.11/7.1.1/scalaz-core_2.11-7.1.1.jar\n",
      "Marking com.chuusai:shapeless_2.11:2.3.2 for download\n",
      "Preparing to fetch from:\n",
      "-> file:/tmp/toree-tmp-dir9064204515783808255/toree_add_deps/\n",
      "-> https://repo1.maven.org/maven2\n",
      "-> New file at /tmp/toree-tmp-dir9064204515783808255/toree_add_deps/https/repo1.maven.org/maven2/com/chuusai/shapeless_2.11/2.3.2/shapeless_2.11-2.3.2.jar\n",
      "Marking com.github.mpilquist:simulacrum_2.11:0.10.0 for download\n",
      "Preparing to fetch from:\n",
      "-> file:/tmp/toree-tmp-dir9064204515783808255/toree_add_deps/\n",
      "-> https://repo1.maven.org/maven2\n",
      "-> New file at /tmp/toree-tmp-dir9064204515783808255/toree_add_deps/https/repo1.maven.org/maven2/com/github/mpilquist/simulacrum_2.11/0.10.0/simulacrum_2.11-0.10.0.jar\n",
      "Marking org.webjars.bower:vega-3:0.0-rc4 for download\n",
      "Preparing to fetch from:\n",
      "-> file:/tmp/toree-tmp-dir9064204515783808255/toree_add_deps/\n",
      "-> https://repo1.maven.org/maven2\n",
      "-> Failed to resolve org.webjars.bower:vega-3:0.0-rc4\n",
      "    -> not found: /tmp/toree-tmp-dir9064204515783808255/toree_add_deps/cache/org.webjars.bower/vega-3/ivy-0.0-rc4.xml\n",
      "    -> not found: https://repo1.maven.org/maven2/org/webjars/bower/vega-3/0.0-rc4/vega-3-0.0-rc4.pom\n",
      "Marking org.webjars.bower:vega-lite:1.2.0 for download\n",
      "Preparing to fetch from:\n",
      "-> file:/tmp/toree-tmp-dir9064204515783808255/toree_add_deps/\n",
      "-> https://repo1.maven.org/maven2\n",
      "-> New file at /tmp/toree-tmp-dir9064204515783808255/toree_add_deps/https/repo1.maven.org/maven2/org/webjars/bower/vega-lite/1.2.0/vega-lite-1.2.0.jar\n",
      "Marking org.vegas-viz:vegas_2.11:0.3.11 for download\n",
      "Preparing to fetch from:\n",
      "-> file:/tmp/toree-tmp-dir9064204515783808255/toree_add_deps/\n",
      "-> https://repo1.maven.org/maven2\n",
      "-> New file at /tmp/toree-tmp-dir9064204515783808255/toree_add_deps/https/repo1.maven.org/maven2/org/vegas-viz/vegas_2.11/0.3.11/vegas_2.11-0.3.11.jar\n",
      "Marking org.vegas-viz:vegas-macros_2.11:0.3.11 for download\n",
      "Preparing to fetch from:\n",
      "-> file:/tmp/toree-tmp-dir9064204515783808255/toree_add_deps/\n",
      "-> https://repo1.maven.org/maven2\n",
      "-> New file at /tmp/toree-tmp-dir9064204515783808255/toree_add_deps/https/repo1.maven.org/maven2/org/vegas-viz/vegas-macros_2.11/0.3.11/vegas-macros_2.11-0.3.11.jar\n"
     ]
    }
   ],
   "source": [
    "%AddDeps org.typelevel cats-core_2.11 0.9.0\n",
    "%AddDeps org.typelevel cats-kernel_2.11 0.9.0\n",
    "%AddDeps org.typelevel cats-macros_2.11 0.9.0\n",
    "%AddDeps io.circe circe-core_2.11 0.7.0\n",
    "%AddDeps io.circe circe-generic_2.11 0.7.0\n",
    "%AddDeps io.circe circe-jawn_2.11 0.7.0\n",
    "%AddDeps io.circe circe-numbers_2.11 0.7.0\n",
    "%AddDeps io.circe circe-parser_2.11 0.7.0\n",
    "%AddDeps org.spire-math jawn-parser_2.11 0.10.4\n",
    "%AddDeps org.typelevel machinist_2.11 0.6.1\n",
    "%AddDeps org.typelevel macro-compat_2.11 1.1.1\n",
    "%AddDeps com.github.julien-truffaut monocle-core_2.11 1.1.0\n",
    "%AddDeps com.github.julien-truffaut monocle-macro_2.11 1.1.0\n",
    "%AddDeps org.scalafx scalafx_2.11-8 0.92-R10\n",
    "%AddDeps org.scalaz scalaz-core_2.11 7.1.1\n",
    "%AddDeps com.chuusai shapeless_2.11 2.3.2\n",
    "%AddDeps com.github.mpilquist simulacrum_2.11 0.10.0\n",
    "%AddDeps org.webjars.bower vega-3 0.0-rc4\n",
    "%AddDeps org.webjars.bower vega-lite 1.2.0\n",
    "%AddDeps org.vegas-viz vegas_2.11 0.3.11\n",
    "%AddDeps org.vegas-viz vegas-macros_2.11 0.3.11"
   ]
  },
  {
   "cell_type": "code",
   "execution_count": 46,
   "metadata": {},
   "outputs": [
    {
     "name": "stdout",
     "output_type": "stream",
     "text": [
      "Marking org.plotly-scala:plotly-jupyter-scala_2.12:0.3.3 for download\n",
      "Preparing to fetch from:\n",
      "-> file:/tmp/toree-tmp-dir9064204515783808255/toree_add_deps/\n",
      "-> https://repo1.maven.org/maven2\n",
      "-> New file at /tmp/toree-tmp-dir9064204515783808255/toree_add_deps/https/repo1.maven.org/maven2/org/plotly-scala/plotly-jupyter-scala_2.12/0.3.3/plotly-jupyter-scala_2.12-0.3.3.jar\n"
     ]
    }
   ],
   "source": [
    "%AddDeps org.plotly-scala plotly-jupyter-scala_2.12 0.3.3"
   ]
  },
  {
   "cell_type": "raw",
   "metadata": {},
   "source": [
    "import plotly._\n",
    "//import plotly.element._\n",
    "//import plotly.layout._\n",
    "import plotly.JupyterScala._"
   ]
  },
  {
   "cell_type": "markdown",
   "metadata": {},
   "source": [
    "# RDD's"
   ]
  },
  {
   "cell_type": "code",
   "execution_count": 7,
   "metadata": {
    "collapsed": true
   },
   "outputs": [],
   "source": [
    "import org.apache.spark.storage.StorageLevel._"
   ]
  },
  {
   "cell_type": "markdown",
   "metadata": {},
   "source": [
    "# 1) First exercise: count the number of lines in Python for each file"
   ]
  },
  {
   "cell_type": "markdown",
   "metadata": {},
   "source": [
    "Create manually the SparkContext (this is not needed, by default sc is loaded). Indeed if I try this I have problems..."
   ]
  },
  {
   "cell_type": "raw",
   "metadata": {
    "scrolled": true
   },
   "source": [
    "import org.apache.spark.SparkConf;\n",
    "import org.apache.spark.SparkContext;\n",
    "import org.apache.spark.SparkContext._\n",
    "//val conf = new SparkConf().setMaster(\"local[*]\").setAppName(\"amadeus challenge\")//all cores in local\n",
    "val conf = new SparkConf().setMaster(\"local[4]\").setAppName(\"amadeus challenge\");//all cores in local\n",
    "val sc = new SparkContext(conf);"
   ]
  },
  {
   "cell_type": "markdown",
   "metadata": {},
   "source": [
    "## Read files\n",
    "Define paths and load RDDs on searches and bookings, save first line as header then remove first lines from RDD."
   ]
  },
  {
   "cell_type": "code",
   "execution_count": 8,
   "metadata": {},
   "outputs": [
    {
     "data": {
      "text/plain": [
       "root_path = /media/sf_VirtualFolder/amadeus/\n",
       "searches_path = /media/sf_VirtualFolder/amadeus/searches.csv.bz2\n",
       "bookings_path = /media/sf_VirtualFolder/amadeus/bookings.csv.bz2\n"
      ]
     },
     "metadata": {},
     "output_type": "display_data"
    },
    {
     "data": {
      "text/plain": [
       "/media/sf_VirtualFolder/amadeus/bookings.csv.bz2"
      ]
     },
     "execution_count": 8,
     "metadata": {},
     "output_type": "execute_result"
    }
   ],
   "source": [
    "val root_path: String = \"/media/sf_VirtualFolder/amadeus/\";//where to find files\n",
    "val searches_path: String = root_path + \"searches.csv.bz2\";\n",
    "val bookings_path: String = root_path + \"bookings.csv.bz2\";"
   ]
  },
  {
   "cell_type": "code",
   "execution_count": 9,
   "metadata": {},
   "outputs": [
    {
     "data": {
      "text/plain": [
       "searches = /media/sf_VirtualFolder/amadeus/searches.csv.bz2 MapPartitionsRDD[1] at textFile at <console>:34\n",
       "bookings = /media/sf_VirtualFolder/amadeus/bookings.csv.bz2 MapPartitionsRDD[3] at textFile at <console>:35\n",
       "headerColumns_searches = List(Date, Time, TxnCode, OfficeID, Country, Origin, Destination, RoundTrip, NbSegments, Seg1Departure, Seg1Arrival, Seg1Date, Seg1Carrier, Seg1BookingCode, Seg2Departure, Seg2Arrival, Seg2Date, Seg2Carrier, Seg2BookingCode, Seg3Departure, Seg3Arrival, Seg3Date, Seg3Carrier, Seg3BookingCode, Seg4Departure, Seg4Arrival, Seg4Date, Seg4Carrier, Seg4BookingCode, Seg5Departure, Seg5Arrival, Seg5Date, Seg5Carrier, Seg5BookingCode, Seg6Departure, Seg6Arrival, Seg6Date, Seg6Car...\n"
      ]
     },
     "metadata": {},
     "output_type": "display_data"
    },
    {
     "data": {
      "text/plain": [
       "List(Date, Time, TxnCode, OfficeID, Country, Origin, Destination, RoundTrip, NbSegments, Seg1Departure, Seg1Arrival, Seg1Date, Seg1Carrier, Seg1BookingCode, Seg2Departure, Seg2Arrival, Seg2Date, Seg2Carrier, Seg2BookingCode, Seg3Departure, Seg3Arrival, Seg3Date, Seg3Carrier, Seg3BookingCode, Seg4Departure, Seg4Arrival, Seg4Date, Seg4Carrier, Seg4BookingCode, Seg5Departure, Seg5Arrival, Seg5Date, Seg5Carrier, Seg5BookingCode, Seg6Departure, Seg6Arrival, Seg6Date, Seg6Carrier, Seg6BookingCode, From, IsPublishedForNeg, IsFromInternet, IsFromVista, TerminalID, InternetOffice)"
      ]
     },
     "execution_count": 9,
     "metadata": {},
     "output_type": "execute_result"
    }
   ],
   "source": [
    "val searches = sc.textFile(searches_path)//Load RDD 1\n",
    "val bookings = sc.textFile(bookings_path)//Load RDD 2\n",
    "\n",
    "val headerColumns_searches = searches.first().split(\"\\\\^\").to[List]\n",
    "val head_searches = sc.textFile(searches_path).first()\n",
    "\n",
    "val headerColumns_bookings = bookings.first().split(\"\\\\^\").to[List]\n",
    "val head_bookings = sc.textFile(bookings_path).first()"
   ]
  },
  {
   "cell_type": "code",
   "execution_count": 4,
   "metadata": {},
   "outputs": [
    {
     "data": {
      "text/plain": [
       "act_date           ^source^pos_ctry^pos_iata^pos_oid  ^rloc          ^cre_date           ^duration^distance^dep_port^dep_city^dep_ctry^arr_port^arr_city^arr_ctry^lst_port^lst_city^lst_ctry^brd_port^brd_city^brd_ctry^off_port^off_city^off_ctry^mkt_port^mkt_city^mkt_ctry^intl^route          ^carrier^bkg_class^cab_class^brd_time           ^off_time           ^pax^year^month^oid      "
      ]
     },
     "execution_count": 4,
     "metadata": {},
     "output_type": "execute_result"
    }
   ],
   "source": [
    "head_bookings"
   ]
  },
  {
   "cell_type": "code",
   "execution_count": 5,
   "metadata": {},
   "outputs": [
    {
     "name": "stdout",
     "output_type": "stream",
     "text": [
      "[Stage 4:=====================================================>   (14 + 1) / 15]                                            (1 + 4) / 15]"
     ]
    },
    {
     "data": {
      "text/plain": [
       "searches_count = 20390199\n"
      ]
     },
     "metadata": {},
     "output_type": "display_data"
    },
    {
     "data": {
      "text/plain": [
       "20390199"
      ]
     },
     "execution_count": 5,
     "metadata": {},
     "output_type": "execute_result"
    }
   ],
   "source": [
    "val searches_count = searches.count()"
   ]
  },
  {
   "cell_type": "code",
   "execution_count": 6,
   "metadata": {},
   "outputs": [
    {
     "name": "stdout",
     "output_type": "stream",
     "text": [
      "[Stage 5:=====================================================>   (16 + 1) / 17]"
     ]
    },
    {
     "data": {
      "text/plain": [
       "bookings_count = 10000011\n"
      ]
     },
     "metadata": {},
     "output_type": "display_data"
    },
    {
     "data": {
      "text/plain": [
       "10000011"
      ]
     },
     "execution_count": 6,
     "metadata": {},
     "output_type": "execute_result"
    }
   ],
   "source": [
    "val bookings_count = bookings.count()"
   ]
  },
  {
   "cell_type": "code",
   "execution_count": null,
   "metadata": {
    "collapsed": true
   },
   "outputs": [],
   "source": []
  },
  {
   "cell_type": "code",
   "execution_count": null,
   "metadata": {
    "collapsed": true
   },
   "outputs": [],
   "source": []
  },
  {
   "cell_type": "markdown",
   "metadata": {},
   "source": [
    "## 2) Top 10 arrival airports in the world in 2013 (using the bookings file)\n",
    "Arrival airport is the column arr_port. It is the IATA code for the airport\n",
    "\n",
    "To get the total number of passengers for an airport, you can sum the column pax, grouping by arr_port. Note that there is negative pax. That corresponds to cancelations. So to get the total number of passengers that have actually booked, you should sum including the negatives (that will remove the canceled bookings).\n",
    "\n",
    "Print the top 10 arrival airports in the standard output, including the number of passengers.\n",
    "\n",
    "Bonus point: Get the name of the city or airport corresponding to that airport (programatically, we suggest to have a look at GeoBases in Github)"
   ]
  },
  {
   "cell_type": "code",
   "execution_count": 10,
   "metadata": {},
   "outputs": [
    {
     "data": {
      "text/plain": [
       "parseLineBookings: (line: String)(String, String)\n"
      ]
     },
     "metadata": {},
     "output_type": "display_data"
    }
   ],
   "source": [
    "/* Lets define a function to take each line and return what we want\n",
    " * In particular, we want the column 12 with arr_port and 34 with pax\n",
    " * VIP: to handle the wrong lines reading (ex. 14 fields) we need to cover that exception, \n",
    " * otherwise it would corrupt the RDD and give many headaches...\n",
    " */\n",
    "def parseLineBookings(line:String) = {\n",
    "    val fields   = line.split(\"\\\\^\")\n",
    "    //check if the line is complete..\n",
    "    if (fields.length>34){\n",
    "    val arr_port = fields(12).trim\n",
    "    val paxstring = fields(34).trim\n",
    "    if (arr_port==\"\" || paxstring==\"\") (\"KKK\",\"0\") else\n",
    "    (arr_port, paxstring)\n",
    "    }\n",
    "    else (\"KKK\",\"0\")\n",
    "}"
   ]
  },
  {
   "cell_type": "raw",
   "metadata": {},
   "source": [
    "//val pair_rdd = bookings.mapPartitionsWithIndex{(idx, iter) => if (idx == 0) iter.drop(1) else iter}.map(parseLineBookings).cache()"
   ]
  },
  {
   "cell_type": "code",
   "execution_count": 11,
   "metadata": {},
   "outputs": [
    {
     "data": {
      "text/plain": [
       "pair_rdd = MapPartitionsRDD[8] at map at <console>:38\n"
      ]
     },
     "metadata": {},
     "output_type": "display_data"
    },
    {
     "data": {
      "text/plain": [
       "MapPartitionsRDD[8] at map at <console>:38"
      ]
     },
     "execution_count": 11,
     "metadata": {},
     "output_type": "execute_result"
    }
   ],
   "source": [
    "//Load the pair RDD from bookings with arr_port and pax\n",
    "val pair_rdd = bookings.map(parseLineBookings).persist(MEMORY_AND_DISK)"
   ]
  },
  {
   "cell_type": "code",
   "execution_count": 12,
   "metadata": {},
   "outputs": [
    {
     "data": {
      "text/plain": [
       "[(arr_port,pax), (LHR,-1), (CLT,1), (CLT,1), (SVO,1), (SVO,1), (LGA,1), (LGA,1), (SIN,2), (SIN,2)]"
      ]
     },
     "execution_count": 12,
     "metadata": {},
     "output_type": "execute_result"
    }
   ],
   "source": [
    "pair_rdd.take(10)//test"
   ]
  },
  {
   "cell_type": "code",
   "execution_count": 13,
   "metadata": {},
   "outputs": [
    {
     "name": "stdout",
     "output_type": "stream",
     "text": [
      "[Stage 5:=====================================================>   (16 + 1) / 17]"
     ]
    },
    {
     "data": {
      "text/plain": [
       "kk = Array((KKK,0))\n"
      ]
     },
     "metadata": {},
     "output_type": "display_data"
    },
    {
     "data": {
      "text/plain": [
       "[(KKK,0)]"
      ]
     },
     "execution_count": 13,
     "metadata": {},
     "output_type": "execute_result"
    }
   ],
   "source": [
    "val kk = pair_rdd.filter(_._1 != \"arr_port\" ).persist(MEMORY_AND_DISK).filter(_._1 == \"KKK\").collect()//testing filters"
   ]
  },
  {
   "cell_type": "code",
   "execution_count": 14,
   "metadata": {},
   "outputs": [
    {
     "data": {
      "text/plain": [
       "pair_rdd_good = MapPartitionsRDD[12] at filter at <console>:39\n"
      ]
     },
     "metadata": {},
     "output_type": "display_data"
    },
    {
     "data": {
      "text/plain": [
       "MapPartitionsRDD[12] at filter at <console>:39"
      ]
     },
     "execution_count": 14,
     "metadata": {},
     "output_type": "execute_result"
    }
   ],
   "source": [
    "val pair_rdd_good = pair_rdd.filter(_._1 != \"arr_port\" ).filter(_._1 != \"KKK\").persist(MEMORY_AND_DISK)//now create filtered pairRDD"
   ]
  },
  {
   "cell_type": "raw",
   "metadata": {},
   "source": [
    "//CLEANUP\n",
    "val pair_rdd_3  = pair_rdd_2.filter(_._1 != \"\" )\n",
    "                 .filter(_._1.toUpperCase != \"NULL\")\n",
    "                 .filter(_._2.toUpperCase.trim != \"\" )\n",
    "                 .filter(_._2.toUpperCase.trim != \"NULL\")\n",
    "                 .persist(MEMORY_AND_DISK)\n"
   ]
  },
  {
   "cell_type": "code",
   "execution_count": 15,
   "metadata": {},
   "outputs": [
    {
     "data": {
      "text/plain": [
       "toInt: (s: String)Option[Int]\n"
      ]
     },
     "metadata": {},
     "output_type": "display_data"
    }
   ],
   "source": [
    "//Define a conversion to integer with exception handling. \n",
    "//This is important to avoid NaN when trying to convert your strings to integers\n",
    "def toInt(s: String): Option[Int] = {\n",
    "  try {\n",
    "    Some(s.toInt)\n",
    "  } catch {\n",
    "    case e: Exception => None\n",
    "  }\n",
    "}"
   ]
  },
  {
   "cell_type": "code",
   "execution_count": 16,
   "metadata": {},
   "outputs": [
    {
     "data": {
      "text/plain": [
       "pair_bookings = MapPartitionsRDD[13] at map at <console>:45\n"
      ]
     },
     "metadata": {},
     "output_type": "display_data"
    },
    {
     "data": {
      "text/plain": [
       "MapPartitionsRDD[13] at map at <console>:45"
      ]
     },
     "execution_count": 16,
     "metadata": {},
     "output_type": "execute_result"
    }
   ],
   "source": [
    "//We map with some care using match to handle the exceptions. If we find a None we will write 0 pax.\n",
    "//Make sure wee have integers\n",
    "val pair_bookings = pair_rdd_good.map(x=> {\n",
    "      val tst = toInt(x._2)\n",
    "      tst  match {\n",
    "      case None => (x._1, 0)\n",
    "      case Some(y) => (x._1, y) }\n",
    "}).persist(MEMORY_AND_DISK)"
   ]
  },
  {
   "cell_type": "code",
   "execution_count": 17,
   "metadata": {},
   "outputs": [
    {
     "data": {
      "text/plain": [
       "[(LHR,-1), (CLT,1), (CLT,1), (SVO,1), (SVO,1), (LGA,1), (LGA,1), (SIN,2), (SIN,2), (SIN,2)]"
      ]
     },
     "execution_count": 17,
     "metadata": {},
     "output_type": "execute_result"
    }
   ],
   "source": [
    "pair_bookings.take(10)//test"
   ]
  },
  {
   "cell_type": "code",
   "execution_count": 18,
   "metadata": {},
   "outputs": [
    {
     "data": {
      "text/plain": [
       "temp = ShuffledRDD[14] at reduceByKey at <console>:46\n"
      ]
     },
     "metadata": {},
     "output_type": "display_data"
    },
    {
     "data": {
      "text/plain": [
       "ShuffledRDD[14] at reduceByKey at <console>:46"
      ]
     },
     "execution_count": 18,
     "metadata": {},
     "output_type": "execute_result"
    }
   ],
   "source": [
    "//reduceByKey will groupByKey and then do the required operation on the values!\n",
    "val temp = pair_bookings.reduceByKey(_+_)"
   ]
  },
  {
   "cell_type": "code",
   "execution_count": 19,
   "metadata": {},
   "outputs": [
    {
     "name": "stdout",
     "output_type": "stream",
     "text": [
      "[Stage 7:=====================================================>   (16 + 1) / 17]"
     ]
    },
    {
     "data": {
      "text/plain": [
       "[(IXS,390), (ELS,1370), (YQG,160), (SUV,220), (LFW,370)]"
      ]
     },
     "execution_count": 19,
     "metadata": {},
     "output_type": "execute_result"
    }
   ],
   "source": [
    "temp.take(5)//test"
   ]
  },
  {
   "cell_type": "code",
   "execution_count": 20,
   "metadata": {},
   "outputs": [
    {
     "data": {
      "text/plain": [
       "top10 = Array((88809,LHR), (70930,MCO), (70530,LAX), (69630,LAS), (66270,JFK), (64490,CDG), (59460,BKK), (58150,MIA), (58000,SFO), (55590,DXB))\n"
      ]
     },
     "metadata": {},
     "output_type": "display_data"
    },
    {
     "data": {
      "text/plain": [
       "[(88809,LHR), (70930,MCO), (70530,LAX), (69630,LAS), (66270,JFK), (64490,CDG), (59460,BKK), (58150,MIA), (58000,SFO), (55590,DXB)]"
      ]
     },
     "execution_count": 20,
     "metadata": {},
     "output_type": "execute_result"
    }
   ],
   "source": [
    "//In order to use the efficient transformation sortByKey we need to swap Keys and Values first.\n",
    "val top10 = temp.map(x => (x._2,x._1)).sortByKey(false).take(10)"
   ]
  },
  {
   "cell_type": "code",
   "execution_count": 21,
   "metadata": {},
   "outputs": [
    {
     "name": "stdout",
     "output_type": "stream",
     "text": [
      "(88809,LHR)\n",
      "(70930,MCO)\n",
      "(70530,LAX)\n",
      "(69630,LAS)\n",
      "(66270,JFK)\n",
      "(64490,CDG)\n",
      "(59460,BKK)\n",
      "(58150,MIA)\n",
      "(58000,SFO)\n",
      "(55590,DXB)\n"
     ]
    }
   ],
   "source": [
    "top10.foreach(e => println(e))"
   ]
  },
  {
   "cell_type": "markdown",
   "metadata": {
    "collapsed": true
   },
   "source": [
    "**We have checked that these results are the same obtained using pandas!**"
   ]
  },
  {
   "cell_type": "markdown",
   "metadata": {},
   "source": [
    "Now we will load a text file with the information of Airports and cities."
   ]
  },
  {
   "cell_type": "code",
   "execution_count": 22,
   "metadata": {},
   "outputs": [
    {
     "data": {
      "text/plain": [
       "airDB = amadeus/GlobalAirportDatabase.txt MapPartitionsRDD[20] at textFile at <console>:30\n"
      ]
     },
     "metadata": {},
     "output_type": "display_data"
    },
    {
     "data": {
      "text/plain": [
       "amadeus/GlobalAirportDatabase.txt MapPartitionsRDD[20] at textFile at <console>:30"
      ]
     },
     "execution_count": 22,
     "metadata": {},
     "output_type": "execute_result"
    }
   ],
   "source": [
    "val airDB = sc.textFile(\"amadeus/GlobalAirportDatabase.txt\")"
   ]
  },
  {
   "cell_type": "markdown",
   "metadata": {},
   "source": [
    "In this case we want just 1 and 3 positions (IATA,CITY)"
   ]
  },
  {
   "cell_type": "code",
   "execution_count": 23,
   "metadata": {},
   "outputs": [
    {
     "data": {
      "text/plain": [
       "parseLineAirDB: (line: String)(String, String)\n"
      ]
     },
     "metadata": {},
     "output_type": "display_data"
    }
   ],
   "source": [
    "/*Lets define a function to take each line and return what we want\n",
    " * In particular, we want the column 12 with arr_port and 34 with pax\n",
    " * VIP: to handle the wrong lines reading (ex. 14 fields) we need to cover that exception, \n",
    " * otherwise it would corrupt the RDD and give many headaches...\n",
    " */\n",
    "def parseLineAirDB(line:String) = {\n",
    "    val fields   = line.split(':')\n",
    "    //check if the line is complete..\n",
    "    if (fields.length>4){\n",
    "    val IATA = fields(1).trim\n",
    "    val CITY = fields(3).trim\n",
    "    (IATA,CITY)\n",
    "    }\n",
    "    else (\"KKK\",\"NONE\")\n",
    "}"
   ]
  },
  {
   "cell_type": "code",
   "execution_count": 24,
   "metadata": {
    "scrolled": true
   },
   "outputs": [
    {
     "data": {
      "text/plain": [
       "tt = Array((GKA,GOROKA), (LAE,LAE), (MAG,MADANG), (HGU,MOUNT HAGEN), (LAE,NADZAB), (POM,PORT MORESBY), (RAB,RABAUL), (WWK,WEWAK), (UAK,NARSSARSSUAQ), (JCH,CHRISTIANSHAAB), (JEG,EGEDESMINDE), (JFR,FREDERIKSHAAB), (JGR,GRONNEDAL), (GOH,GODTHAAB), (JGO,GODHAVN), (JHS,HOLSTEINSBORG), (JJU,JULIANEHAAB), (JAV,JAKOBSHAVN), (KUS,KULUSUK), (JNN,NANORTALIK), (JNS,NARSSAQ), (SFJ,SONDRESTROM), (JSU,SUKKERTOPPEN), (THU,THULE), (JUV,UPERNAVIK), (AEY,AKUREYRI), (EGS,EGILSSTADIR), (GRY,GRIMSEY), (HFN,HOFN), (HZK,HUSAVIK), (IFJ,ISAFJORDUR), (KEF,KEFLAVIK), (OPA,KOPASKER), (SAK,SAUDARKROKUR), (NOR,NORDFJORDUR), (PFJ,PATREKSFJORDUR), (RFN,RAUFARHOFN), (RKV,REYKJAVIK), (SIJ,SIGLUFJORDUR), (TEY,THINGEYRI), (THO,THORSHOFN), (VEY,VESTMANNAEYJAR), (VPN,VOPNAFJORDUR), (YQC,QUAQTAQ), (YA...\n"
      ]
     },
     "metadata": {},
     "output_type": "display_data"
    },
    {
     "data": {
      "text/plain": [
       "[(GKA,GOROKA), (LAE,LAE), (MAG,MADANG), (HGU,MOUNT HAGEN), (LAE,NADZAB), (POM,PORT MORESBY), (RAB,RABAUL), (WWK,WEWAK), (UAK,NARSSARSSUAQ), (JCH,CHRISTIANSHAAB), (JEG,EGEDESMINDE), (JFR,FREDERIKSHAAB), (JGR,GRONNEDAL), (GOH,GODTHAAB), (JGO,GODHAVN), (JHS,HOLSTEINSBORG), (JJU,JULIANEHAAB), (JAV,JAKOBSHAVN), (KUS,KULUSUK), (JNN,NANORTALIK), (JNS,NARSSAQ), (SFJ,SONDRESTROM), (JSU,SUKKERTOPPEN), (THU,THULE), (JUV,UPERNAVIK), (AEY,AKUREYRI), (EGS,EGILSSTADIR), (GRY,GRIMSEY), (HFN,HOFN), (HZK,HUSAVIK), (IFJ,ISAFJORDUR), (KEF,KEFLAVIK), (OPA,KOPASKER), (SAK,SAUDARKROKUR), (NOR,NORDFJORDUR), (PFJ,PATREKSFJORDUR), (RFN,RAUFARHOFN), (RKV,REYKJAVIK), (SIJ,SIGLUFJORDUR), (TEY,THINGEYRI), (THO,THORSHOFN), (VEY,VESTMANNAEYJAR), (VPN,VOPNAFJORDUR), (YQC,QUAQTAQ), (YAB,ARCTIC BAY), (YAL,ALERT BAY), (YAM,SAULT SAINTE MARIE), (YAV,WINNIPEG), (YAW,HALIFAX), (YAY,ST. ANTHONY), (YAZ,TOFINO), (YBB,PELLY BAY), (YBC,BAIE COMEAU), (YBG,BAGOTVILLE), (YBK,BAKER LAKE), (YBL,CAMPBELL RIVER), (YBR,BRANDON), (YBT,BROCHET), (YRF,CARTWRIGHT), (YCB,CAMBRIDGE BAY), (YCD,NANAIMO), (YCG,CASTLEGAR), (YCH,CHATHAM), (YCL,CHARLO), (YCO,COPPERMINE), (YCS,CHESTERFIELD INLET), (YCT,CORONATION), (YCV,MONTREAL), (YCW,CHILLIWACK), (YCY,CLYDE RIVER), (YZS,CORAL HARBOUR), (YDA,DAWSON), (YDB,BURWASH), (YDC,PRINCETON), (YDF,DEER LAKE), (YDL,DEASE LAKE), (YDN,DAUPHIN), (YDQ,DAWSON CREEK), (YED,EDMONTON), (YEG,EDMONTON), (YEK,ESKIMO POINT), (YEN,ESTEVAN), (YET,EDSON), (YEU,EUREKA), (YEV,INUVIK), (YFB,IQALUIT), (YFC,FREDERICTON), (YFO,FLIN FLON), (YFR,FORT RESOLUTION), (YFS,FORT SIMPSON), (YGK,KINGSTON), (YGL,LA GRANDE RIVIERE), (YGP,GASPE), (YGQ,GERALDTON), (YGR,ILES DE LA MADELEINE), (YGT,IGLOOLIK), (YGW,KUUJJUARARAPIK), (YGX,GILLAM), (YGZ,GRISE FIORD), (YHB,HUDSON BAY), (YHD,DRYDEN), (YHI,HOLMAN ISLAND), (YHK,GJOA HAVEN), (YHM,HAMILTON), (YHO,HOPEDALE), (YHU,MONTREAL), (YHY,HAY RIVER), (YHZ,HALIFAX), (YIB,ATIKOKAN), (YIO,POND INLET), (YIV,ISLAND LAKE), (YJN,ST. JEAN), (YJT,STEPHENVILLE), (YKA,KAMLOOPS), (YKF,WATERLOO), (YKL,SCHEFFERVILLE), (YKY,KINDERSLEY), (YKZ,TORONTO), (YLC,LAKE HARBOUR), (YLD,CHAPLEAU), (YLJ,MEADOW LAKE), (YLL,LLOYDMINSTER), (YLT,ALERT), (YLW,KELOWNA), (YMA,MAYO), (YMJ,MOOSE JAW), (YMM,FORT MCMURRAY), (YMO,MOOSONEE), (YMW,MANIWAKI), (YMX,MONTREAL), (YNA,NATASHQUAN), (YND,GATINEAU), (YNM,MATAGAMI), (YOC,OLD CROW), (YOD,COLD LAKE), (YOJ,HIGH LEVEL), (YOW,OTTAWA), (YPA,PRINCE ALBERT), (YPE,PEACE RIVER), (YPG,PORTAGE-LA-PRAIRIE), (YPH,INUKJUAK), (YPL,PICKLE LAKE), (YPN,PORT MENIER), (YPQ,PETERBOROUGH), (YPR,PRINCE PUPERT), (YPY,FORT CHIPEWYAN), (YQA,MUSKOKA), (YQB,QUEBEC), (YQF,RED DEER INDUSTRIAL), (YQG,WINDSOR), (YQH,WATSON LAKE), (YQK,KENORA), (YQL,LETHBRIDGE), (YQM,MONCTON), (YQQ,COMOX), (YQR,REGINA), (YQT,THUNDER BAY), (YQU,GRANDE PRAIRIE), (YQV,YORKTON), (YQW,NORTH BATTLEFORD), (YQX,GANDER), (YQY,SYDNEY), (YQZ,QUESNEL), (YRB,RESOLUTE), (YRI,RIVIERE DU LOUP), (YRJ,ROBERVAL), (YRM,ROCKY MOUNTAIN HOUSE), (YRT,RANKIN INLET), (YSB,SUDBURY), (YSC,SHERBROOKE), (YSF,STONY RAPIDS), (YSJ,ST. JOHN), (YSK,SANIKILUAQ), (YSM,FORT SMITH), (YSR,NANISIVIK), (YSU,SUMMERSIDE), (YSY,SACHS HARBOUR), (YTE,CAPE DORSET), (YTH,THOMPSON), (YTL,BIG TROUT LAKE), (YTR,TRENTON), (YTS,TIMMINS), (YTZ,TORONTO), (YUB,TUKTOYAKTUK), (YUF,PELLY BAY), (YUL,MONTREAL), (YUT,REPULSE BAY), (YUX,HALL BEACH), (YUY,ROUYN), (YVC,LA RONGE), (YVG,VERMILLION), (YVM,BROUGHTON ISLAND), (YVO,VAL D'OR), (YVP,QUUJJUAQ), (YVQ,NORMAN WELLS), (YVR,VANCOUVER), (YVT,BUFFALO NARROWS), (YVV,WIARTON), (YWA,PETAWAWA), (YWG,WINNIPEG), (YWK,WABUSH), (YWL,WILLIAMS LAKE), (YWY,WRIGLEY), (YXC,CRANBROOK), (YXD,EDMONTON), (YXE,SASKATOON), (YXH,MEDICINE HAT), (YXJ,FORT SAINT JOHN), (YXL,SIOUX LOOKOUT), (YXN,WHALE COVE), (YXP,PANGNIRTUNG), (YXR,EARLTON), (YXS,PRINCE GEORGE), (YXT,TERRACE), (YXU,LONDON), (YXX,ABBOTSFORD), (YXY,WHITEHORSE), (YYB,NORTH BAY), (YYC,CALGARY), (YYD,SMITHERS), (YYE,FORT NELSON), (YYF,PENTICTON), (YYG,CHARLOTTETOWN), (YYH,SPENCE BAY), (YYJ,VICTORIA), (YYL,LYNN LAKE), (YYN,SWIFT CURRENT), (YYQ,CHURCHILL), (YYR,GOOSE BAY), (YYT,ST. JOHN'S), (YYU,KAPUSKASING), (YYW,ARMSTRONG), (YYY,MONT JOLI), (YYZ,TORONTO), (YZD,TORONTO), (YZE,GORE BAY), (YZF,YELLOWKNIFE), (YZH,SLAVE LAKE), (YZP,SANDSPIT), (YZR,SARNIA), (YZT,PORT HARDY), (YZU,WHITECOURT), (YZV,SEPT-ILES), (YZW,TESLIN), (YZX,GREENWOOD), (ZFA,FARO), (ZFM,FORT MCPHERSON), (BJA,BEJAJA), (ALG,ALGIER), (DJG,DJANET), (VVZ,ILLIZI), (GSF,SETIF), (TMR,TAMANRASSET), (GJL,JIJEL), (AAE,ANNABA), (CZL,CONSTANTINE), (TEE,TEBESSA), (HRM,TILREMPT), (TID,TIARET), (CBH,BECHAR), (TIN,TINDOUF), (QAS,ECH-CHELIFF), (TAF,ORAN), (TLM,TLEMCEN), (ORN,ORAN), (MUW,GHRISS), (INF,IN GUEZZAM), (BMW,BORDJ MOKHTAR), (AZR,ADRAR), (BSK,BISKRA), (ELG,EL GOLEA), (GHA,GHARDAIA), (HME,HASSI-MESSAOUD), (INZ,IN SALAH), (TGR,TOUGGOURT), (LOO,LAGHOUAT), (TMX,TIMIMOUN), (OGX,OUARGLA), (IAM,ZARZAITINE), (COO,COTONOU), (KDC,KANDI), (NAE,NATITINGOU), (PKO,PARAKOU), (OUG,OUAHIGOUYA), (DOR,DORI), (FNG,FADA N'GOURMA), (XGG,GOROM GOROM), (XKA,KANTCHARI), (TEG,TENKODOGO), (OUA,OUAGADOUGOU), (BNR,BANFORA), (DGU,DEDOUGOU), (XGA,AMILCAR CABRAL DE GAQUA), (XNU,NOUNA), (BOY,BOBO-DIOULASSO), (ACC,ACCRA), (CKY,CONAKRY), (TML,TAMALE), (NYI,SUNYANI), (TKD,TAKORADI), (ABJ,ABIDJAN), (OGO,ABENGOUROU), (BXI,BOUNDIALI), (BYK,BOUAKE), (BQO,BUONA), (BDK,BONDOUKOU), (DIM,DIMBOKRO), (DJO,DALOA), (GGN,GAGNOA), (GGO,GUIGLO), (BBV,GRAND BEREBY), (HGO,KORHOGO), (MJC,MAN), (KEO,ODIENNE), (OFI,OUANGO FITINI), (SEO,SEGUELA), (SPY,SAN PEDRO), (ZSS,SASSANDRA), (TXU,TABOU), (TOZ,TOUBA), (ASK,YAMOUSSOUKRO), (ABV,ABUJA), (AKR,AKURE), (BNI,BENIN), (CBQ,CALABAR), (ENU,ENUGU), (QUS,GUSAU), (IBA,IBADAN), (ILR,ILORIN), (JOS,JOS), (KAD,KADUNA), (KAN,KANO), (MIU,MAIDUGURI), (MDI,MAKURDI), (LOS,LAGOS), (MXJ,MINNA), (PHC,PORT HARTCOURT), (SKO,SOKOTO), (YOL,YOLA), (ZAR,ZARIA), (MFG,MARADI), (NIM,NIAMEY), (THZ,TAHOUA), (AJY,AGADEZ), (ZND,ZINDER), (KMS,KUMASI), (MIR,MONASTIR), (TUN,TUNIS), (GAF,GAFSA), (GAE,GABES), (DJE,DJERBA), (EBM,EL BORMA), (SFA,SFAX), (TOE,TOZEUR), (LRL,NIATOUGOU), (LFW,LOME), (ANR,ANTWERP), (BRU,BRUSSELS), (CRL,CHARLEROI), (QKT,KORTRIJK-VEVELGEM), (LGG,LIEGE), (OST,OSTEND), (BBJ,BAUTZEN), (AOC,ALTENBURG), (GWW,GOTHA OST), (SXF,BERLIN), (DRS,DRESDEN), (ERF,ERFURT), (FRA,FRANKFURT), (FMO,MUENSTER/OSNABRUECK), (HAM,HAMBURG), (THF,BERLIN), (CGN,COLOGNE), (DUS,DUESSELDORF), (MUC,MUNICH), (NUE,NUERNBERG), (LEJ,LEIPZIG), (SCN,SAARBRUECKEN), (STR,STUTTGART), (TXL,BERLIN), (HAJ,HANNOVER), (BRE,BREMEN), (HHN,HAHN), (MHG,MANNHEIM), (XFW,HAMBURG), (KEL,KIEL), (LBC,LUEBECK), (AAH,AACHEN), (ZCA,ARNSBERG), (ESS,ESSEN), (MGL,MOENCHENGLADBACH), (PAD,PADERBORN), (DTM,DORTMUND), (AGB,AUGSBURG), (OBF,OBERPFAFFENHOFEN), (FDH,FRIEDRICHSHAFEN), (SZW,PARCHIM), (BYU,BAYREUTH), (HOQ,HOF), (ZNV,KOBLENZ), (ZQF,TRIER), (ZQC,SPEYER), (ZCC,BADEN-BADEN), (ZQL,DONAUESCHINGEN), (BWE,BRAUNSCHWEIG), (KSF,KASSEL), (BRV,BREMERHAVEN), (LEM,LEMWERDER), (EME,EMDEN), (AGE,WANGEROOGE), (WVN,WILHELMSHAVEN), (JUI,JUIST), (BMK,BORKUM), (NRD,NORDERNEY), (HEI,HEIDE-BUESUM), (HGL,HELGOLAND), (GWT,WESTERLAND), (OHR,WYK), (TLL,TALLINN-ULEMISTE INTERNATIONAL), (ENF,ENONTEKIO), (KEV,HALLI), (HEM,HELSINKI), (HEL,HELSINKI), (IVL,IVALO), (JOE,JOENSUU), (JYV,JYVASKYLA), (KAU,KAUHAVA), (KEM,KEMI), (KAJ,KAJAANI), (KOK,KRUUNUPYY), (KAO,KUUSAMO), (KTT,KITTILA), (KUO,KUOPIO), (LPP,LAPPEENRANTA), (MHQ,MARIEHAMN), (MIK,MIKKELI), (OUL,OULU), (POR,PORI), (RVN,ROVANIEMI), (SVL,SAVONLINNA), (SOT,SODANKYLA), (TMP,TAMPERE), (TKU,TURKU), (QVY,UTTI), (VAA,VAASA), (VRK,VARKAUS), (BFS,BELFAST), (ENK,ENNISKILLEN), (BHD,BELFAST), (LDY,LONDONDERRY), (BHX,BIRMINGHAM), (CVT,COVENTRY), (GLO,GOLOUCHESTERSHIRE), (MAN,MANCHESTER), (NQY,NEWQUAI), (LYE,LYNEHAM), (YEO,YEOVILTON), (CWL,CARDIFF), (SWS,SWANSEA), (BRS,BRISTOL), (LHR,LONDON), (LPL,LIVERPOOL), (LTN,LONDON), (PLH,PLYMOUTH), (ISC,ISLES OF SCILLY), (BOH,BOURNEMOUTH), (SOU,SOUTHAMPTON), (PZE,PENZANCE), (QLA,LASHAM), (ACI,ALDERNEY), (GCI,GUERNSEY), (JER,JERSEY), (ESH,SHOREHAM BY SEA), (BQH,BIGGIN HILL), (LGW,LONDON), (LCY,LONDON), (FAB,FARNBOROUGH), (BBS,BLACKBUSHE), (LHR,LONDON), (SEN,SOUTHEND), (LYX,LYDD), (MSE,MANSTON), (CAX,CARLISLE), (BLK,BLACKPOOL), (HUY,HUMBERSIDE), (BWF,BARROW ISLAND), (LBA,LEEDS), (CEG,HAWARDEN), (IOM,ISLE OF MAN), (NCL,NEWCASTLE), (MME,TEESSIDE), (EMA,EAST MIDLANDS), (KOI,KIRKWALL), (LSI,SUMBURGH), (WIC,WICK), (ABZ,ABERDEEN), (INV,INVERNESS), (GLA,GLASGOW), (EDI,EDINBURGH), (ILY,ISLAY), (PIK,PRESTWICK), (BEB,BENBECULA), (SDZ,SCATSTA), (DND,DUNDEE), (SYY,STORNOWAY), (BRR,BARRA), (TRE,TIREE), (UNT,UNST), (ADX,LEUCHARS), (LMO,LOSSIEMOUTH), (CBG,CAMBRIDGE), (NWI,NORWICH), (STN,LONDON), (EXT,EXETER), (FZO,BRISTOL), (HTF,HATFIELD), (OXF,OXFORD), (MHZ,MILDENHALL), (FFD,FAIRFORD), (BZZ,BRIZE NORTON), (ODH,ODIHAM), (NHT,NORTHOLT), (QCY,CONINGSBY), (BEQ,HONINGTON), (WTN,WADDINGTON), (CLF,COLTISHALL), (KNF,MARHAM), (MPN,MOUNT PLEASANT), (AMS,AMSTERDAM), (MST,MAASTRICHT), (EIN,EINDHOVEN), (GRQ,GRONINGEN), (DHR,DE KOOY), (LWR,LEEUWARDEN), (RTM,ROTTERDAM), (UTC,SOESTERBERG), (ENS,ENSCHEDE), (LID,VALKENBURG), (WOE,WOENSDRECHT), (YPB,YPENBURG), (ORK,CORK), (GWY,GALWAY), (DUB,DUBLIN), (IOR,INISHMORE), (INQ,INISHEER), (NOC,CONNAUGHT), (KIR,KERRY), (IIA,INISHMAAN), (SNN,SHANNON), (SXL,SLIGO), (WAT,WATERFORD), (AAR,AARHUS), (BLL,BILLUND), (CPH,COPENHAGEN), (EBJ,ESBJERG), (KRP,KARUP), (ODE,ODENSE), (RKE,COPENHAGEN), (RNN,RONNE), (SGD,SOENDERBORG), (SKS,SKRYDSTRUP), (TED,THISTED), (FAE,VAGAR), (STA,STAUNING), (AAL,AALBORG), (LUX,LUXEMBURG), (AES,ALESUND), (ANX,ANDOYA), (ALF,ALTA), (BNN,BRONNOYSUND), (BOO,BODOE), (BGO,BERGEN), (BJF,BATSFJORD), (BVG,BERLEVAG), (KRS,KRISTIANSAND), (BDU,BARDUFOSS), (EVE,EVENES), (FBU,OSLO), (VDB,FAGERNES), (FRO,FLORO), (OSL,OSLO), (HMR,HAMAR), (HAU,HAUGESUND), (HFT,HAMMERFEST), (HAA,HASVIK), (HVG,HONNINGSVAG), (KSU,KRISTIANSUND), (KKN,KIRKENES), (FAN,LISTA), (LKN,LEKNES), (MOL,MOLDE), (MEH,MEHAMN), (MJF,MOSJOEN), (LKL,BANAK), (NVK,NARKVIK), (OSY,NAMSOS), (OLA,ORLAND), (HOV,ORSTA-VOLDA), (RRS,ROROS), (RET,ROST), (LYR,SVALBARD), (SDN,SANDANE), (SOG,SOGNDAL), (SVJ,SVOLVAER), (SKN,STOKMARKNES), (SKE,SKIEN), (SRP,STORD), (SOJ,SORKJOSEN), (SSJ,SANDNESSJOEN), (TOS,TROMSO), (TRF,TORP), (TRD,TRONDHEIM), (VDS,VADSO), (SVG,STAVANGER), (GDN,GDANSK), (KRK,KRAKOW), (KTW,KATOWICE), (POZ,POZNAN), (RZE,RZESZOW), (SZZ,SZCZECHIN), (OSP,SLUPSK), (WAW,WARSAW), (WRO,WROCLAW), (IEG,ZIELONA GORA), (SOO,SODERHAMN), (AGH,ANGELHOLM), (RNB,RONNEBY), (GOT,GOTHENBORG), (JKG,JOENKOEPING), (LDK,LIDKOPING), (GSE,GOTHENBORG), (KVB,SKOVDE), (THN,TROLLHATTAN), (AGH,HELSINGBORG), (JMM,MALMOE), (KSK,KARLSKOGA), (MXX,MORA), (NYO,STOCKHOLM), (KID,KRISTIANSTAD), (JLD,LANDSKRONA), (OSK,OSKARSHAMN), (KLR,KALKMAR), (MMX,MALMOE), (HAD,HALMSTAD), (VXO,VAXJO), (EVG,SVEG), (GEV,GALLIVARE), (HUV,HUDIKSVALL), (KRF,KRAMFORS), (LYC,LYCKSELE), (SDL,SUNDSVALL), (OER,ORNSKOLDSVIK), (KRN,KIRUNA), (SFT,SKELLEFTEA), (UME,UMEA), (VHM,VILHELMINA), (AJR,ARVIDSJAUR), (ORB,OREBRO), (VST,VASTERAS), (LLA,LULEA), (OSD,OSTERSUND), (ARN,STOCKHOLM), (BMA,STOCKHOLM), (BLE,BORLANGE), (HLF,HULTSFRED), (GVX,GAVLE), (LPI,LINKOEPING), (NRK,NORRKOEPING), (KSD,KARLSTAD), (VBY,VISBY), (SPM,SPANGDAHLEM), (RMS,RAMSTEIN), (GHF,GIEBELSTADT), (ZCN,CELLE), (ZNF,HANAU), (QHD,HEIDELBERG), (GKE,GEILENKIRCHEN), (RLG,LAAGE), (FEL,FUERSTENFELDBRUCK), (LRC,LAARBRUCH), (GUT,GUETERSLOH), (BGN,BRUEGGEN), (ALJ,ALEXANDER BAY), (AGZ,AGGENEYS), (ADI,ARANDIS), (VIY,BISHO), (BFN,BLOEMFONTEIN), (CPT,CAPE TOWN), (DUR,DURBAN), (ELS,EAST LONDON), (ELL,ELLISRAS), (GCJ,JOHANNESBURG), (GFY,GROOTFONTEIN), (GRJ,GEORGE), (HCS,JOHANNESBURG), (GHC,HEIDELBERG), (HDS,HOEDSPRUIT), (JNB,JOHANNESBURG), (KIM,KIMBERLEY), (KMP,KEETMANSHOOP), (KLZ,KLEINSEE), (HLA,JOHANNESBURG), (LCD,LOUIS TRICHARDT), (LAY,LADYSMITH), (LUD,LUDERITZ), (MGH,MARGATE), (MFK,MAFIKENG), (MBO,MMABATHO), (MPA,MPACHA), (MEZ,MESSINA), (MZF,MZAMBA), (NNI,NAMUTONI), (NCS,NEWCASTLE), (NLP,NELSPRUIT), (OND,ONDANGWA), (OMD,ORANJEMUND), (DUH,OUDTSHOORN), (OKF,OKAUKUEJO), (OHI,OSHAKATI), (PLZ,PORT ELIZABETH), (PHW,PHALABORWA), (PTG,PIETERSBURG), (PZB,PIETERMARITZBURG), (NTY,PILANESBERG), (UTW,QUEENSTOWN), (RCB,RICHARD'S BAY), (WVB,WALVIS BAY), (NDU,RUNDU), (SBU,SPRINGBOK), (SWP,SWAKOPMUND), (SIS,SISHEN), (SZK,SKUKUZA), (THY,THOHOYANDOU), (TSB,TSUMEB), (TCU,THABA NCHU), (LTA,TZANEEN), (ULD,ULUNDI), (UTN,UPINGTON), (UTT,UMTATA), (VRU,VRYBURG), (VIR,DURBAN), (VYD,VRYHEID), (PRY,PRETORIA), (WDH,WINDHOEK), (WEL,WELKOM), (FRW,FRANCISTOWN), (GNZ,GHANZI), (JWA,JWANENG), (BBK,KASANE), (KHW,KHWAI RIVER LODGE), (MUB,MAUN), (ORP,ORAPA), (GBE,GABERONE), (PKW,SELEBI-PHIKWE), (SWX,SHAKAWE), (TLD,TULI LODGE), (TBY,TSHABONG), (BZV,BRAZZAVILLE), (DJM,DJAMBALA), (KNJ,KINDAMBA), (LCO,LAGUE), (MUY,MUYONDZI), (SIB,SIBITI), (NKY,N'KAYI), (BOE,BOUNDJI), (EWO,EWO), (GMM,GAMBOMA), (ION,IMPFONDO), (KEE,KELLE), (MKJ,MAKOUA), (FTX,OWANDO), (SOE,SOUANKE), (BTB,BETOU), (OUE,OUESSO), (KMK,MAKABANA), (DIS,LOUDIMA), (DIS,LOUBOMO), (PNR,POINTE-NOIRE), (MTS,MANZINI), (MKI,OBO), (BGF,BANGUI), (BGU,BANGASSOU), (IRO,BIRAO), (BEM,BOSSEMBELE), (BBY,BAMBARI), (NDL,N'DELE), (BOP,BOUAR), (BIV,BRIA), (BSN,BOSSANGOA), (BBT,BERBERATI), (AIG,YALINGA), (IMO,ZEMIO), (BOZ,BOZOUM), (BSG,BATA), (SSG,MALABO), (MRU,PLAISANCE), (RRG,RODRIGUEZ ISLAND), (KBI,KRIBI), (TKC,TIKO), (DLA,DOUALA), (MMF,MAMFE), (BLC,BALI), (KLE,KAELE), (OUR,BATOURI), (GXX,YAGOUA), (MVR,MAROUA), (FOM,FOUMBAN), (NGE,N'GAOUNDERE), (BTA,BERTOUA), (GOU,GAROUA), (DSC,DSCHANG), (BFX,BAFOUSSAM), (BPC,BAMENDA), (EBW,EBOLOWA), (YAO,YAOUNDE), (CIP,CHIPATA), (KAA,KASAMA), (ZKB,KASABA BAY), (LVI,LIVINGSTONE), (LUN,LUSAKA), (MFU,MFUWE), (NLA,NDOLA), (KIW,SOUTHDOWNS), (HAH,MORONI), (NWA,MOHELI), (YVA,MORONI), (AJN,ANJOUAN), (DZA,DZAOUDZI), (RUN,ST.-DENIS), (ZSE,ST.-PIERRE), (WML,MALAIMBRANDY), (ATJ,ANTSIRABE), (WAQ,ANTSALOVA), (VVB,MAHANORO), (TNR,ANTANANARIVO), (JVA,ANKAVANDRA), (BMD,BELO SUR TSIRIBIHINA), (ZVA,MIANDRIVAZO), (MXT,MAINTIRANO), (ILK,ILAKA EAST), (TVA,MORAFENOBE), (SMS,SAINTE MARIE), (TMM,TOAMASINA), (WTA,TAMBOHORANO), (MOQ,MORONDAVA), (WTS,TSIROANOMANDIDY), (VAT,VATOMANDRY), (DIE,ANTSIRANANA), (WMR,MANANARA), (ZWA,ANDAPA), (AMB,AMBILOBE), (WBD,BEFANDRIANA), (WPB,PORT BERGE), (ANM,ANTALAHA), (IVA,AMBANJA), (HVA,ANALALAVA), (MJN,MAHAJANGA), (NOS,NOSY-BE), (DWB,SOALALA), (BPY,BESALAMPY), (WMN,MAROANTSETRA), (SVB,SAMBAVA), (TTS,TSARATANANA), (VOH,VOHEMAR), (WAI,ANTSOHIHY), (WMA,MANDRITSARA), (WBO,BEROROHA), (WMD,MANDABE), (FTU,TOLAGNARO), (WFI,FIANARANTSOA), (RVA,FARAFANGANA), (IHO,IHOSY), (MJA,MANJA), (WVK,MANAKARA), (OVA,BEKILY), (MNJ,MANANJARY), (TDV,TANANDAVA), (MXM,MOROMBE), (TLE,TOLIARA), (BKU,BETIOKY), (AMP,AMPANIHY), (AZZ,AMBRIZ), (SSY,M'BANZA-CONGO), (BUG,BENGUELA), (CAB,CABINDA), (PGI,CHITATO), (CBT,CAMABATELA), (CAV,CAZOMBO), (NGV,N'GIVA), (NOV,HUAMBO), (SVP,KUITO), (LAD,LUANDA), (MEG,MALANJE), (SPP,MENONGUE), (GXG,NEGAGE), (PBN,PORTO AMBOIM), (VHC,SAURIMO), (SZA,SOYO), (UAL,LUAU), (SDD,LUBANGO), (LUO,LUENA), (UGO,UIGE), (CEO,WAKO KUNGO), (XGN,XANGONGO), (ARZ,N'ZETO), (BGB,BODOUE), (FOU,FOUGAMOU), (MGX,MOABI), (OYE,OYEM), (OKN,OKONDJA), (LBQ,LAMBARENE), (MVX,MINVOUL), (MJL,MOUILA), (BMM,BITAM), (MFF,MOANDA), (MKB,MEKAMBO), (POG,PORT GENTIL), (OMB,OMBOUE HOSPIAL), (MKU,MAKOKOU), (LBV,LIBREVILLE), (MZC,MITZIC), (MVB,FRANCEVILLE), (LTL,LASTOURVILLE), (ZKM,SETTE-CAMA), (TCH,TCHIBANGA), (MYB,MAYUMBA), (PCP,PRINCIPE), (TMS,SAO TOME), (ANO,ANGOCHE), (BEW,BEIRA), (FXO,CUAMBA), (INH,INHAMBANE), (VXC,LICHINGA), (MPM,MAPUTO), (MZB,MOCIMBOA DA PRAIA), (MNC,NACALA), (APL,NAMPULA), (POL,PEMBA), (UEL,QUELIMANE), (TET,TETE), (VNX,VILANKULU), (DES,DESROCHES), (SEZ,MAHE), (PRI,PRASLIN), (BDI,BIRD ISLAND), (DEI,DENIS ISLAND), (SRH,SARH), (OGR,BONGOR), (AEH,ABECHE), (MQQ,MOUNDOU), (ATV,ATI), (NDJ,N'DJAMENA), (BKR,BOKORO), (OTC,BOL), (MVO,MONGO), (AMC,AM-TIMAN), (PLF,PALA), (OUT,BOUSSO), (AMO,MAO), (FYT,FAYA-LARGEAU), (BUQ,BULAWAYO), (BFO,CHIREDZI), (VFA,VICTORIA FALLS), (UTA,MUTARE), (GWE,GWERU), (HRE,HARARE), (KAB,KARIBA), (MVZ,MASVINGO), (VFA,VICTORIA FALLS), (GWE,GWERT), (WKM,HWANGE NATIONAL PARK), (BLZ,BLANTYRE), (DWA,DWANGWA), (KGJ,KARONGA), (LLW,LILONGWE), (MYZ,MONKEY BAY), (LMB,SALIMA), (ZZU,MZUZU), (LRB,LERIBE), (LES,LESOBENG), (MFC,MAFETENG), (MKH,MOKHOTLONG), (MSU,MASERU), (NKU,NKAUS), (UNE,QACHAS NEK), (SHK,SEHONGHONG), (SOK,SEMONKONG), (FIH,KINSHASA), (NLO,KINSHASA), (MNB,MUANDA), (MAT,MATADI), (INO,INONGO), (FDU,BANDOUNDU), (KKW,KIKWIT), (MNB,MOANZA), (MDK,MBANDAKA), (BSU,BASANKUSU), (BDT,GBADOLITE), (GMA,GEMENA), (BMB,BUMBA), (LIQ,LISALA), (BNB,BOENDE), (FKI,KISANGANI), (IRP,ISIRO), (BUX,BUNIA), (BKY,BUKAVU/KAVUMU), (GOM,GOMA), (BNC,BENI), (KND,KINDU), (KWH,KIAPUPE), (FBM,LUBUMASHI), (KWZ,KOLWEZI), (FMI,KALEMIE), (KOO,KONGOLO), (KMN,KAMINA BASE), (KGA,KANANGA), (TSH,TSHIKAPA), (LJA,LODJA), (MJM,MBUJI-MAYI), (BKO,BAMAKO), (GUD,GOUNDAM), (GAQ,GAO), (KTX,KOUTIALA), (KYS,KAYES), (MZI,MOPTI), (NRM,NARA), (NIX,NIORO), (KSS,SIKASSO), (TOM,TOMBOUCTOU), (EYL,YELIMANE), (BJL,BANJUL), (FUE,FUERTEVENTURA), (VDE,HIERRO), (SPC,SANTA CRUZ DE LA PALMA), (LPA,GRAN CANARIA), (ACE,LANZEROTE), (TFS,TENERIFE), (TFN,TENERIFE), (MLN,MELILLA), (BTE,BONTHE), (KBS,BO), (GBK,GBANGBATOK), (HGS,HASTINGS), (KBA,KABALA), (KEN,KENEMA), (FNA,FREETOWN), (WYE,YENGEMA), (BXO,BISSAU), (UCN,BUCHANAN), (CPA,HARPER), (SNI,GREENVILLE), (MLW,MONROVIA), (NIA,GRASSFIELD), (ROB,MONROVIA), (THC,TCHIEN), (AGA,AGADIR), (TTA,TAN TAN), (FEZ,FEZ), (ERH,ER-RACHIDIA), (MEK,MEKNES), (OUD,OUJDA), (CAS,CASABLANCA), (RBA,RABAT), (SII,SIDI IFINI), (CMN,CASABLANCA), (SFI,SAFI), (RAK,MARRAKECH), (NNA,KENTIRA), (OZZ,OUARZAZATE), (AHU,AL HOCIEMA), (TTU,TETOUAN), (TNG,TANGER), (ZIG,ZIGUINCHOR), (KDA,KOLDA), (CSK,CAP SKIRING), (KLC,KAOLACK), (DKR,DAKAR), (MAX,MATAM), (POD,PODOR), (RDT,RICHARD TOLL), (XLS,ST. LOUIS), (BXE,BAKEL), (KGG,KEDOUGOU), (SMY,SIMENTI), (TUD,TAMBACOUNDA), (IEO,AIOUN EL ATROUSS), (OTL,BOUTILIMIT), (THI,TICHITT), (TIY,TIDJIKJA), (BGH,BOGUE), (KFA,KIFFA), (EMN,NEMA), (AJJ,AKJOUJT), (KED,KAEDI), (MOM,MOUDJERIA), (TMD,TIMBEDRA), (NKC,NOUAKSCHOTT), (SEY,SELIBABI), (THT,TAMCHAKETT), (ATR,ATAR), (FGD,F'DERIK), (NDB,NOUADHIBOU), (OUZ,ZOUERATT), (FIG,FIRA), (FAA,FARANAH), (KSI,KISSIDOUGOU), (LEK,LABE), (MCA,MACENTA), (NZE,N'ZEREKORE), (BKJ,BOKE), (SBI,KOUNDARA), (GII,SIGUIRI), (KNN,KANKAN), (SID,AMILCAR CABRAL), (BVC,BOA VISTA), (RAI,FRANCISCO MENDEZ), (MMO,MAIO), (RAI,PRAIA), (SNE,SAO NOCOLAU ISLAND), (VXE,SAO VICENTE ISLAND), (ADD,ADDIS ABABA), (AMH,ARBA MINCH), (AXU,AXUM), (ASM,ASMARA), (XBL,BUNNO BEDELE), (BCO,BACO), (BJR,BAHAR DAR), (BEI,BEICA), (BCY,BULCHI), (DSE,DESSIE), (DEM,DEMBIDOLLO), (ABK,KABRE DARE), (DBM,DEBRE MARCOS), (DIR,DIRE DAWA), (DBT,DEBRE TABOR), (GOB,GOBA), (GNN,GHINNIR), (GMB,GAMBELLA), (GDQ,GONDAR), (GCE,GODE), (GOR,GORE), (HUE,HUMERA), (JIM,JIMMA), (AWA,AWASA), (LLI,LALIBELLA), (MQX,MAKALE), (MZX,MASSLO), (ETE,METEMA), (NDM,MENDI), (OTA,MOTA), (MUJ,MUI RIVER), (MSW,MASSAWA), (MTF,MIZAN TEFERI), (NEK,NEKEMTE), (ASA,ASSAB), (SXU,SODO), (ASO,ASOSA), (TIE,TIPPI), (TES,TESSENEI), (WAC,WACCA), (BJM,BUJUMBURA), (GID,GITEGA), (KRE,KIRUNDO), (ALU,ALULA), (HGA,HARGEISA), (BBO,BERBERA), (KMU,KISMAYU), (MGQ,MOGADISHU), (GLK,GALCAIO), (BUO,BURAO), (ALY,ALEXANDRIA), (ABS,ABU SIMBEL), (CAI,CAIRO), (HRG,HURGHADA), (LXR,LUXOR), (MUH,MERSA-MATRUH), (UVL,NEW VALLEY), (PSD,PORT SAID), (SKV,ST. CATHERINE), (ASW,ASWAN), (ELT,EL-TOR), (JIB,DJIBOUTI), (ASV,AMBOSELI), (EDL,ELDORET), (FER,KALOKOL), (GAS,GARISSA), (KIS,KISUMU), (ILU,KILAGUNI), (KEY,KERICHO), (KTL,KITALE), (LOK,LODWAR), (LAU,LAMU), (LOY,LOYANGALANI), (NDE,MANDERA), (RBT,MARSABIT), (MYD,MALINDI), (MBA,MOMBASA), (OYL,MOYALE LOWER), (NBO,NAIROBI), (NYE,NYERI), (NUU,NAKURU), (WIL,NAIROBI), (NYK,NANYUKI), (UAS,SAMBURU), (WJR,WAJIR), (GHT,GHAT), (AKF,KUFRA), (BEN,BENGHAZI), (SEB,SEBHA), (TIP,TRIPOLI), (LTD,GHADAMES), (GYI,GISENYI), (KGL,KIGALI), (RHG,RUHENGERI), (KME,KAMEMBE), (ATB,ATBARA), (EGN,GENEINA), (DOG,DONGOLA), (ELF,EL FASHER), (KSL,KASSALA), (MWE,MEROWE), (UYL,NYALA), (EBD,EL OBEID), (JUB,JUBA), (MAK,MALAKAL), (PZU,PORT SUDAN), (KRT,KHARTOUM), (WUU,WAU), (ARK,ARUSHA), (BKZ,BUKOBA), (DAR,DAR ES SALAAM), (DOD,DODOMA), (IRI,IRINGA), (JRO,KILIMANJARO), (LDI,LINDI), (MFA,MAFIA), (QSI,MOSHI), (MYW,MTWARA), (MUZ,MUSOMA), (MWZ,MWANZA), (NCH,NACHINGWEA), (PMA,PEMBA), (SGX,SONGEA), (SUT,SUMBAWANGA), (SHY,SHINYANGA), (TBO,TABORA), (TGT,TANGA), (ZNZ,ZANZIBAR), (RUA,ARUA), (EBB,ENTEBBE), (KSE,KASESE), (SRT,SOROTI), (ABI,ABILENE), (ABQ,ALBUQUERQUE), (ACK,NANTUCKET), (ACT,WACO), (ACY,ATLANTIC CITY), (ADM,ARDMORE), (ADW,CAMP SPRINGS), (AEX,ALEXANDRIA), (AGS,BUSH FIELD), (AKR,AKRON), (ALB,ALBANY), (ALI,ALICE), (AMA,AMARILLO), (ANB,ANNISTON), (AND,ANDERSEN), (AOO,ALTOONA), (APG,ABERDEEN), (ARA,LOUISIANA), (ART,WATERTOWN), (ATL,ATLANTA), (AUG,AUGUSTA), (AUS,AUSTIN), (BAB,MARYSVILLE), (BAD,SHREVEPORT), (BCT,BOCA RATON), (BDE,BAUDETTE), (BDL,WINDSOR LOCKS), (BDR,STRATFORD), (BED,BEDFORD), (BFI,SEATTLE), (BFL,BAKERSFIELD), (BFM,MOBILE), (BGR,BANGOR), (BHM,BIRMINGHAM), (BIF,EL PASO), (BIX,BILOXI), (BKF,BUCKLEY), (BLI,BELLINGHAM), (BLV,BELLEVILLE), (BNA,NASHVILLE), (BOI,BOISE), (BOS,BOSTON), (BPT,BEAUMONT), (BRO,BROWNSVILLE), (BTR,BATON ROUGE), (BTV,BURLINGTON), (BUF,BUFFALO), (BUR,BURBANK), (BWI,BALTIMORE), (BYH,BLYTHEVILLE), (BYS,FORT IRWIN), (CAE,COLOMBIA), (CAR,CARIBOU), (CBM,COLOMBUS), (CDC,CEDAR CITY), (CDS,CHILDRESS), (CEF,CHICOPEE FALLS), (CEW,CRESTVIEW), (CFD,BRYAN), (CHA,CHATTANOOGA), (CHS,CHARLESTON), (CIC,CHICO), (CLE,CLEVELAND), (CLL,COLLEGE STATION), (CLT,CHARLOTTE), (CMH,COLUMBUS), (CNM,CARLSBAD), (CNW,WACO), (COF,COCO BEACH), (COS,COLORADO SPRINGS), (COT,COTULLA), (COU,COLUMBIA), (CPR,CASPER), (CRP,CORPUS CHRISTI), (CTB,CUTBANK), (CVG,CINCINNATI), (CVS,CLOVIS), (CXL,CALEXICO), (CXO,CONROE), (CYS,CHEYENNE), (DAL,DALLAS), (DAY,DAYTON), (DCA,WASHINGTON), (DEN,DENVER), (DET,DETROIT), (DFW,DALLAS-FORT WORTH), (DHN,DOTHAN), (DHT,DALHART), (DLF,DEL RIO), (DLH,DULUTH), (DMA,TUCSON), (DOV,DOVER), (DPA,WEST CHICAGO), (DRI,DERIDDER), (DRO,DURANGO), (DRT,DEL RIO), (DSM,DES MOINES), (DTW,DETROIT), (DUG,DOUGLAS), (DYS,ABILENE), (ECG,ELIZABETH CITY), (EDW,EDWARDS AFB), (EFD,HOUSTON), (EGP,EAGLE PASS), (EKN,ELKINS), (ELD,EL DORADO), (ELP,EL PASO), (END,ENID), (ENV,WENDOVER), (ESF,ALEXANDRIA), (EWN,NEW BERN), (EWR,NEWARK), (EYW,KEY WEST), (FAF,FORT EUSTIS), (FAT,FRESNO), (FCS,FORT CARSON), (FFO,DAYTON), (FHU,FORT HUACHUCA), (FLL,FORT LAUDERDALE), (FLO,FLORENCE), (FLV,FORT LEAVENWORTH), (FMH,FALMOUTH), (FMN,FARMINGTON), (FMY,FORT MYERS), (FOD,FORT DODGE), (FOE,TOPEKA), (FOK,WEST HAMPTON BEACH), (FRI,FORT RILEY), (FSI,FORT SILL), (FSM,FORT SMITH), (FTK,FORT KNOX), (FTW,FORT WORTH), (FXE,FORT LAUDERDALE), (FYV,FAYETTEVILLE), (GAG,GAGE), (GCK,GARDEN CITY), (GEG,SPOKANE), (GFK,GRAND FORKS), (GGG,LONGVIEW), (GLS,GALVESTON), (GNT,GRANTS), (GNV,GAINESVILLE), (GRB,GREEN BAY), (GRF,FORT LEWIS), (GRK,KILLEEN), (GRR,GRAND RAPIDS), (GSB,GOLDSBORO), (GTB,FORT DRUM), (GTF,GREAT FALLS), (GUS,PERU), (GVT,GREENVILE), (GVW,GRANDVIEW), (GWO,GREENWOOD), (HAR,HARRISBURG), (HBR,HOBART), (HFD,HARTFORD), (HHR,HAWTHORNE), (HIB,HIBBING), (HIF,OGDEN), (HKY,HICKORY), (HLN,HELENA), (HLR,FORT HOOD), (HMN,ALAMOGORDO), (HOB,HOBBS), (HON,HURON), (HOP,HOPKINSVILLE), (HOU,HOUSTON), (HPN,WHITE PLAINS), (HRL,HARLINGEN), (HRO,HARRISON), (HRT,MARY ESTHER), (HST,HOMESTEAD), (HTL,HOUGHTON LAKE), (HUA,REDSTONE), (HUF,TERRE HAUTE), (HUL,HOULTON), (HVR,HAVRE), (HWO,HOLLYWOOD), (IAB,WICHITA), (IAD,WASHINGTON), (IAG,NIAGARA FALLS), (IAH,HOUSTON), (ICT,WICHITA), (IKK,KANKAKEE), (ABQ,KIRTLAND A.F.B.), (ILG,WILMINGTON), (ILM,WILMINGTON), (IND,INDIANAPOLIS), (INK,WINK), (INL,INTERNATIONAL FALLS), (INS,INDIAN SPRINGS), (INT,WINSTON-SALEM), (IPL,IMPERIAL), (IPT,WILLIAMSPORT), (ISN,WILLISTON), (ISP,ISLIP), (JAN,JACKSON), (JAX,JACKSONVILLE), (JBR,JONESBORO), (JFK,NEW YORK), (LAN,LANSING), (LAS,LAS VEGAS), (LAX,LOS ANGELES), (LBB,LUBBOCK), (LCH,LAKE CHARLES), (LCK,COLUMBUS), (LFI,HAMPTON), (LFK,LUFKIN), (LFT,LAFAYETTE), (LGA,NEW YORK), (LGB,LONG BEACH), (LHW,WRIGHT), (LIT,LITTLE ROCK), (LNA,WEST PALM BEACH), (LNK,LINCOLN), (LOU,LOUISVILLE), (LRD,LAREDO), (LRF,JACKSONVILLE), (LSF,FORT BENNING), (LSV,LAS VEGAS), (LTS,ALTUS), (LUF,PHOENIX), (LUK,CINCINNATI), (MAF,MIDLAND), (MCC,SACRAMENTO), (MCF,TAMPA), (MCI,KANSAS CITY), (MCN,MACON), (MCO,ORLANDO), (MDT,HARRISBURG), (MDW,CHICAGO), (MEM,MEMPHIS), (MER,MERCED), (MFE,MCALLEN), (MGE,MARIETTA), (MHR,SACRAMENTO), (MIA,MIAMI), (MIB,MINOT), (MIV,MILLVILLE), (MKE,MILWAUKEE), (MKL,JACKSON), (MKO,MUSKOGEE), (MLB,MELBOURNE), (MLC,MCALESTER), (MLT,MILLINOCKET), (MLU,MONROE), (MMV,MACKMINNVILLE), (MNM,MACON), (MOB,MOBILE), (MOD,MODESTO), (MOT,MINOT), (MPV,MONTPELIER), (MQT,MARQUETTE), (MSN,MADISON), (MSP,MINNEAPOLIS), (MSS,MASSENA), (MSY,NEW ORLEANS), (MTC,MOUNT CLEMENS), (MUI,MUIR), (MUO,MOUNTAIN HOME), (MWH,GRANT COUNTY AIRPORT), (MWL,MINERAL WELLS), (MXF,MONTGOMERY), (MYR,MYRTLE BEACH), (ABY,ALBANY), (NBC,BEAUFORT), (NBG,NEW ORLEANS), (NCA,JACKSONVILLE), (BQK,BRUNSWICK), (NEL,LAKEHURST), (NFL,FALLON), (NGU,NORFOLK), (NHK,PATUXENT RIVER), (NID,CHINA), (NIP,JACKSONVILLE), (NJK,EL CENTRO), (NKT,CHERRY POINT), (NKX,MIRAMAR), (NLC,LEMOORE), (NMM,MERIDIAN), (NOW,PORT ANGELES), (NPA,PENSACOLA), (NQA,MILLINGTON), (NQI,KINGSVILLE), (NQX,KEY WEST), (SFB,SANFORD), (NSE,MILTON), (NTD,POINT MUGU), (NTK,TUSTIN), (NTU,OCEANA), (NUQ,MOUNTAIN VIEW), (NUW,WHIDBEY ISLAND), (NXP,TWENTY NINE PALMS), (NXX,WILLOW GROVE), (NYG,QUANTICO), (NZC,JACKSONVILLE), (NZY,SAN DIEGO), (OAK,OAKLAND), (OFF,OMAHA), (OGS,OGDENSBURG), (OKC,OKLAHOMA CITY), (OLS,NOGALES), (OMA,OMAHA), (ONT,ONTARIO), (OPF,MIAMI), (ORD,CHICAGO), (ORF,NORFOLK), (ORL,ORLANDO), (PAE,EVERETT), (PAM,PANAMA CITY), (PBF,PINE BLUFF), (PBG,PLATTSBURGH), (PBI,WEST PALM BEACH), (PDX,PORTLAND), (PHF,NEWPORT NEWS), (PHL,PHILADELPHIA), (PHN,PORT HURON), (PHX,PHOENIX), (PIE,ST. PETERSBURG), (PIT,PITTSBURGH (PENNSYLVA)), (PMD,PALMDALE), (PNC,PONCA CITY), (PNE,PHILADELPHIA), (PNM,PRINCETON), (PNS,PENSACOLA), (POB,FAYETTEVILLE), (POE,FORT POLK), (PQI,PRESQUE ISLE), (PRC,PRESCOTT), (PSP,PALM SPRINGS), (PSX,PALACIOS), (PUB,PUEBLO MEMORIAL), (PVD,PROVIDENCE), (PWM,PORTLAND), (RAL,RIVERSIDE), (RBM,ROBINSON), (RCA,RAPID CITY), (RDR,RED RIVER), (RDU,RALEIGH-DURHAM), (RIC,RICHMOND), (RIU,RANCHO MURIETA), (RIV,RIVERSIDE), (RME,ROME), (RND,SAN ANTONIO), (RNO,RENO), (ROC,ROCHESTER), (ROW,ROSWELL), (RSW,FORT MYERS), (SAC,SACRAMENTO), (SAF,SANTA FE), (SAN,SAN DIEGO), (SAT,SAN ANTONIO), (SAV,SAVANNAH), (SBO,SANTA BARBARA), (SBY,SALISBURY), (SCK,STOCKTON), (SEA,SEATTLE), (SEM,SELMA), (SFF,SPOKANE), (SFO,SAN FRANCISCO), (SFZ,SMITHFIELD), (SHV,SHREVEPORT), (SJC,SAN JOSE), (SJT,SAN ANGELO), (SKA,SPOKANE), (SKF,SAN ANTONIO), (SKY,SANDUSKY), (SLC,SALT LAKE CITY), (SMF,SACRAMENTO), (SNA,SANTA ANA), (SPB,SAN LUIS), (SPG,ST. PETERSBURG), (SPS,WICHITA FALLS), (SSC,SUMTER), (STL,ST. LOUIS), (SUU,FAIRFIELD), (SUX,SIOUX CITY), (SVN,HUNTER AAF), (SWF,NEWBURGH), (SYR,SYRACUSE), (SZL,KNOBNOSTER), (TBN,FORT LEONARDWOOD), (TCC,TUCUMCARI), (TCM,TACOMA), (TCS,TRUTH OR CONSEQUENCES), (TEB,TETERBORO), (TIK,OKLAHOMA CITY), (TLH,TALLAHASSEE), (TMB,KENDALL-TAMIAMI), (TNT,MIAMI), (TPA,TAMPA), (TTN,TRENTON), (TUL,TULSA), (TUS,TUCSON), (TXK,TEXARKANA), (TYR,TYLER), (TYS,KNOXVILLE), (UGN,CHICAGO), (VAD,VALDOSTA), (VBG,LOMPOC), (VCV,VICTORVILLE), (VPS,VALPARAISO), (VRB,VERO BEACH), (WAL,WALLOPS ISLAND), (WRB,MACON), (WRI,WRIGHTSTOWN), (WSD,WHITE SANDS), (WWD,WILDWOOD), (YIP,DETROIT), (YNG,YOUNGSTOWN), (YUM,YUMA), (ZUN,ZUNI PUEBLO), (TIA,TIRANA), (BOJ,BOURGAS), (GOZ,GORNA ORECHOVICA), (PDV,PLOVDIV), (ROU,ROUSSE), (SOF,SOFIA), (VAR,VARNA), (LCA,LARNACA), (PFO,PAPHOS), (AKT,AKROTIRI), (ELU,EL OUED), (DBV,DUBROVNIK), (OSI,OSIJEK), (PUY,PULA), (RJK,RIJEKA), (SPU,SPLIT), (ZAG,ZAGREB), (ZAD,ZADAR), (ALC,ALICANTE), (LEI,ALMERIA), (OVD,AVILES), (ODB,CORDOBA), (BIO,BILBAO), (BCN,BARCELONA), (BJZ,BADAJOZ), (LCG,LA CORUNA), (GRX,GRANADA), (GRO,GERONA), (GRX,GRANADA), (IBZ,IBIZA), (XRY,JEREZ), (MJV,MURCIA), (MAD,MADRID), (AGP,MALAGA), (MAH,MENORCA), (OZP,SEVILLA), (PMI,PALMA DE MALLORCA), (PNA,PAMPLONA), (REU,REUS), (SLM,SALAMANCA), (EAS,SAN SEBASTIAN), (SCQ,SANTIAGO), (LEU,SEO DE URGEL), (TOJ,MADRID), (VLC,VALENCIA), (VLL,VALLADOLID), (VIT,VITORIA), (VGO,VIGO), (SDR,SANTANDER), (ZAZ,ZARAGOZA), (SVQ,SEVILLA), (CQF,CALAIS), (LTQ,LE TOURQUET), (AGF,AGEN), (BOD,BORDEAUX), (EGC,BERGERAC), (CNG,COGNAC), (PIS,POITIERS), (MCU,MONTLUCON-GUERET), (LIG,LIMOGES), (NIT,NIORT), (TLS,TOULOUSE), (PUF,PAU), (LRH,LA ROCHELLE), (LDE,TARBES), (ANG,ANGOULEME), (BVE,BRIVE), (PGX,PERIGUEUX), (BIQ,BIARRITZ-BAYONNE), (XAC,ARCACHON), (LBI,ALBI), (DCM,CASTRES), (RDZ,RODEZ), (RYN,ROYAN), (RCO,ROCHEFORT), (CMR,COLMAR), (DLE,DOLE), (OBS,AUBENAS-VALS-LANAS), (LPY,LE PUY), (XBK,BOURG), (XVF,VILEFRANCE), (XMU,MOULINS), (ETZ,METZ), (BIA,BASTIA), (CLY,CALVI), (FSC,FIGARI), (AJA,AJACCIO), (SOZ,SOLENZARA), (AUF,AUXERRE), (CMF,CHAMBERY), (CFE,CLERMONT FERRAND), (BOU,BOURGES), (XCD,CHALON), (QNJ,ANNEMASSE), (CVF,COURCHEVEL), (LYS,LYON), (QNX,MACON), (RNE,ROANNE), (NCY,ANNECY), (GNB,GRENOBLE), (MCU,MONTLUCON), (VAF,VALENCE), (VHY,VICHY), (AUR,AURILLAC), (CHR,CHATEAUROUX), (LYN,LYON), (QXB,AIX-LES-MILLES), (CEQ,CANNES), (EBU,ST.-ETIENNE), (CCF,CARCASSONNE), (MRS,MARSEILLE), (NCE,NICE), (PGF,PERPIGNAN), (CTT,LE CASTELLET), (MPL,MONTPELLIER), (BZR,BEZIERS), (AVN,AVIGNON), (MEN,MENDE), (BVA,BEAUVAIS), (LEH,LE HAVRE), (ORE,ORLEANS), (URO,ROUEN), (TUF,TOURS), (CET,CHOLET), (LVA,LAVAL), (LBG,PARIS), (CSF,CREIL), (CDG,PARIS), (JDP,PARIS), (TNF,TOUSSOUS-LE-NOBLE), (ORY,PARIS), (POX,PONTOISE), (QYR,TROYES), (NVS,NEVERS), (LIL,LILLE), (BES,BREST), (CER,CHERBOURG), (DNR,DINARD), (DOL,DEAUVILLE), (LRT,LORIENT), (EDM,LA ROCHE-SUR-YON), (CFR,CAEN), (LME,LE MANS), (RNS,RENNES), (LAI,LANNION), (UIP,QUIMPER), (NTE,NANTES), (SBK,ST.-BRIEUC ARMOR), (MXN,MORLAIX), (VNE,VANNES), (SNR,ST.-NAZAIRE), (MLH,MULHOUSE), (DIJ,DIJON), (MZM,METZ), (EPL,EPINAL), (ENC,NANCY), (BOR,BELFORT), (RHE,REIMS), (SXB,STRASSBOURG), (TLN,HYERES), (TLN,TOULON), (FNI,NIMES), (FSP,ST.-PIERRE), (PYR,ANDRAVIDA), (AGQ,AGRINION), (AXD,ALEXANDROUPOLIS), (HEW,ATHENS), (VOL,NEA ANGHIALOS), (JKH,CHIOS), (IOA,IOANNINA), (HER,HERAKLION), (KSO,KASTORIA), (KIT,KITHIRA), (EFL,KEFFALLINIA), (KZS,KASTELORIZO), (KLX,KALAMATA), (KGS,KOS), (AOK,KARPATHOS), (CFU,KERKYRA/CORFU), (KSJ,KASOS), (KVA,KAVALA), (KZI,KOZANI), (LRS,LEROS), (LXS,LIMNOS), (LRA,LARISSA), (JMK,MYKONOS), (MLO,MILOS), (MJT,MYTILINI), (PAS,PAROS), (PVK,PREVEZA), (RHO,RHODOS), (GPA,PATRAS), (CHQ,CHANIA), (JSI,SKIATHOS), (SMI,SAMOS), (JTR,SANTORINI), (JSH,SITIA), (SKU,SKIROS), (SKG,THESSALONIKI), (VOL,VOLOS), (ZTH,ZAKYNTHOS), (BUD,BUDAPEST), (DEB,DEBRECEN), (BDS,BRINDISI), (CRV,CROTONE), (BRI,BARI), (FOG,FOGGIA), (TAR,GROTTAGLIE), (LCC,LECCE), (PSR,PESCARA), (BDS,BRINDISI), (SUF,LAMEZIA), (CTA,CATANIA), (LMP,LAMPEDUSA), (PNL,PANTELLERIA), (PMO,PALERMO), (PMO,PALERMO), (REG,REGGIO CALABRIA), (TPS,TRAPANI), (NSY,SIGONELLA), (AHO,ALGHERO), (DCI,DECIMOMANNU), (CAG,CAGLIARI), (OLB,OLBIA), (TTB,TORTOLI), (MXP,MILANO), (BGY,BERGAMO), (TRN,TORINO), (ALL,ALBENGA), (GOA,GENOA), (LIN,MILAN), (PMF,PARMA), (QPZ,PIACENZA), (CUF,LEVALDIGI), (AVB,AVIANO), (BZO,BOLZANO), (BLQ,BOLOGNA), (TSF,TREVISO), (FRL,FORLI), (VBS,MONTICHIARI), (TRS,RONCHI DE LEGIONARI), (RMI,RIMINI), (VIC,VICENZA), (QPA,PADOVA), (VRN,VILLAFRANCA), (VCE,VENICE), (SAY,SIENA), (CIA,ROME), (FCO,ROME), (EBA,MARINA DI CAMPO), (QLT,LATINA), (NAP,NAPLES), (PSA,PISA), (FLR,FIRENZE), (GRS,GROSSETO), (PEG,PERUGIA), (TRS,TRIEST), (LJU,LJUBLIANA), (MBX,MARIBOR), (POW,PORTOROZ), (KLV,KARLOVY VARY), (OSR,OSTRAVA), (PED,PARDUBICE), (PRV,PREROV), (PRG,PRAGUE), (BRQ,TURANY), (TLV,TEL-AVIV), (BEV,BEER-SHEBA), (ETH,ELAT), (HFA,HAIFA), (RPN,ROSH PINA), (JRS,JERUSALEM), (MTZ,METZADA), (VDA,OVDA), (SDV,TEL-AVIV), (MLA,MALTA), (MCM,MONACO), (GRZ,GRAZ), (INN,INNSBRUCK), (KLU,KLAGENFURT), (LNZ,LINZ), (SZG,SALZBURG), (VIE,VIENNA), (SMA,SANTA MARIA (ISLAND)), (BGC,BRAGANCA), (FLW,FLORES (FLORES ISL.)), (FAO,FARO), (FNC,FUNCHAL), (GRW,GRACIOSA ISLAND), (HOR,HORTA), (TER,LAJES (TERCEIRA ISLAND)), (PDL,PONTA DELGADA), (PIX,PICO), (OPO,PORTO), (PXO,PORTO SANTO), (LIS,LISBON), (SJZ,SAO JORGE ISLAND), (VRL,VILA REAL), (OMO,MOSTAR), (SJJ,SARAJEVO), (ARW,ARAD), (BCM,BACAU), (BAY,BAIA MARE), (BBU,BUCHAREST), (CND,CONSTANTA), (CLJ,CLUJ-NAPOCA), (CSB,CARANSEBES), (CRA,CRAIOVA), (IAS,IASI), (OMR,ORADEA), (OTP,BUCHAREST), (SBZ,SIBIU), (SUJ,SATU MARE), (SCV,SUCEAVA), (TCE,TULCEA), (TGM,TIRGU MURES), (TSR,TIMISOARA), (GVA,GENEVA), (SIR,SION), (SMV,ST. MORITZ), (LUG,LUGANO), (BRN,BERN), (ZRH,ZURICH), (ACH,ALTENRHEIN), (SMV,SAMEDAN), (ESB,ANKARA), (ANK,ANKARA), (ADA,ADANA), (ADA,ADANA), (AFY,AFYON), (AYT,ANTALYA), (GZT,GAZIANTEP), (KYA,KONYA), (MZH,MERZIFON), (SSX,SAMSUN), (VAS,SIVAS), (MLX,MALATYA), (ASR,KAYSERI), (DNZ,DENIZLI), (IST,ISTANBUL), (BTZ,BURSA), (BZI,BALIKESIR), (BDM,BANDIRMA), (ESK,ESKISEHIR), (ADB,IZMIR), (IGL,IZMIR), (DLM,DALAMAN), (EZS,ELAZIG), (DIY,DIYABAKIR), (ERC,ERZINCAN), (ERZ,ERZURUM), (TZX,TRABZON), (VAN,VAN), (BAL,BATMAN), (KIV,KICHINAU FIR/ACC/COM), (OHD,OHRID), (SKP,SKOPJE), (GIB,GIBRALTAR), (BEG,BEOGRAD), (INI,NIS), (TGD,PODGORICA), (PRN,PRISTINA), (TIV,TIVAT), (BTS,BRATISLAVA), (KSC,KOSICE), (PZY,PIESTANY), (SLD,SLIAC), (TAT,POPRAD), (GDT,GRAND TURK), (MDS,MIDDLE CAICOS), (NCA,NORTH CAICOS), (PLS,PROVIDENCIALES), (XSC,SOUTH CAICOS), (SLX,SALT CAY), (BRX,BARAHONA), (HEX,SANTO DOMINGO), (LRM,LA ROMANA), (PUJ,PUNTA CANA), (POP,PUERTO PLATA), (SDQ,SANTO DOMINGO), (STI,SANTIAGO), (CBV,COBAN), (FRS,FLORES), (GUA,GUATEMALA CITY), (LCE,LA CEIBA), (SAP,SAN PEDRO SULA), (GJA,GUANAJA), (PEU,PUERTO LEMPIRA), (RTB,ROATAN), (TEA,TELA), (TGU,TEGUCIGALPA), (UII,UTILA), (OCJ,OCHO RIOS), (KIN,KINGSTON), (MBJ,MONTEGO BAY), (POT,PORT ANTONIO), (NEG,NEGRIL), (KTP,KINGSTON), (ACA,ACAPULCO), (NTR,MONTERREY), (AGU,AGUASCALIENTES), (HUX,BAHIAS DEHUATULCO), (CVJ,CUERNAVACA), (CME,CIUDAD DEL CARMEN), (CUL,CULIACAN), (CTM,CHETUMAL), (CEN,CIUDAD OBREGON), (CPE,CAMPECHE), (CJS,CIUDAD JUAREZ), (CUU,CHIHUAHUA), (CVM,CIUDAD VICTORIA), (CZM,COZUMEL), (MMC,CIUDAD MANTE), (DGO,DURANGO), (TPQ,TEPIC), (ESE,ENSENADA), (GDL,GUADALAJARA), (GYM,GUAYMAS), (TCN,TEHUACAN), (HMO,HERMOSILLO), (CLQ,COLIMA), (ISJ,ISLA MUJERES), (SLW,SALTILLO), (LZC,LAZARD CARDENAS), (LMM,LOS MOCHIS), (BJX,DEL BAJIO), (LAP,LA PAZ), (LTO,LORETO), (MAM,MATAMOROS), (MID,MERIDA), (MXL,MEXICALI), (MLM,MORELIA), (MTT,MINATITLAN), (LOV,MONCLOVA), (MEX,MEXICO CITY), (MTY,MONTERREY), (MZT,MAZATLAN), (NOG,NOGALES), (NLD,NUEVO LAREDO), (OAX,OAXACA), (PAZ,POZA RICO), (PBC,PUEBLA), (PCA,PACHUCA), (PPE,PUNTA PENASCO), (PDS,PIEDRAS NEGRAS), (UPN,URUAPAN), (PVR,PUERTO VALLARTA), (PXM,PUERTO ESCONDIDO), (QRO,QUERETARO), (REX,REYNOSA), (SJD,SAN JOSE DEL CABO), (SLP,SAN LUIS POTOSI), (TXA,TLAXCALA), (TRC,TORREON), (TGZ,TUXTLA GUTIERREZ), (TIJ,TIJUANA), (TAM,TAMPICO), (TSL,TAMUIN), (TLC,TOLUCA), (TAP,TAPACHULA), (CUN,CANCUN), (VSA,VILLAHERMOSA), (VER,VERA CRUZ), (ZCL,ZACATECAS), (ZIH,ZIHUATANEJO), (ZMM,ZAMORA), (ZLO,MANZANILLO), (BEF,BLUEFIELDS), (MGA,MANAGUA), (PUZ,PUERTO CABEZAS), (SIU,SIUNA), (BOC,BOCAS DEL TORO), (CHX,CHANGUINOLA), (DAV,DAVID), (HOW,HOWARD), (PAC,PANAMA), (PTY,PANAMA CITY), (OTR,COTO 47), (GLF,GOLFITO), (LIR,LIBERIA), (LIO,LIMON), (LSP,LAS PIEDRAS), (NOB,NOSARA BEACH), (SJO,SAN JOSE), (PMZ,PALMAR SUR), (XQP,QUEPOS), (SAL,SAN SALVADOR), (CAP,CAP HAITIEN), (PAP,PORT-AU-PRINCE), (BCA,BARACOA PLAYA), (BYM,BAYAMO), (AVI,CIEGO DE AVILA), (CFG,CIENFUEGOS), (CYO,CAYO), (CMW,CAMAGUEY), (ONX,COLON), (SCU,SANTIAGO DE CUBA), (GAO,GUANTANAMO), (HAV,HAVANA), (HOG,HOLGUIN), (LCL,LA COLOMA), (MOA,MOA), (MZO,MANZANILLO), (GER,NUEVA GERONA), (SNU,SANTA CLARA), (VRA,VARADERO), (VTU,LAS TUNAS), (CYB,CAYMAN BARAC), (GCM,GRAND CAYMAN), (LYB,LITTLE CAYMAN), (GCM,GEORGETOWN), (ASD,ANDROS TOWN), (MHH,MARSH HARBOR), (SAQ,SAN ANDROS), (AXP,SPRING POINT), (TCB,TREASURE CAY), (WKR,WALKERS CAY), (CCZ,CHUB CAY), (BIM,ALICE TOWN), (GGT,GREAT EXUMA), (GGT,GEORGE TOWN), (ELH,NORTH ELEUTHERA), (GHB,GOVERNOR'S HARBOR), (RSD,ROCK SOUND), (FPO,FREEPORT), (WTD,WEST END), (IGA,MATTHEW TOWN), (LGI,DEAD MAN'S CAY), (SML,STELLA MARIS), (MYG,MAYAGUANA), (NAS,NASSAU), (ZSA,COCKBURN TOWN), (BZE,BELIZE CITY), (AIT,AITUTAKI), (AIU,ATIU ISLAND), (PYE,PENRHYN ISLAND), (RAR,AVARUA), (ICI,CICIA), (CST,CASTAWAY ISLD.), (NAN,NANDI), (PTF,MALOLO LAILAI), (MNF,MANA ISLAND), (MFJ,MOALA), (SUV,NAUSORI), (LKB,LAKEMBA), (LMG,LAMBASA), (RTA,ROTUMA ISLAND), (SVU,SAVU SAVU), (SUV,SUVA), (EUA,EUA), (TBU,TONGATAPU), (HPA,HA'APAI), (NFO,NIUAFO'OU), (NTT,NIUATOPUTAPU), (VAV,VAVA'U), (ABF,ABAIANG), (BEZ,BERU), (FUN,FUNAFUTI), (MNK,MAIANA), (MZK,MARAKEI), (MTK,MAKIN ISLAND), (NIG,NIKUNAU), (OOT,ONOTOA), (TRW,TARAWA), (AEA,ABEMAMA ATOLL), (TBF,TABITEUEA NORTH), (TMN,TAMANA), (NON,NONOUTI), (AIS,ARORAE ISLAND), (TSU,TABITEUEA SOUTH), (BBG,BUTARITARI), (HUE,ALOFI), (FUT,FUTUNA), (WLS,WALLIS), (APW,APIA), (APW,FALEOLO), (MXS,MAOTA), (PPG,PAGO PAGO), (RUR,RURUTU), (TUB,TUBUAI), (AAA,ANAA), (TIH,TIKEHAU), (APK,APATAKI), (REA,REAO), (FAV,FAKARAVA), (XMH,MANIHI), (GMR,TOTEGEGIE), (KKR,KAUKURA ATOLL), (MKP,MAKEMO), (NAU,NAPUKA ISLAND), (TKV,TATAKOTO), (PKP,PUKA PUKA), (PUK,PUKARUA), (TKP,TAKAPOTO), (AXR,ARUTUA), (MVT,MATAIVA), (NUK,NUKUTAVAKE), (FHZ,FAKAHINA), (TKX,TAKAROA), (NHV,NUKU HIVA), (UAP,UA POU), (UAH,UA HUKA), (BOB,BORA BORA), (RGI,RANGIROA), (HUH,HUAHINE ISLAND), (MOZ,MOOREA), (HOI,HAO ISLAND), (MAU,MAUPITI), (RFP,RAIATEA ISLAND), (VHZ,VAHITAHI), (SLH,SOLA), (EAE,EMAE), (CCV,CRAIG COVE), (LOD,LONGANA), (SSR,SARA), (LPM,LAMAP), (LNB,LAMEN BAY), (MWF,MAEWO-NAONE), (LNE,LONORORE), (NUS,NORSUP), (TGH,TONGOA), (ULB,ULEI), (VLS,VALESDIR), (WLH,WALAHA), (SWJ,SOUTH WEST BAY), (AWD,ANIWA), (DLY,DILLON'S BAY), (FTA,FUTUNA ISLAND), (IPA,IPOTA), (VLI,PORT-VILA), (ILP,ILE DES PINS), (TGJ,TIGA), (KNQ,KONE), (KOC,KOUMAC), (LIF,LIFOU), (GEA,NOUMEA), (MEE,MARE), (TOU,TOUHO), (UVE,OUVEA), (NOU,NOUMEA), (AKL,AUCKLAND), (TUO,TAUPO), (BHE,BLENHEIM), (CHC,CHRISTCHURCH), (CHT,CHATHAM ISLAND), (DUD,DUNEDIN), (GIS,GISBORNE), (MON,GLENTANNER), (HKK,HOKITIKA), (HLZ,HAMILTON), (KKE,KERIKERI), (KAT,KAITAIA), (ALR,ALEXANDRA), (GTN,MOUNT COOK), (MFN,MILFORD SOUND), (MZP,MOTUEKA), (TEU,MANAPOURI), (MRO,MASTERTON), (NPE,NAPIER), (NPL,NEW PLYMOUTH), (NSN,NELSON), (IVC,INVERCARGILL), (PCN,PICTON), (OAM,OAMARU), (PMR,PALMERSTON NORTH), (PPQ,PARAPARAUMU), (ZQN,QUEENSTOWN INTERNATIONAL), (ROT,ROTORUA), (TRG,TAURANGA), (TKF,TAKAKA), (TIU,TIMARU), (TEU,TE ANAU), (BHE,WOODBOURNE), (WKA,WANAKA), (WHK,WHAKATANE), (WLG,WELLINGTON), (WRE,WHANGAREI), (WSZ,WESTPORT), (WAG,WANGANUI), (BIM,BAMYAN), (BST,BOST), (CCN,CHAKHCHARAN), (FAH,FARAH), (FBD,FAIZABAD), (GRG,GARDEZ), (KWH,KHWAHAN), (HEA,HERAT), (JAA,JALALABAD), (KBL,KABUL), (KDH,KANDAHAR), (KHT,KHOST), (MMZ,MAIMAMA), (MZR,MAZAR-I-SHARIF), (SGA,SHEGHNAN), (UND,KUNDUZ), (ZAJ,ZARANJ), (BAH,BAHRAIN), (ADE,ADEN), (BHN,BEIHAN), (AAY,AL GHAIDA), (UKR,MUKEIRAS), (IHN,QISHAN), (RIY,RIYAN), (AXK,ATAQ), (HOD,HODEIDAH), (SAH,SANAA), (SCT,SOCOTRA), (TAI,TAIZ), (AHB,ABHA), (LEA,AL-AHSA), (ABT,EL-BAHA), (BHH,BISHA), (DMM,DAMMAM), (DHA,DHAHRAN), (GIZ,GIZAN), (ELQ,GASSIM), (URY,GURIAT), (HAS,HAIL), (JED,JEDDAH), (HBT,KING KHALID MIL.CITY), (MED,MADINAH), (EAM,NEJRAN), (AQI,HAFR AL-BATIN), (RAH,RAFHA), (RUH,RIYADH), (RAE,ARAR), (SHW,SHARURAH), (AJO,AL-JOUF), (SLF,SULAYEL), (TUU,TABUK), (TIF,TAIF), (TUI,TURAIF), (EJH,WEJH), (YNB,YENBO), (ABD,ABADAN), (QMJ,MASJED SOLEIMAN), (MRX,BANDAR MAHSHAHR), (AWZ,AHWAZ), (BUZ,BUSHEHR), (KIH,KISH ISLAND), (BDH,BANDAR LENGEH), (KSH,BAKHTARAN), (SDG,SANANDAJ), (RAS,RASHT), (THR,TEHERAN), (BND,BANDAR ABBAS), (KER,KERMAN), (XBJ,BIRJAND), (RZR,RAMSAR), (OMH,UROMIYEH), (SYZ,SHIRAZ), (TBZ,TABRIZ), (AZD,YAZD), (ZBR,CHAH BAHAR), (ZAH,ZAHEDAN), (AMM,AMMAN), (ADJ,AMMAN), (AQJ,AQABA), (OMF,MAFRAQ), (KWI,KUWAIT), (BEY,BEIRUT), (AUH,ABU DHABI), (AZI,ABU DHABI), (DXB,DUBAI), (FJR,FUJEIRAH), (RKT,RAS AL KHAIMAH), (SHJ,SHARJAH), (KHS,KHASAB), (MSH,MASIRAH), (MCT,MUSCAT), (SLL,SALALAH), (SUH,SUR), (TTH,THUMRAIT), (LYP,FAISALABAD), (GWD,GWADAR), (GIL,GILGIT), (KHI,KARACHI), (HDD,HYDERABAD), (OHT,KOHAT), (LHE,LAHORE), (MFG,MUZAFFARABAD), (MJD,MOENJODARO), (MUX,MULTAN), (WNS,NAWABSHAH), (ORW,ORMARA), (PJG,PANJGUR), (PSI,PASNI), (PEW,PESHAWAR), (UET,QUETTA), (RYK,RAHIM YAR KHAN), (ISB,ISLAMABAD), (RAZ,RAWALA KOT), (SKZ,SUKKUR), (SDT,SAIDU SHARIF), (SUL,SUI), (BDN,TALHAR), (TRB,TURBO), (PZH,ZHOB), (SDA,BAGHDAD), (BSR,BASRAH), (ALP,ALEPPO), (DAM,DAMASCUS), (DEZ,DEIRE ZOR), (LTK,LATAKIA), (PMS,PALMYRA), (DOH,DOHA), (PAQ,PALMER), (BTI,BARTER ISLAND), (BET,BETHEL), (BIG,DELTA JUNCTION), (BRW,BARROW), (BTT,BETTLES), (CDB,COLD BAY), (CDV,CORDOVA), (ADK,ADAK ISLAND), (DLG,DILLINGHAM), (ADQ,KODIAK), (DUT,UNALASKA), (EDF,ANCHORAGE), (EHM,CAPE NEWENHAM), (EIL,FAIRBANKS), (ENA,KENAI), (FAI,FAIRBANKS), (FBK,FORT WAINWRIGHT), (GAL,GALENA), (GKN,GULKANA), (SGY,SKAGWAY), (HOM,HOMER), (ILI,ILIAMNA), (UTO,INDIAN MOUNTAINS), (JNU,JUNEAU), (AKN,KING SALMON), (KTN,KETCHIKAN), (LUR,CAPE LISBURNE), (MCG,MCGRATH), (MRI,ANCHORAGE), (ANC,ANCHORAGE), (ANN,ANNETTE ISLAND), (OME,NOME), (ORT,NORTHWAY), (OTZ,KOTZEBUE), (PML,PORT MOLLER), (SCC,DEADHORSE), (SIT,SITKA), (SNP,ST. PAUL ISLAND), (SVW,SPARREVOHN), (SYA,SHEMYA), (TAL,TANANA), (TNC,TIN CITY), (TKA,TALKEETNA), (TLJ,TATALINA), (UNK,UNALAKLEET), (VDZ,VALDEZ), (AIN,FORT WAINWRIGHT), (YAK,YAKUTAT), (CIS,CANTON ISLAND), (FYU,FORT YUKON), (ROP,ROTA), (SPN,SAIPAN), (UAM,ANDERSEN), (GUM,AGANA), (TNI,WEST TINIAN), (BKH,BARKING SANDS), (HDH,DILLINGHAM), (HNM,HANA), (JHM,LAHANIA-KAPALUA), (KOA,KONA), (LIH,LIHUE), (MKK,MOLOKAI), (MUE,KAMUELA), (NGF,KANEOHE BAY), (HNL,HONOLULU), (LNY,LANAI), (OGG,KAHULUI), (BSF,BRADSHAW FIELD), (ITO,HILO), (UPP,OPOLU), (JON,JOHNSTON ISLAND), (1Z8,ENIWETOK ISLAND), (MAJ,MAJURO), (KWA,KWAJALEIN), (CXI,KIRITIMATI), (MDY,MIDWAY), (OLI,OLIKTOK POINT), (PIZ,POINT LAY), (TKK,CHUUK), (PNI,POHNPEI), (ROR,BABELTHUAP), (KSA,KOSRAE), (YAP,YAP), (KNH,CHINMEN), (CMJ,CHIMEI), (PIF,PINGTUNG), (TTT,FENGNIN), (GNI,GREEN ISLAND), (KHH,KAOHSIUNG), (CYI,CHIAYI), (TXG,CHUNG), (KYD,LANYU), (MZW,MATSU), (TNN,TAINAN), (MZG,MAKUNG), (TSA,TAIPEI), (TPE,TAIPEI), (WOT,WANG AN), (HUN,HUALIEN), (NRT,TOKYO), (MMJ,MATSUMOTO), (KIJ,NIGATA), (IWO,IWOJIMA), (SHM,NANKI-SHIRAHAMA), (OBO,OBIHIRO), (CTS,SAPPORO), (HKD,HAKODATE), (SPK,CHITOSE), (MMB,MEMANBETSU), (SHB,NAKASHIBETSU), (SPK,SAPPORO), (RBJ,REBUN), (KUH,KUSHIRO), (WKJ,WAKKANAI), (IKI,IKI), (UBJ,YAMAGUCHI), (TSJ,TSUSHIMA), (MBE,MONBETSU), (AKJ,ASAHIKAWA), (OIR,OKUSHIRI), (RIS,RISHIRI ISLAND), (KUM,YAKUSHIMA), (FUJ,FUKUE), (FUK,FUKUOKA), (TNE,TANEGASHIMA), (KOJ,KAGOSHIMA), (KMI,MIYAZAKI), (OIT,OITA), (KKJ,KITAKYUSHU), (KMJ,KUMAMOTO), (NGS,NAGASAKI), (ASJ,AMAMI), (TKN,TOKUNOSHIMA), (KMQ,KANAZAWA), (NGO,NAGOYA), (OKI,OKI ISLAND), (TOY,TOYAMA), (HIJ,HIROSHIMA), (OKJ,OKAYAMA), (IZO,IZUMO), (YGJ,MIHO), (KCZ,KOCHI), (MYJ,MATSUYAMA), (ITM,OSAKA), (KMQ,KOMATSUJIMA), (TTJ,TOTTORI), (TKS,TOKUSHIMA), (TAK,TAKAMATSU), (AOJ,AOMORI), (GAJ,YAMAGATA), (HNA,HANAMAKI), (AXT,AKITA), (MSJ,MISAWA), (SDJ,SENDAI), (HAC,HACHIJOJIMA), (OIM,OSHIMA), (MMY,MIYAKE JIMA), (HND,TOKYO), (OKO,YOKOTA), (KWJ,KWANGJU), (KUB,KUNSAN), (RSU,YEOSU), (SHO,SOKCH'O), (KAG,KANGNUNG), (CJU,CHEJU), (PUS,KIMHAE), (USN,ULSAN), (SSN,SEOUL EAST), (OSN,OSAN), (GMP,SEOUL), (KPO,POHANG), (TAE,TAEGU), (YEC,YECHON), (OKA,NAHA), (DNA,KADENA), (ISG,ISHIGAKI), (UEO,KUMEJIMA), (MMD,MINAMI DAITO), (MMY,MIYAKO), (AGJ,AGUNI), (HTR,HATERUMA), (KTD,KITADAITO), (SHI,SHIMOJISHIMA), (RNJ,YORON), (OGN,YONAGUNI JIMA), (MNL,MANILA), (CEB,CEBU), (CGY,LADAG), (MNL,MANILA), (LGP,LEGAZPI), (ZAM,ZAMBOANGA), (BAG,BAGUIO), (TAC,TACLOBAN), (BCD,BACOLOD), (DGT,DUMAGUETE), (ILO,ILOILO), (KLO,KALIBO), (NOP,MASBATE), (PPS,PUERTO PRINCESA), (SJI,SAN JOSE), (CBO,COTABATO), (DVO,DAVAO), (BXU,BUTUAN), (CGY,CAGAYAN DE ORO), (COC,CONCORDIA), (GHU,GUALEGUAYCHU), (PRA,PARANA), (ROS,ROSARIO), (SFN,SANTA FE), (EZE,BUENOS AIRES), (AEP,BUENOS AIRES), (COR,CORDOBA), (LPG,LA PLATA), (MDZ,MENDOZA), (LGS,MALARGUE), (AFA,SAN RAFAEL), (CTC,CATAMARCA), (SDE,SANTIAGO DEL ESTERO), (IRJ,LA RIOJA), (TUC,TUCUMAN), (UAQ,SAN JULIAN), (RCU,RIO CUARTO), (VDR,VILLA DOLORES), (LUQ,SAN LUIS), (CNQ,CORRIENTES), (RES,RESISTENCIA), (FMA,FORMOSA), (IGR,IGUAZU FALLS), (AOL,PASO DE LOS LIBRES), (PSS,POSADAS), (SLA,SALTA), (JUJ,JUJUY), (ORA,ORAN), (EHL,EL BOLSON), (CRD,COMODORO RIVADAVIA), (EMX,EL MAITEN), (EQS,ESQUEL), (OES,SAN ANTONIO OESTE), (ARR,ALTO RIO SENGUERR), (SGV,SIERRA GRANDE), (REL,TRELEW), (VDM,VIEDMA), (PMY,PUERTO MADRYN), (ING,LAGO ARGENTINO), (PUD,PUERTO DESEADO), (RGA,RIO GRANDE), (RGL,RIO GALLEGOS), (USH,USHUAIA), (ULA,SAN JULIAN), (ROY,RIO MAYO), (PMQ,PERITO MORENO), (GGS,GOBERNADOR GREGORES), (JSM,JOSE DE SAN MARTIN), (RYO,RIO TURBIO), (RZA,SANTA CRUZ), (BHI,BAHIA BLANCA), (MDQ,MAR DEL PLATA), (NQN,NEUQUEN), (RSA,SANTA ROSA), (BRC,SAN CARLOS DE BARILOCH), (TDL,TANDIL), (VLG,VILLA GESELL), (CPC,SAN MARTIN DES ANDES), (CDJ,CONCEICAO DO ARAGUAIA), (AQA,ARARACUARA), (AJU,ARACAJU), (AFL,ALTA FLORESTA), (ARU,ARACATUBA), (BEL,BELEM), (BGX,BAGE), (PLU,BELO HORIZONTE), (BFH,CURITIBA), (BSB,BRASILIA), (BAU,BAURU), (BVB,BOA VISTA), (CAC,CASCAVEL), (CNF,BELO HORIZONTE), (CGR,CAMPO GRANDE), (XAP,CHAPECO), (CLN,CAROLINA), (CAW,CAMPOS), (CMG,CORUMBA), (CWB,CURITIBA), (CRQ,CARAVELAS), (CXJ,CAXIAS DO SUL), (CGB,CUIABA), (CZS,CRUIZIRO DO SUL), (PPB,PRESIDENT PRUDENTE), (MAO,MANAUS), (FRC,FRANCA), (IGU,FOZ DO IGUACU), (FLN,FLORIANOPOLIS), (FEN,FERNANDO DO NORONHA), (FOR,FORTALEZA), (GIG,RIO DE JANEIRO), (GYN,GOIANIA), (GRU,SAO PAULO), (ATM,ALTAMIRA), (IOS,ILHEUS), (IPN,IPATINGA), (IMP,IMPERATRIZ), (RIJ,RIOJA), (JDF,JUIZ DE FORA), (JPA,JOAO PESSOA), (JOI,JOINVILLE), (CPV,CAMPINA GRANDE), (VCP,CAMPINAS), (LIP,LINS), (LDB,LONDRINA), (LAZ,BOM JESUS DA LAPA), (MAB,MARABA), (MGF,MARINGA), (MOC,MONTES CLAROS), (MCZ,MACEIO), (MCP,MACAPA), (NVT,NAVEGANTES), (GEL,SANTO ANGELO), (NAT,NATAL), (OUS,OURINHOS), (POA,PORTO ALEGRE), (POO,POCOS DE CALDAS), (PFB,PASSO FUNDO), (PET,PELOTAS), (PNZ,PETROLINA), (PNB,PORTO NACIONAL), (PMG,PONTA PORA), (PVH,PORTO VELHO), (RBR,RIO BRANCO), (REC,RECIFE), (RIG,RIO GRANDE), (SDU,RIO DE JANEIRO), (RAO,RIBEIRAO PRETO), (STU,RIO DE JANEIRO), (IGU,IGUASSU FALLS), (SJK,SAO JOSE DOS CAMPOS), (SLZ,SAO LUIS), (STM,SANTAREM), (CGH,SAO PAULO), (SJP,SAO JOSE DO RIO PRETO), (SSZ,SANTOS), (SSA,SALVADOR), (THE,TERESINA), (TFF,TEFE), (TBT,TABATINGA), (TUR,TUCURUI), (PAV,PAULO ALFONSO), (URG,URUGUAIANA), (UDI,UBERLANDIA), (UBA,UBERABA), (VAG,VARGINHA), (BVH,VILHENA), (VIX,VITORIA), (BPG,BARRA DO GARCAS), (QPS,PIRACUNUNGA), (ZUD,ANCUD), (WAP,ALTO PALENA), (ARI,ARICA), (BBA,BALMACEDA), (CCH,CHILE CHICO), (CJC,CALAMA), (PUQ,PUNTA ARENAS), (GXQ,COYHAIQUE), (IQQ,IQUIQUE), (SCL,SANTIAGO), (ANF,ANTOFAGASTA), (LSQ,LOS ANGELES), (CPO,COPIAPO), (CCP,CONCEPCION), (IPC,EASTER ISLAND), (ZOS,OSORNO), (LSC,LA SERENA), (ZCO,TEMUCO), (PMC,PUERTO MONTT), (ULC,SANTIAGO), (WCH,CHAITEN), (ZAL,VALDIVIA), (ATF,AMBATO), (OCC,COCA), (CUE,CUENCA), (ESM,ESMERALDAS), (GPS,GALAPAGOS), (GYE,GUAYAQUIL), (LGQ,LAGO AGRIO), (LOH,LOJA), (XMS,MACAS), (MCH,MACHALA), (MEC,MANTA), (PVO,PORTOVIEJO), (UIO,QUITO), (SNC,SALINAS), (TPC,TARAPOA), (TUA,TULCAN), (ASU,ASUNCION), (AXM,ARMENIA), (PUU,PUERTO ASIS), (BGA,BUCARAMANGA), (BOG,BOGOTA), (BAQ,BARRANQUILLA), (BSC,BAHIA SOLANO), (BUN,BUENAVENTURA), (CUC,CUCUTA), (COG,CONDOTO), (CTG,CARTAGENA), (CLO,CALI), (TCO,TUMACO), (CZU,COROZAL), (EJA,BARRANCABERMEJA), (FLA,FLORENCIA), (GPI,GUAPI), (IBE,IBAGUE), (IPI,IPIALES), (LET,LETICIA), (EOH,MEDELLIN), (MGN,MAGANGUE), (MTR,MONTERIA), (MVP,MITU), (MZL,MANIZALES), (NVA,NEIVA), (OCV,OCANA), (OTU,OTU), (PCR,PUERTO CARRENO), (PEI,PEREIRA), (PPN,POPAYAN), (PSO,PASTO), (PVA,PROVIDENCIA), (MDE,RIO NEGRO), (RCH,RIO HACHA), (RVE,SARAVENA), (SJE,SAN JOSE DEL GUAVIARE), (SMR,SANTA MARTA), (ADZ,SAN ANDRES ISLAND), (SVI,SAN VINCENTE DE CAGUAN), (TDA,TRINIDAD), (TME,TAME), (TRB,TURBO), (AUC,ARAUCA), (UIB,QUIBDO), (ULQ,TULUA), (VUP,VALLEDUPAR), (VVC,VILLAVICENCIO), (APB,APOLO), (BJO,BERMEJO), (CAM,CAMIRI), (CBB,COCHABAMBA), (CIJ,COBIJA), (CEP,CONCEPTION), (SRZ,SANTA CRUZ), (GYA,GUAYARAMERIN), (SJB,SAN JOAQUIN), (LPB,LA PAZ), (MGD,MAGDALENA), (POI,POTOSI), (PSZ,PUERTO SUAREZ), (RIB,RIBERALTA), (RBQ,RURRENABAQUE), (SRJ,SAN BORJA), (SRE,SUCRE), (TJA,TARIJA), (TDD,TRINIDAD), (VVI,SANTA CRUZ), (BYC,YACUIBA), (PBM,ZANDERY), (ORG,PARAMARIBO), (CAY,CAYENNE), (PCL,PUCALLPA), (CHM,CHIMBOTE), (TGI,TINGO MARIA), (CIX,CHICLAYO), (AYP,AYACUCHO), (ANS,ANDAHUAYLAS), (ATA,ANTA), (LIM,LIMA), (CJA,CAJABAMBA), (JJI,JUANJUI), (JUL,JULIACA), (TBP,TUMBES), (YMS,YURIMAGUAS), (CHH,CHACHAPOYAS), (IQT,IQUITOS), (AQP,AREQUIPA), (TRU,TRUJILLO), (PIO,PISCO), (TPP,TARAPOTO), (TCQ,TACNA), (PEM,PUERTO MALDONADO), (PIU,PIURA), (TYL,TALARA), (CUZ,CUZCO), (MVD,MONTEVIDEO), (ATI,ARTIGAS), (CYR,COLONIA), (MLZ,MELO), (MVD,MONTEVIDEO), (PDP,PUNTA DEL ESTE), (PDU,PAYSANDU), (RVY,RIVERA), (STY,SALTO), (TAW,TACUAREMBO), (AGV,ACARIGUA), (AAO,ANACO), (BLA,BARCELONA), (BNS,BARINAS), (BRM,BARQUISIMETO), (CBL,CIUDAD BOLIVAR), (CAJ,CANAIMA), (CUP,CARUPANO), (CZE,CORO), (CUM,CUMANA), (GUI,GUIRIA), (GUQ,GUANARE), (LSP,PARAGUANA), (LFR,LA FRIA), (MAR,MARACAIBO), (MRD,MERIDA), (PMV,PORLAMAR), (CCS,CARACAS), (MUN,MATURIN), (PYH,PUERTO AYACUCHO), (PBL,PUERTO CABELLO), (PZO,GUAYANA), (SVZ,SAN ANTONIO), (STD,SANTO DOMINGO), (SFH,SAN FELIPE), (SFD,SAN FERNANDO DE APURE), (SOM,SAN TOME), (STB,SANTA BARBARA), (TUV,TUCUPITA), (VLN,VALENCIA), (VLV,VALERA), (VDP,VALLE DE LA PASCUA), (GEO,GEORGETOWN), (KAR,KAMARANG), (LTM,LETHEM), (ANU,ANTIGUA), (BGI,BRIDGETOWN), (DCF,CANEFIELD), (DOM,DOMINICA), (DSD,DESIRADE), (FDF,FORT-DE-FRANCE), (SFG,ST. MARTIN), (SBH,ST.-BARTHELEMY), (PTP,POINTE-A-PITRE), (GND,POINT SALINES), (STT,ST. THOMAS), (STX,ST. CRIOX ISLAND), (BQN,AGUADILLA), (VQS,VIEQUES), (CPX,CULEBRA), (FAJ,FAJARDO), (SIG,SAN JUAN), (MAZ,MAYAGUEZ), (NRR,ROOSEVELT ROADS), (PSE,PONCE), (SJU,SAN JUAN), (SKB,BASSE TERRE), (SLU,CASTRIES), (UVF,HEWANDORRA), (AUA,ORANJESTAD), (BON,KRALENDIJK), (CUR,WILLEMSTAD), (EUX,ORANJESTAD), (SXM,PHILIPSBURG), (SAB,SABA), (AXA,THE VALLEY), (MNI,PLYMOUTH), (TAB,SCARBOROUGH), (POS,PORT-OF-SPAIN), (POS,PORT-OF-SPAIN), (EIS,ROADTOWN/BEEF ISLAND), (VIJ,VIRGIN GORDA), (CIW,CANOUAN ISLAND), (MQS,MUSTIQUE), (UNI,UNION ISLAND), (SVD,KINGSTOWN), (ALA,ALMA-ATA), (TSE,TSELINOGRAD), (DMB,DZHAMBUL), (FRU,BISHKEK), (OSS,OSH), (GUW,GURYEV), (CIT,CHIMKENT), (DZH,DZHEZKAZGAN), (URA,URALSK), (PWQ,PAVLODAR), (PLX,SEMIPLATINSK), (AKX,AKTYUBINSK), (KTQ,KUSTANAY), (BAK,BAKU), (ADH,ALDAN), (YKS,YAKUTSK), (MJZ,MIRNYJ), (EVN,YEREVAN), (TBS,TBILISI), (SUI,SUKHUMI), (BQS,BLAGOVESCHENSK), (KHV,KHABAROVSK), (PVS,PROVIDENIYA BAY), (GDX,MAGADAN), (PKC,PETROPAVLOVSK), (UUS,YUZHNO-SAKHALINSK), (VVO,VLADIVOSTOK), (HTA,CHITA), (BTK,BRATSK), (IKT,IRKUTSK), (UUD,ULAN-UDE), (KBP,KIEV), (DOK,DONETSK), (DNK,DNEPROPETROVSK), (SIP,SIMFEROPOL), (KIV,KISHINEV), (KGO,KIROVOGRAD), (IEV,KIEV), (LWO,LVOV), (ODS,ODESSA), (LED,ST. PETERSBURG), (MMK,MURMANSK), (TLL,TALLINN), (GME,GOMEL), (VTB,VITEBSK), (KGD,KALININGRAD), (MHP,MINSK), (MSQ,MINSK 2), (RIX,RIGA), (VNO,VILNIUS), (ABA,ABAKAN), (BAX,BARNAUL), (KEJ,KEMOROVO), (KJA,KRASNOYARSK), (KYZ,KYZYL), (OVB,NOVOSIBIRSK), (OMS,OMSK), (NOZ,NOVOKUZNETSK), (KRR,KRASNODAR), (MCX,MAKHACHKALA), (MRV,MINERALNYE VODY), (STW,STAVROPOL), (ROV,ROSTOV), (AER,SOCHI), (ASF,ASTRAKHAN), (VOG,VOLGOGRAD), (CEK,CHELYABINSK), (MQF,MAGNETIOGORSK), (KVX,KIROV), (NJC,NIZHNEVARTOVSK), (PEE,PERM), (SGC,SURGUT), (SVX,SVERDLOVSK), (TOX,TOBOLSK), (KRO,KURGAN), (ASB,ASHKHABAD), (KRW,KRASNOVODSK), (DYU,DUSHANBE), (NCU,NUKUS), (BHK,BUKHARA), (SKD,SAMARKAND), (TAS,TASHKENT), (BZK,BRYANSK), (SVO,MOSCOW), (KLD,TVER), (VOZ,VORONEZH), (VKO,MOSCOW), (UCT,UKHTA), (VKT,VORKUTA), (SCW,SYKTYVKAR), (KZN,KAZAN), (REN,ORENBURG), (PEZ,PENZA), (UFA,UFA), (KBY,SAMARA), (AMD,AHMEDABAD), (AKD,AKOLA), (IXU,AURANGABAD), (BOM,BOMBAY), (PAB,BILASPUR), (BHJ,BHUJ), (IXG,BELGAUM), (BDQ,BARODA), (BHO,BHOPAL), (BHU,BHAUNAGAR), (NMB,DAMAN), (GOI,GOA), (IDR,INDORE), (JLR,JABALPUR), (JGA,JAMNAGAR), (IXY,KANDLA), (HJR,KHAJURAHO), (KLH,KOLHAPUR), (IXK,KESHOD), (NDC,NANDED), (NAG,NAGPUR), (ISK,NASIK ROAD), (PNQ,PUNE), (PBD,PORBANDAR), (RAJ,RAJKOT), (RPR,RAIPUR), (SSE,SHOLAPUR), (STV,SURAT), (UDR,UDAIPUR), (CMB,COLOMBO), (RML,COLOMBO), (GOY,GALOYA), (JAF,JAFFNA), (TRR,TRINCIOMALEE), (PNH,PHNOM-PENH), (REP,SIEM-REAP), (IXA,AGARTALA), (AJL,AIZWAL), (IXB,BAGHDOGRA), (RGH,BALURGHAT), (BBI,BHUBANESWAR), (CCU,CALCUTTA), (COH,COOCH-BEHAR), (CBD,CAR NICOBAR), (DBO,DHANBAD), (YOP,GORAKHPUR), (GAY,GAYA), (IMF,IMPHAL), (IXW,JAMSHEDPUR), (JRH,JORHAT), (IXH,KAILASHAHAR), (IXS,SILCHAR), (IXI,LILABARI), (LDA,MALDA), (MOH,MOHANBARI), (IXT,PASIGHAT), (PAT,PATINA), (IXR,RANCHI), (RRK,ROURKELA), (TEI,TEZU), (VTZ,VISHAKHAPATNAM), (CXB,COX'S BAZAR), (CGP,CHITTAGONG), (IRD,ISHURDI), (JSR,JESSORE), (RJH,RAJSHAHI), (SPD,SAIDPUR), (ZYL,SYLHET OSMANI), (DAC,DHAKA), (HKG,HONG KONG), (AGR,AGRA), (IXD,ALLAHABAD), (ATQ,AMRITSAR), (VNS,VARANASI), (KUU,KULU), (IXC,CHANDIGARH), (DED,DEHRA DUN), (DEL,DELHI), (GWL,GWALIOR), (JOH,JODHPUR), (JAI,JAIPUR), (JSA,JAISALMER), (IXJ,JAMMU), (KNU,KANPUR), (KTU,KOTA), (LUH,LUDHIAHA), (IXL,LEH), (LKO,LUCKNOW), (IXP,PATHANKOT), (PGH,NAINITAL), (SXR,SRINAGAR), (TNI,SATNA), (LPQ,LUANG PRABANG), (ODY,OUDOMXAY), (PKZ,PAKSE), (ZBY,SAYABOURY), (ZVK,SAVANNAKHET), (VNA,SARAVANE), (THK,THAKHEK), (VTE,VIENTIANE), (XKH,XIENG KHOUANG), (MFM,MACAU), (BWA,BHAIRAWA), (KTM,KATHMANDU), (LUA,LUKLA), (MEY,MEGHAULI), (PKR,POKHARA), (SIF,SIMARA), (BIR,BIRATNAGAR), (AGX,AGATTI ISLAND), (BLR,BANGALORE), (BEP,BELLARY), (VGA,VIJAYAWADA), (CJB,COIMBATORE), (COK,COCHIN), (CCJ,CALICUT), (CDP,CUDDAPAH), (HYD,HYDERABAD), (IXM,MADURAI), (IXE,MANGALORE), (MAA,MADRAS), (NVY,NEYVELI), (IXZ,PORT BLAIR), (RJA,RAJAHMUNDRY), (TIR,TIRUPETI), (TRZ,TIRUCHCHIRAPPALLI), (TRV,TRIVANDRUM), (PBH,PARO), (MLE,MALE), (BKK,BANGKOK), (UTP,RAYONG), (LPT,LAMPANG), (PRH,PHRAE), (HHQ,PRACHUAP KHIRI KHAN), (PHS,PHITSANULOK), (NAW,NARATHIWAT), (PAN,PATTANI), (NST,NAKHON SI THAMMARAT), (HKT,PHUKET), (HDY,SONGKHLA), (TST,TRANG), (UTH,UDON THANI), (SNO,SAKON NAKHON), (LOE,LOEI), (NAK,NAKHON RATCHASIMA), (KOP,NAKHON PHANOM), (UBP,UBON RATCHATHANI), (KKC,KHON KAEN), (DAD,DANANG), (HAN,HANOI), (NHA,NHATRANG), (SGN,HO CHI MINH CITY), (HEH,HEHO), (KET,KENGTUNG), (KYP,KYAUKPYU), (LSH,LASHIO), (MDL,MANDALAY), (MGZ,MYEIK), (MGZ,MYINGYAN), (MYT,MYITKYINA), (MOG,MONG HSAT), (PBU,PUTAO), (AKY,SITTWE), (SNW,THANDWE), (THL,TACHILEK), (RGN,YANGON), (UPG,UJUNG PANDANG), (BUW,BAU BAU), (KDI,KENDARI), (BIK,BIAK), (ONI,MOANAMANI), (FOO,NUMFOR), (NBX,NABIRE), (ZRI,SERUI), (TIM,TIMIKA), (EWI,ENAROTALI), (BUI,BOKONDINI), (ZRM,SARMI), (DJJ,JAYAPURA), (LHI,LEREH), (LII,MULIA), (OKL,OKSIBIL), (SEH,SENGGEH), (WMX,WAMENA), (MDP,MINDIPTANAH), (BXD,BADE), (MKQ,MERAUKE), (OKQ,OKABA), (TMH,TANAH MERAH), (GLX,GALELA), (GTO,GORONTALO), (TLI,TOLI TOLI), (PLW,PALU), (MDC,MANADO), (MNA,MELANGGUANE), (PSJ,POSO), (OTI,MOROTAI ISLAND), (TTE,TERNATE), (LUW,LUWUK), (MAL,MANGOLE), (AMQ,AMBON), (KEQ,KEBAR), (FKQ,FAK FAK), (INX,INANWATAN), (KNG,KAIMANA), (RDE,MERDEI), (BXB,BABO), (MKW,MANOKWARI), (SOQ,SORONG), (TXM,TEMINABUAN), (BTU,BINTULU), (BLG,BELAGA), (LSM,LONG SEMADO), (KCH,KUCHING), (ODN,LONG SERIDAN), (LMN,LIMBANG), (MKM,MUKAH), (MUR,MARUDI), (BKM,BAKELALAN), (KPI,KAPIT), (MYY,MIRI), (SBW,SIBU), (BBN,BARIO), (SDK,SANDAKAN), (LDU,LAHAD DATU), (BKI,KOTA KINABALU), (LBU,LABUAN), (PAY,PAMOL), (KUD,KUDAT), (TWU,TAWAU), (BWN,BRUNEI), (SBG,SABANG), (MLG,MALANG), (PKU,PEKANBARU), (DUM,DUMAI), (BDO,BANDUNG), (CBN,CIREBON), (JAK,JAKARTA), (HLP,JAKARTA), (CGK,JAKARTA), (JOG,YOGYAKARTA), (CXP,CILACAP), (PCB,JAKARTA), (SRG,SEMARANG), (BTH,BATAM), (TJQ,TANJUNG PANDAN), (PGK,PANGKAL PINANG), (TNJ,TANJUNG PINANG), (SIQ,SINGKEP), (GNS,GUNUNG SITOLI), (PDG,PADANG), (MES,MEDAN), (KTG,KETAPANG), (PNK,PONTIANAK), (SQC,SINTANG), (DJB,JAMBI), (DJB,JAMBI), (BKS,BENGKULU), (PLM,PALEMBANG), (RGT,RENGAT), (BTJ,BANDA ACEH), (LGK,LANGKAWI), (SWY,SITIAWAN), (AOR,ALOR SETAR), (KBR,KOTA BAHRU), (KUA,KUANTAN), (KTE,KERTEH), (IPH,IPOH), (JHB,JOHOR BAHRU), (KUL,KUALA LUMPUR), (LGK,PULAU), (MKZ,MALACCA), (TGG,KUALA TERENGGANU), (PEN,PENANG), (DIL,DILI), (MPT,MALIANA), (BDJ,BANJARMASIN), (PKN,PANGKALAN BUN), (PKY,PALANGKARAYA), (ABU,ATAMBUA), (BJW,BAJAWA), (MOF,MAUMERE), (ENE,ENDE), (RTG,RUTENG), (KOE,KUPANG), (LKA,LARANTUKA), (LBJ,LABUHAN BAJO), (LBW,LONG BAWAN), (TJS,TANJUNG SELOR), (BPN,BALIKPAPAN), (TRK,TARAKEN), (SRI,SAMARINDA), (AMI,MATARAM), (BMU,BIMA), (DPS,DENPASAR), (SWG,SUMBAWA), (WGP,WAINGAPU), (SUB,SURABAYA), (SOC,SOLO CITY), (SUB,SURABAYA), (QPG,PAYA LEBAR), (XSP,SINGAPORE), (SIN,SINGAPORE), (ABM,AMBERLEY), (ASP,ALICE SPRINGS), (BNE,BRISBANE), (OOL,COOLANGATTA), (CNS,CAIRNS), (CTL,CHARLIEVILLE), (ISA,MOUNT ISA), (MCY,MAROOCHYDORE), (MKY,MACKAY), (HTI,HAMILTON ISLAND), (PPP,PROSSERPINE), (ROK,ROCKHAMPTON), (TSV,TOWNSVILLE), (WEI,WEIPA), (DRW,DARWIN), (GTE,GROOTE EYLANDT), (GOV,GOVE), (BAS,BALALAE), (HIR,HONIARA), (MUA,MUNDA), (GZO,GIZO), (AVV,AVALON), (ABX,ALBURY), (MEB,MELBOURNE), (HBA,HOBART), (LST,LAUNCESTON), (LVO,LAVERTON), (MBW,MELBOURNE), (MEL,MELBOURNE), (INU,NAURU ISLAND), (ADL,ADELAIDE), (BME,BROOME), (CVQ,CARNARVON), (JAD,PERTH), (KTA,KARRATHA), (KGI,KALGOORLIE), (KNX,KUNUNURRA), (LEA,LEARMONTH), (ZNE,NEWMAN), (PBO,PARABURDOO), (PHE,PORT HEDLAND), (PER,PERTH), (UMR,WOOMERA), (BWU,SYDNEY), (CBR,CANBERRA), (CFS,COFF'S HARBOUR), (CDU,CAMDEN), (DBO,DUBBO), (NLK,NORFOLK ISLAND), (RCM,RICHMOND), (SYD,SYDNEY), (TMW,TAMWORTH), (WGA,WAGGA WAGGA), (PEK,BEIJING), (CIF,CHIFENG), (CIH,CHANGZHI), (HLD,HAILAR), (BAV,BAOTOU), (TSN,TIANJIN), (TGO,TONGLIAO), (HLH,ULANHOT), (XIL,XILINHOT), (TYN,TAIYUAN), (BHY,BEIHAI), (CSX,CHANGSHA), (CAN,GUANGZHOU), (CSX,CHANGCHA), (HAK,HAIKOU), (HNY,HENGYANG), (KWL,GUILIN), (MXZ,MEIXIAN), (NNG,NANNING), (ZHA,ZHANJIANG), (SWA,SHANTOU), (SYX,SANYA), (SZX,SHENZHEN), (LZH,LIUZHOU), (CGO,ZHENGZHOU), (WUH,WUHAN), (LYA,LUOYANG), (SHS,SHASHI), (WUH,WUHAN), (FNJ,PYONGYANG), (DNH,DUNHUANG), (INC,YINCHUAN), (ZGC,LANZHOU), (SIA,XI'AN), (XIY,XI'AN), (ULN,ULAN BATOR), (KMG,KUNMING), (XMN,XIAMEN), (CZX,CHANGZHOU), (KHN,NANCHANG), (FOC,FUZHOU), (KOW,GANZHOU), (HGH,HANGZHOU), (JDZ,JINGDEZHEN), (LYG,LIANYUNGANG), (HYN,HUANGYAN), (NGB,NINBO), (NKG,NANJING), (HFE,HEFEI), (TAO,QINGDAO), (SHA,SHANGHAI), (TNA,JINAN), (TXN,TUNXI), (WNZ,WENZHOU), (YNT,YANTAI), (CKG,CHONGQING), (KWE,GUIYANG), (LXA,LHASA), (CTU,CHENGDU), (XIC,XICHANG), (KHG,KASHI), (HTN,HOTAN), (URC,URUMQI), (HRB,HARBIN), (CGQ,CHANGCHUN), (DLC,DALIAN)]"
      ]
     },
     "execution_count": 24,
     "metadata": {},
     "output_type": "execute_result"
    }
   ],
   "source": [
    "val tt = airDB.map(parseLineAirDB).filter(_._1 != \"N/A\").collect"
   ]
  },
  {
   "cell_type": "code",
   "execution_count": 25,
   "metadata": {
    "scrolled": true
   },
   "outputs": [
    {
     "data": {
      "text/plain": [
       "airDB_pair = Map(VAA -> VAASA, ROW -> ROSWELL, FTA -> FUTUNA ISLAND, CEB -> CEBU, DLE -> DOLE, ABX -> ALBURY, KSH -> BAKHTARAN, LYX -> LYDD, LGW -> LONDON, BWN -> BRUNEI, GMP -> SEOUL, SCK -> STOCKTON, MJZ -> MIRNYJ, WCH -> CHAITEN, HWO -> HOLLYWOOD, OMR -> ORADEA, MXF -> MONTGOMERY, KAD -> KADUNA, MQF -> MAGNETIOGORSK, SJI -> SAN JOSE, YOW -> OTTAWA, LHW -> WRIGHT, WLH -> WALAHA, SHO -> SOKCH'O, FRU -> BISHKEK, YHU -> MONTREAL, JNN -> NANORTALIK, CPT -> CAPE TOWN, INH -> INHAMBANE, SYR -> SYRACUSE, JMM -> MALMOE, PAZ -> POZA RICO, UTO -> INDIAN MOUNTAINS, ION -> IMPFONDO, XBK -> BOURG, LCC -> LECCE, GDQ -> GONDAR, PDV -> PLOVDIV, MZO -> MANZANILLO, KGA -> KANANGA, IVL -> IVALO, BLA -> BARCELONA, ACY -> ATLANTIC CITY, GMB -> GAMBELLA, PIO -> PISCO, MUC -> MUNICH, SIR...\n"
      ]
     },
     "metadata": {},
     "output_type": "display_data"
    },
    {
     "data": {
      "text/plain": [
       "Map(VAA -> VAASA, ROW -> ROSWELL, FTA -> FUTUNA ISLAND, CEB -> CEBU, DLE -> DOLE, ABX -> ALBURY, KSH -> BAKHTARAN, LYX -> LYDD, LGW -> LONDON, BWN -> BRUNEI, GMP -> SEOUL, SCK -> STOCKTON, MJZ -> MIRNYJ, WCH -> CHAITEN, HWO -> HOLLYWOOD, OMR -> ORADEA, MXF -> MONTGOMERY, KAD -> KADUNA, MQF -> MAGNETIOGORSK, SJI -> SAN JOSE, YOW -> OTTAWA, LHW -> WRIGHT, WLH -> WALAHA, SHO -> SOKCH'O, FRU -> BISHKEK, YHU -> MONTREAL, JNN -> NANORTALIK, CPT -> CAPE TOWN, INH -> INHAMBANE, SYR -> SYRACUSE, JMM -> MALMOE, PAZ -> POZA RICO, UTO -> INDIAN MOUNTAINS, ION -> IMPFONDO, XBK -> BOURG, LCC -> LECCE, GDQ -> GONDAR, PDV -> PLOVDIV, MZO -> MANZANILLO, KGA -> KANANGA, IVL -> IVALO, BLA -> BARCELONA, ACY -> ATLANTIC CITY, GMB -> GAMBELLA, PIO -> PISCO, MUC -> MUNICH, SIR -> SION, EUA -> EUA, SUU -> FAIRFIELD, BJR -> BAHAR DAR, LXA -> LHASA, IRO -> BIRAO, TYR -> TYLER, TNR -> ANTANANARIVO, UIB -> QUIBDO, IPN -> IPATINGA, CUC -> CUCUTA, CHQ -> CHANIA, YGT -> IGLOOLIK, TRR -> TRINCIOMALEE, MMF -> MAMFE, FFO -> DAYTON, TUL -> TULSA, SXL -> SLIGO, TEG -> TENKODOGO, SGN -> HO CHI MINH CITY, TLV -> TEL-AVIV, DAD -> DANANG, HOD -> HODEIDAH, NMB -> DAMAN, POA -> PORTO ALEGRE, FOK -> WEST HAMPTON BEACH, OUR -> BATOURI, ASJ -> AMAMI, AZR -> ADRAR, GRO -> GERONA, IRD -> ISHURDI, STL -> ST. LOUIS, RBQ -> RURRENABAQUE, LTA -> TZANEEN, FSC -> FIGARI, SJB -> SAN JOAQUIN, UIO -> QUITO, CME -> CIUDAD DEL CARMEN, CEO -> WAKO KUNGO, ICT -> WICHITA, TUB -> TUBUAI, DEB -> DEBRECEN, HPA -> HA'APAI, WAP -> ALTO PALENA, MAT -> MATADI, SIA -> XI'AN, RVN -> ROVANIEMI, CJA -> CAJABAMBA, QVY -> UTTI, RHG -> RUHENGERI, NGU -> NORFOLK, NHV -> NUKU HIVA, DES -> DESROCHES, INO -> INONGO, PYR -> ANDRAVIDA, STB -> SANTA BARBARA, SNW -> THANDWE, LBC -> LUEBECK, VDA -> OVDA, SRG -> SEMARANG, LZC -> LAZARD CARDENAS, BNE -> BRISBANE, JMK -> MYKONOS, YXY -> WHITEHORSE, NKU -> NKAUS, IXD -> ALLAHABAD, VRA -> VARADERO, BXE -> BAKEL, CGQ -> CHANGCHUN, BZV -> BRAZZAVILLE, DLM -> DALAMAN, TGU -> TEGUCIGALPA, DAM -> DAMASCUS, FJR -> FUJEIRAH, BAH -> BAHRAIN, FRC -> FRANCA, TIN -> TINDOUF, KGL -> KIGALI, ARN -> STOCKHOLM, BYU -> BAYREUTH, DRS -> DRESDEN, BKS -> BENGKULU, NMM -> MERIDIAN, BMD -> BELO SUR TSIRIBIHINA, MXT -> MAINTIRANO, RKT -> RAS AL KHAIMAH, SPM -> SPANGDAHLEM, ZFM -> FORT MCPHERSON, UCN -> BUCHANAN, FUE -> FUERTEVENTURA, BMU -> BIMA, YTR -> TRENTON, ZSS -> SASSANDRA, DJG -> DJANET, WVB -> WALVIS BAY, TGG -> KUALA TERENGGANU, KLR -> KALKMAR, CCF -> CARCASSONNE, FCO -> ROME, CNF -> BELO HORIZONTE, TES -> TESSENEI, HHQ -> PRACHUAP KHIRI KHAN, LFI -> HAMPTON, CLO -> CALI, TJS -> TANJUNG SELOR, LWO -> LVOV, SKG -> THESSALONIKI, EBU -> ST.-ETIENNE, TKA -> TALKEETNA, XKA -> KANTCHARI, QAS -> ECH-CHELIFF, DUS -> DUESSELDORF, LRT -> LORIENT, OSS -> OSH, KSK -> KARLSKOGA, OHD -> OHRID, KNF -> MARHAM, GER -> NUEVA GERONA, HAD -> HALMSTAD, OLB -> OLBIA, GOR -> GORE, EDL -> ELDORET, YIB -> ATIKOKAN, RAO -> RIBEIRAO PRETO, PEE -> PERM, MQT -> MARQUETTE, SWF -> NEWBURGH, MDK -> MBANDAKA, KUA -> KUANTAN, BTB -> BETOU, LID -> VALKENBURG, TSR -> TIMISOARA, JDZ -> JINGDEZHEN, EHL -> EL BOLSON, POP -> PUERTO PLATA, CZS -> CRUIZIRO DO SUL, ZZU -> MZUZU, HIR -> HONIARA, SRH -> SARH, LYB -> LITTLE CAYMAN, HRO -> HARRISON, YNA -> NATASHQUAN, BXO -> BISSAU, WYE -> YENGEMA, CWB -> CURITIBA, KYP -> KYAUKPYU, WKM -> HWANGE NATIONAL PARK, OOL -> COOLANGATTA, ELG -> EL GOLEA, NLP -> NELSPRUIT, ORN -> ORAN, DUD -> DUNEDIN, YJT -> STEPHENVILLE, BAY -> BAIA MARE, MVD -> MONTEVIDEO, WIC -> WICK, CTB -> CUTBANK, VDR -> VILLA DOLORES, SDG -> SANANDAJ, GXX -> YAGOUA, VAT -> VATOMANDRY, YXJ -> FORT SAINT JOHN, RKE -> COPENHAGEN, MPN -> MOUNT PLEASANT, TMM -> TOAMASINA, OER -> ORNSKOLDSVIK, MWE -> MEROWE, AKY -> SITTWE, FUT -> FUTUNA, OSD -> OSTERSUND, KSD -> KARLSTAD, RAH -> RAFHA, TXG -> CHUNG, GWW -> GOTHA OST, YZE -> GORE BAY, PRA -> PARANA, KET -> KENGTUNG, YHO -> HOPEDALE, BGB -> BODOUE, MYJ -> MATSUYAMA, CNW -> WACO, MRU -> PLAISANCE, IVA -> AMBANJA, NLA -> NDOLA, SMV -> SAMEDAN, HEX -> SANTO DOMINGO, LCG -> LA CORUNA, YHY -> HAY RIVER, JFK -> NEW YORK, EMX -> EL MAITEN, NON -> NONOUTI, EFD -> HOUSTON, LGB -> LONG BEACH, NUQ -> MOUNTAIN VIEW, PMZ -> PALMAR SUR, UNE -> QACHAS NEK, QLT -> LATINA, SKY -> SANDUSKY, MHQ -> MARIEHAMN, SUI -> SUKHUMI, GLA -> GLASGOW, PEK -> BEIJING, DNR -> DINARD, SFA -> SFAX, KAU -> KAUHAVA, SDJ -> SENDAI, OAM -> OAMARU, PPQ -> PARAPARAUMU, KLZ -> KLEINSEE, LRA -> LARISSA, MPT -> MALIANA, PEW -> PESHAWAR, HTI -> HAMILTON ISLAND, TNN -> TAINAN, BEG -> BEOGRAD, LKB -> LAKEMBA, YDA -> DAWSON, YYW -> ARMSTRONG, SYY -> STORNOWAY, YGX -> GILLAM, LDU -> LAHAD DATU, AKN -> KING SALMON, OMF -> MAFRAQ, CEK -> CHELYABINSK, BFN -> BLOEMFONTEIN, SEO -> SEGUELA, PKR -> POKHARA, LVA -> LAVAL, YEK -> ESKIMO POINT, KUL -> KUALA LUMPUR, FNI -> NIMES, TTA -> TAN TAN, HUN -> HUALIEN, ISP -> ISLIP, BVH -> VILHENA, YVV -> WIARTON, SOG -> SOGNDAL, NAP -> NAPLES, PNE -> PHILADELPHIA, CDJ -> CONCEICAO DO ARAGUAIA, SXF -> BERLIN, SSZ -> SANTOS, ART -> WATERTOWN, JJI -> JUANJUI, KKW -> KIKWIT, YVG -> VERMILLION, IXI -> LILABARI, KOJ -> KAGOSHIMA, ORD -> CHICAGO, SDT -> SAIDU SHARIF, LSM -> LONG SEMADO, YEO -> YEOVILTON, FMA -> FORMOSA, VTE -> VIENTIANE, TAK -> TAKAMATSU, MUR -> MARUDI, PLS -> PROVIDENCIALES, LNA -> WEST PALM BEACH, JHB -> JOHOR BAHRU, OLI -> OLIKTOK POINT, VDE -> HIERRO, JVA -> ANKAVANDRA, STX -> ST. CRIOX ISLAND, VOZ -> VORONEZH, KLH -> KOLHAPUR, NQA -> MILLINGTON, OTA -> MOTA, TNG -> TANGER, PSZ -> PUERTO SUAREZ, NDL -> N'DELE, ISB -> ISLAMABAD, DJO -> DALOA, PPB -> PRESIDENT PRUDENTE, CPH -> COPENHAGEN, CNQ -> CORRIENTES, KTW -> KATOWICE, WVK -> MANAKARA, AXT -> AKITA, GRS -> GROSSETO, BLR -> BANGALORE, VNE -> VANNES, MOH -> MOHANBARI, KHT -> KHOST, JNB -> JOHANNESBURG, MIR -> MONASTIR, SVJ -> SVOLVAER, XLS -> ST. LOUIS, IAG -> NIAGARA FALLS, LAY -> LADYSMITH, BGO -> BERGEN, HKD -> HAKODATE, BOE -> BOUNDJI, TCE -> TULCEA, HRG -> HURGHADA, SLH -> SOLA, YZT -> PORT HARDY, WUU -> WAU, AZI -> ABU DHABI, YDN -> DAUPHIN, TIR -> TIRUPETI, PKU -> PEKANBARU, GDT -> GRAND TURK, BDS -> BRINDISI, ZFA -> FARO, COG -> CONDOTO, MGA -> MANAGUA, JGA -> JAMNAGAR, MUW -> GHRISS, EWO -> EWO, LAS -> LAS VEGAS, MCA -> MACENTA, RYO -> RIO TURBIO, OSY -> NAMSOS, QMJ -> MASJED SOLEIMAN, RNN -> RONNE, WAL -> WALLOPS ISLAND, HUX -> BAHIAS DEHUATULCO, CCU -> CALCUTTA, MXX -> MORA, SRT -> SOROTI, BUG -> BENGUELA, MDQ -> MAR DEL PLATA, LUG -> LUGANO, BLC -> BALI, DEI -> DENIS ISLAND, SPY -> SAN PEDRO, JTR -> SANTORINI, EVN -> YEREVAN, BOR -> BELFORT, YQT -> THUNDER BAY, BET -> BETHEL, KBR -> KOTA BAHRU, KBY -> SAMARA, FZO -> BRISTOL, REG -> REGGIO CALABRIA, GME -> GOMEL, TZX -> TRABZON, VIY -> BISHO, POM -> PORT MORESBY, YRB -> RESOLUTE, RPN -> ROSH PINA, COR -> CORDOBA, GAS -> GARISSA, PKN -> PANGKALAN BUN, IEO -> AIOUN EL ATROUSS, SZW -> PARCHIM, WGA -> WAGGA WAGGA, UPG -> UJUNG PANDANG, CSF -> CREIL, KID -> KRISTIANSTAD, TSV -> TOWNSVILLE, XGG -> GOROM GOROM, DNK -> DNEPROPETROVSK, LFK -> LUFKIN, COF -> COCO BEACH, LEI -> ALMERIA, KME -> KAMEMBE, CKG -> CHONGQING, FTW -> FORT WORTH, MSH -> MASIRAH, CRV -> CROTONE, PMA -> PEMBA, TMW -> TAMWORTH, KLU -> KLAGENFURT, EJH -> WEJH, SZZ -> SZCZECHIN, YSC -> SHERBROOKE, MZK -> MARAKEI, MER -> MERCED, TLL -> TALLINN, ASU -> ASUNCION, DAY -> DAYTON, LPL -> LIVERPOOL, ARI -> ARICA, DMA -> TUCSON, MHG -> MANNHEIM, AMD -> AHMEDABAD, OKQ -> OKABA, KOA -> KONA, SCW -> SYKTYVKAR, MCM -> MONACO, YKA -> KAMLOOPS, MAH -> MENORCA, BUR -> BURBANK, YHK -> GJOA HAVEN, SHY -> SHINYANGA, FMH -> FALMOUTH, SKN -> STOKMARKNES, QPG -> PAYA LEBAR, VPN -> VOPNAFJORDUR, LIG -> LIMOGES, AMS -> AMSTERDAM, TRE -> TIREE, MKQ -> MERAUKE, LOY -> LOYANGALANI, JSU -> SUKKERTOPPEN, SBG -> SABANG, KIM -> KIMBERLEY, DRO -> DURANGO, CAG -> CAGLIARI, VCV -> VICTORVILLE, GPS -> GALAPAGOS, PVD -> PROVIDENCE, PHN -> PORT HURON, RJH -> RAJSHAHI, BGY -> BERGAMO, RAL -> RIVERSIDE, AIS -> ARORAE ISLAND, JIM -> JIMMA, AGB -> AUGSBURG, TOY -> TOYAMA, KTE -> KERTEH, YCH -> CHATHAM, PCP -> PRINCIPE, VOG -> VOLGOGRAD, PML -> PORT MOLLER, MVX -> MINVOUL, LTM -> LETHEM, FRL -> FORLI, IXM -> MADURAI, GWD -> GWADAR, CLY -> CALVI, TIY -> TIDJIKJA, ADD -> ADDIS ABABA, PPN -> POPAYAN, AKR -> AKRON, EGS -> EGILSSTADIR, YXC -> CRANBROOK, LME -> LE MANS, NYE -> NYERI, RIG -> RIO GRANDE, SPS -> WICHITA FALLS, PGH -> NAINITAL, PSA -> PISA, OXF -> OXFORD, SDN -> SANDANE, AFA -> SAN RAFAEL, LYP -> FAISALABAD, BBU -> BUCHAREST, GMM -> GAMBOMA, YZH -> SLAVE LAKE, IST -> ISTANBUL, PLH -> PLYMOUTH, MYY -> MIRI, NKG -> NANJING, LPM -> LAMAP, MGH -> MARGATE, MUH -> MERSA-MATRUH, BMB -> BUMBA, GGS -> GOBERNADOR GREGORES, MZL -> MANIZALES, LOV -> MONCLOVA, ZHA -> ZHANJIANG, VBY -> VISBY, KBA -> KABALA, TCN -> TEHUACAN, YQW -> NORTH BATTLEFORD, ZBY -> SAYABOURY, DEL -> DELHI, PAE -> EVERETT, YYH -> SPENCE BAY, CDV -> CORDOVA, AES -> ALESUND, MSQ -> MINSK 2, HIJ -> HIROSHIMA, STT -> ST. THOMAS, PKC -> PETROPAVLOVSK, KLD -> TVER, UDR -> UDAIPUR, YXR -> EARLTON, DOG -> DONGOLA, UEL -> QUELIMANE, TIE -> TIPPI, ZBR -> CHAH BAHAR, MOQ -> MORONDAVA, BRU -> BRUSSELS, TRK -> TARAKEN, NTE -> NANTES, VIR -> DURBAN, ZRI -> SERUI, KIJ -> NIGATA, SMI -> SAMOS, CEW -> CRESTVIEW, TET -> TETE, YRM -> ROCKY MOUNTAIN HOUSE, GNN -> GHINNIR, BHN -> BEIHAN, ULB -> ULEI, HGO -> KORHOGO, PVO -> PORTOVIEJO, SVN -> HUNTER AAF, UNK -> UNALAKLEET, SFZ -> SMITHFIELD, AXP -> SPRING POINT, QUS -> GUSAU, CBT -> CAMABATELA, MZG -> MAKUNG, YFS -> FORT SIMPSON, SLU -> CASTRIES, CGY -> CAGAYAN DE ORO, FSI -> FORT SILL, RET -> ROST, PNL -> PANTELLERIA, KJA -> KRASNOYARSK, PIF -> PINGTUNG, WRB -> MACON, NIT -> NIORT, ESB -> ANKARA, HFN -> HOFN, OTZ -> KOTZEBUE, MMK -> MURMANSK, GNS -> GUNUNG SITOLI, TKX -> TAKAROA, SLD -> SLIAC, JGO -> GODHAVN, HEM -> HELSINKI, BON -> KRALENDIJK, YTZ -> TORONTO, KRN -> KIRUNA, NAE -> NATITINGOU, LSH -> LASHIO, GGN -> GAGNOA, GNI -> GREEN ISLAND, YEU -> EUREKA, YWA -> PETAWAWA, ALR -> ALEXANDRA, PRI -> PRASLIN, CTG -> CARTAGENA, CDG -> PARIS, TAO -> QINGDAO, HGH -> HANGZHOU, GOT -> GOTHENBORG, OUG -> OUAHIGOUYA, BOI -> BOISE, SWS -> SWANSEA, PSP -> PALM SPRINGS, ROT -> ROTORUA, SAF -> SANTA FE, SRP -> STORD, PBO -> PARABURDOO, ANF -> ANTOFAGASTA, BFX -> BAFOUSSAM, TIF -> TAIF, GRZ -> GRAZ, MEZ -> MESSINA, DIM -> DIMBOKRO, LOH -> LOJA, FEZ -> FEZ, CIW -> CANOUAN ISLAND, HOV -> ORSTA-VOLDA, JLR -> JABALPUR, DOL -> DEAUVILLE, JGR -> GRONNEDAL, HAU -> HAUGESUND, KMI -> MIYAZAKI, PIE -> ST. PETERSBURG, LIL -> LILLE, VAD -> VALDOSTA, KSS -> SIKASSO, MNF -> MANA ISLAND, UAP -> UA POU, BNC -> BENI, BIO -> BILBAO, YCW -> CHILLIWACK, HTR -> HATERUMA, KWZ -> KOLWEZI, MAK -> MALAKAL, PER -> PERTH, MAZ -> MAYAGUEZ, ZAH -> ZAHEDAN, AGQ -> AGRINION, OKF -> OKAUKUEJO, TFF -> TEFE, NUU -> NAKURU, KAJ -> KAJAANI, UFA -> UFA, VLG -> VILLA GESELL, RAE -> ARAR, AHO -> ALGHERO, GIB -> GIBRALTAR, BTJ -> BANDA ACEH, CKY -> CONAKRY, OGS -> OGDENSBURG, YGQ -> GERALDTON, BDJ -> BANJARMASIN, TUA -> TULCAN, MRV -> MINERALNYE VODY, CJS -> CIUDAD JUAREZ, ZQC -> SPEYER, LAX -> LOS ANGELES, TPP -> TARAPOTO, SLZ -> SAO LUIS, LIN -> MILAN, ABT -> EL-BAHA, MSW -> MASSAWA, KEL -> KIEL, MKJ -> MAKOUA, GMR -> TOTEGEGIE, MLC -> MCALESTER, AMO -> MAO, VHM -> VILHELMINA, SPB -> SAN LUIS, TNA -> JINAN, JJU -> JULIANEHAAB, CIA -> ROME, MKW -> MANOKWARI, ALJ -> ALEXANDER BAY, BUN -> BUENAVENTURA, EOH -> MEDELLIN, GTB -> FORT DRUM, YQF -> RED DEER INDUSTRIAL, GLO -> GOLOUCHESTERSHIRE, BQN -> AGUADILLA, YAO -> YAOUNDE, FYV -> FAYETTEVILLE, YYD -> SMITHERS, OND -> ONDANGWA, YEN -> ESTEVAN, HVA -> ANALALAVA, JON -> JOHNSTON ISLAND, BKM -> BAKELALAN, WWD -> WILDWOOD, MME -> TEESSIDE, AKF -> KUFRA, NQY -> NEWQUAI, UAK -> NARSSARSSUAQ, SUB -> SURABAYA, TTS -> TSARATANANA, ATB -> ATBARA, MAU -> MAUPITI, RIC -> RICHMOND, MUZ -> MUSOMA, TSA -> TAIPEI, XBJ -> BIRJAND, IXR -> RANCHI, ADH -> ALDAN, YIP -> DETROIT, ESM -> ESMERALDAS, SEY -> SELIBABI, GII -> SIGUIRI, TKU -> TURKU, APG -> ABERDEEN, HGU -> MOUNT HAGEN, SFI -> SAFI, YSB -> SUDBURY, NDC -> NANDED, TRV -> TRIVANDRUM, LGS -> MALARGUE, AVN -> AVIGNON, CZX -> CHANGZHOU, MOM -> MOUDJERIA, BAG -> BAGUIO, NKX -> MIRAMAR, TGD -> PODGORICA, NUK -> NUKUTAVAKE, TSE -> TSELINOGRAD, AQI -> HAFR AL-BATIN, PJG -> PANJGUR, YFB -> IQALUIT, AMI -> MATARAM, LUN -> LUSAKA, BJA -> BEJAJA, FUK -> FUKUOKA, UUD -> ULAN-UDE, KMN -> KAMINA BASE, HFT -> HAMMERFEST, TBO -> TABORA, ACH -> ALTENRHEIN, YQA -> MUSKOKA, MNA -> MELANGGUANE, FOO -> NUMFOR, KMS -> KUMASI, TLE -> TOLIARA, ASF -> ASTRAKHAN, ISJ -> ISLA MUJERES, GPA -> PATRAS, BIQ -> BIARRITZ-BAYONNE, ESH -> SHOREHAM BY SEA, SUH -> SUR, THE -> TERESINA, GRF -> FORT LEWIS, MNL -> MANILA, OHT -> KOHAT, AGX -> AGATTI ISLAND, YDF -> DEER LAKE, ATL -> ATLANTA, TKD -> TAKORADI, CAS -> CASABLANCA, LMN -> LIMBANG, RVY -> RIVERA, GAE -> GABES, UTN -> UPINGTON, MJV -> MURCIA, TIA -> TIRANA, KTA -> KARRATHA, SYX -> SANYA, YYZ -> TORONTO, RYN -> ROYAN, REN -> ORENBURG, CHA -> CHATTANOOGA, BQK -> BRUNSWICK, BBI -> BHUBANESWAR, APL -> NAMPULA, LLI -> LALIBELLA, GEL -> SANTO ANGELO, BUX -> BUNIA, HAN -> HANOI, IGA -> MATTHEW TOWN, HAA -> HASVIK, MIA -> MIAMI, TWU -> TAWAU, YMM -> FORT MCMURRAY, MUO -> MOUNTAIN HOME, HND -> TOKYO, CBH -> BECHAR, UGO -> UIGE, TAS -> TASHKENT, KUD -> KUDAT, BAL -> BATMAN, GSF -> SETIF, SVD -> KINGSTOWN, BZR -> BEZIERS, YPN -> PORT MENIER, NCS -> NEWCASTLE, ASK -> YAMOUSSOUKRO, YSY -> SACHS HARBOUR, XIY -> XI'AN, FFD -> FAIRFORD, GCJ -> JOHANNESBURG, MXP -> MILANO, BEL -> BELEM, PVS -> PROVIDENIYA BAY, CJB -> COIMBATORE, OUL -> OULU, YQL -> LETHBRIDGE, SEH -> SENGGEH, IPC -> EASTER ISLAND, KOP -> NAKHON PHANOM, LFR -> LA FRIA, YVO -> VAL D'OR, AOK -> KARPATHOS, FHU -> FORT HUACHUCA, REX -> REYNOSA, ORE -> ORLEANS, MMO -> MAIO, BJL -> BANJUL, UBP -> UBON RATCHATHANI, YOJ -> HIGH LEVEL, OKI -> OKI ISLAND, DGU -> DEDOUGOU, FCS -> FORT CARSON, NAK -> NAKHON RATCHASIMA, OPF -> MIAMI, TOE -> TOZEUR, KRR -> KRASNODAR, PBU -> PUTAO, JCH -> CHRISTIANSHAAB, VLN -> VALENCIA, VVB -> MAHANORO, KVB -> SKOVDE, SOK -> SEMONKONG, BFL -> BAKERSFIELD, VRB -> VERO BEACH, MAO -> MANAUS, UTC -> SOESTERBERG, BDK -> BONDOUKOU, KSO -> KASTORIA, TPC -> TARAPOA, MIU -> MAIDUGURI, KUS -> KULUSUK, PYH -> PUERTO AYACUCHO, PTG -> PIETERSBURG, LPI -> LINKOEPING, TOS -> TROMSO, LEA -> LEARMONTH, YLL -> LLOYDMINSTER, YQY -> SYDNEY, CYR -> COLONIA, IGR -> IGUAZU FALLS, KGI -> KALGOORLIE, SML -> STELLA MARIS, MFG -> MUZAFFARABAD, GNB -> GRENOBLE, MFJ -> MOALA, MOG -> MONG HSAT, TBS -> TBILISI, PBG -> PLATTSBURGH, AGU -> AGUASCALIENTES, MXM -> MOROMBE, WAT -> WATERFORD, AUG -> AUGUSTA, ALG -> ALGIER, DHN -> DOTHAN, NTY -> PILANESBERG, ZCA -> ARNSBERG, NOW -> PORT ANGELES, FIH -> KINSHASA, OVD -> AVILES, BRO -> BROWNSVILLE, LAN -> LANSING, DOH -> DOHA, YFO -> FLIN FLON, HTN -> HOTAN, MTR -> MONTERIA, FSM -> FORT SMITH, FMY -> FORT MYERS, NCA -> NORTH CAICOS, IRP -> ISIRO, LST -> LAUNCESTON, SHK -> SEHONGHONG, AJJ -> AKJOUJT, SIG -> SAN JUAN, GRW -> GRACIOSA ISLAND, MDY -> MIDWAY, VLS -> VALESDIR, TSN -> TIANJIN, LIQ -> LISALA, PMI -> PALMA DE MALLORCA, NTT -> NIUATOPUTAPU, PNS -> PENSACOLA, JAD -> PERTH, MCX -> MAKHACHKALA, WAC -> WACCA, OSN -> OSAN, LIT -> LITTLE ROCK, FUJ -> FUKUE, PPE -> PUNTA PENASCO, KVA -> KAVALA, PKY -> PALANGKARAYA, CLT -> CHARLOTTE, PUU -> PUERTO ASIS, ULD -> ULUNDI, CUP -> CARUPANO, RSU -> YEOSU, YBG -> BAGOTVILLE, KOK -> KRUUNUPYY, AGJ -> AGUNI, ALL -> ALBENGA, VST -> VASTERAS, RTM -> ROTTERDAM, IGL -> IZMIR, LPB -> LA PAZ, CDC -> CEDAR CITY, JSM -> JOSE DE SAN MARTIN, MCU -> MONTLUCON, VIJ -> VIRGIN GORDA, RBT -> MARSABIT, CIP -> CHIPATA, EMA -> EAST MIDLANDS, ACI -> ALDERNEY, CEP -> CONCEPTION, PEU -> PUERTO LEMPIRA, KAR -> KAMARANG, YSF -> STONY RAPIDS, MJA -> MANJA, MVP -> MITU, PNR -> POINTE-NOIRE, GNZ -> GHANZI, NZC -> JACKSONVILLE, FBD -> FAIZABAD, JDF -> JUIZ DE FORA, ADL -> ADELAIDE, EHM -> CAPE NEWENHAM, LEM -> LEMWERDER, EBJ -> ESBJERG, VEY -> VESTMANNAEYJAR, AJY -> AGADEZ, OMB -> OMBOUE HOSPIAL, QLA -> LASHAM, DJE -> DJERBA, APK -> APATAKI, LMM -> LOS MOCHIS, QSI -> MOSHI, UEO -> KUMEJIMA, CWL -> CARDIFF, UUS -> YUZHNO-SAKHALINSK, JEG -> EGEDESMINDE, TML -> TAMALE, ANX -> ANDOYA, WMN -> MAROANTSETRA, SIB -> SIBITI, SXM -> PHILIPSBURG, AOJ -> AOMORI, ASA -> ASSAB, HKY -> HICKORY, MKK -> MOLOKAI, IXE -> MANGALORE, KEO -> ODIENNE, HIB -> HIBBING, IKI -> IKI, ABY -> ALBANY, PVR -> PUERTO VALLARTA, MTY -> MONTERREY, TAR -> GROTTAGLIE, ODS -> ODESSA, PEG -> PERUGIA, IAS -> IASI, EVE -> EVENES, TDV -> TANANDAVA, FLN -> FLORIANOPOLIS, IBZ -> IBIZA, BTV -> BURLINGTON, YHZ -> HALIFAX, LUR -> CAPE LISBURNE, KUU -> KULU, BAK -> BAKU, CVQ -> CARNARVON, PMD -> PALMDALE, SFN -> SANTA FE, BES -> BREST, DHT -> DALHART, NEG -> NEGRIL, NGO -> NAGOYA, CHT -> CHATHAM ISLAND, YDB -> BURWASH, HTL -> HOUGHTON LAKE, BIG -> DELTA JUNCTION, BTH -> BATAM, NIG -> NIKUNAU, DGO -> DURANGO, OTL -> BOUTILIMIT, YPY -> FORT CHIPEWYAN, AOC -> ALTENBURG, VVO -> VLADIVOSTOK, OME -> NOME, PUJ -> PUNTA CANA, DUR -> DURBAN, KRW -> KRASNOVODSK, SEA -> SEATTLE, YZW -> TESLIN, EAM -> NEJRAN, REL -> TRELEW, SJC -> SAN JOSE, YAB -> ARCTIC BAY, EIN -> EINDHOVEN, POW -> PORTOROZ, XIL -> XILINHOT, PED -> PARDUBICE, WMD -> MANDABE, TSB -> TSUMEB, SGC -> SURGUT, GKN -> GULKANA, VTU -> LAS TUNAS, BRQ -> TURANY, YCV -> MONTREAL, NCE -> NICE, AMH -> ARBA MINCH, HBA -> HOBART, JER -> JERSEY, UAS -> SAMBURU, SOU -> SOUTHAMPTON, GVW -> GRANDVIEW, PBF -> PINE BLUFF, SNC -> SALINAS, HAR -> HARRISBURG, RIU -> RANCHO MURIETA, NGE -> N'GAOUNDERE, HFD -> HARTFORD, MQS -> MUSTIQUE, NIM -> NIAMEY, PZE -> PENZANCE, LDE -> TARBES, AIG -> YALINGA, FNC -> FUNCHAL, BAX -> BARNAUL, ADJ -> AMMAN, APW -> FALEOLO, MOD -> MODESTO, MES -> MEDAN, FER -> KALOKOL, PTP -> POINTE-A-PITRE, KIR -> KERRY, MSU -> MASERU, HOP -> HOPKINSVILLE, AMM -> AMMAN, UGN -> CHICAGO, SCV -> SUCEAVA, CXO -> CONROE, YSU -> SUMMERSIDE, BGA -> BUCARAMANGA, MID -> MERIDA, YUL -> MONTREAL, FSP -> ST.-PIERRE, DLC -> DALIAN, TUN -> TUNIS, MWF -> MAEWO-NAONE, OCV -> OCANA, CAR -> CARIBOU, MIV -> MILLVILLE, BUZ -> BUSHEHR, CGN -> COLOGNE, HAM -> HAMBURG, EQS -> ESQUEL, NDB -> NOUADHIBOU, GIZ -> GIZAN, PBN -> PORTO AMBOIM, DYU -> DUSHANBE, LGA -> NEW YORK, LXS -> LIMNOS, KUO -> KUOPIO, MFC -> MAFETENG, BTE -> BONTHE, KIH -> KISH ISLAND, BDR -> STRATFORD, JSR -> JESSORE, HYD -> HYDERABAD, TXA -> TLAXCALA, HEW -> ATHENS, TRD -> TRONDHEIM, HLZ -> HAMILTON, SSE -> SHOLAPUR, PLM -> PALEMBANG, RGL -> RIO GALLEGOS, SKU -> SKIROS, ESK -> ESKISEHIR, SFD -> SAN FERNANDO DE APURE, DEM -> DEMBIDOLLO, KMQ -> KOMATSUJIMA, WBD -> BEFANDRIANA, BGF -> BANGUI, YTS -> TIMMINS, BTR -> BATON ROUGE, STR -> STUTTGART, RDE -> MERDEI, TAL -> TANANA, FLR -> FIRENZE, TFN -> TENERIFE, EBA -> MARINA DI CAMPO, LSP -> PARAGUANA, UTH -> UDON THANI, BEY -> BEIRUT, PSO -> PASTO, YIV -> ISLAND LAKE, DJJ -> JAYAPURA, AVV -> AVALON, KAA -> KASAMA, RDZ -> RODEZ, KHG -> KASHI, HHR -> HAWTHORNE, PHX -> PHOENIX, BAD -> SHREVEPORT, CUL -> CULIACAN, BVG -> BERLEVAG, MNC -> NACALA, KSJ -> KASOS, SQC -> SINTANG, TSL -> TAMUIN, OSR -> OSTRAVA, KBS -> BO, INL -> INTERNATIONAL FALLS, IRI -> IRINGA, MCG -> MCGRATH, JSA -> JAISALMER, YBC -> BAIE COMEAU, SIS -> SISHEN, JNU -> JUNEAU, SHS -> SHASHI, TUC -> TUCUMAN, UAH -> UA HUKA, AUA -> ORANJESTAD, FAA -> FARANAH, SIF -> SIMARA, PEN -> PENANG, NTK -> TUSTIN, NSN -> NELSON, ORT -> NORTHWAY, HUH -> HUAHINE ISLAND, YVM -> BROUGHTON ISLAND, AXD -> ALEXANDROUPOLIS, VLL -> VALLADOLID, STY -> SALTO, LCL -> LA COLOMA, KKJ -> KITAKYUSHU, PIS -> POITIERS, RND -> SAN ANTONIO, ADB -> IZMIR, CDU -> CAMDEN, BUI -> BOKONDINI, IXZ -> PORT BLAIR, LPQ -> LUANG PRABANG, PDP -> PUNTA DEL ESTE, PUQ -> PUNTA ARENAS, LTQ -> LE TOURQUET, MZH -> MERZIFON, YZD -> TORONTO, MXZ -> MEIXIAN, YCD -> NANAIMO, BUW -> BAU BAU, GLF -> GOLFITO, VTZ -> VISHAKHAPATNAM, GIL -> GILGIT, MVT -> MATAIVA, DLH -> DULUTH, CHH -> CHACHAPOYAS, HMN -> ALAMOGORDO, KPI -> KAPIT, BVA -> BEAUVAIS, MEG -> MALANJE, NCH -> NACHINGWEA, BXD -> BADE, BDT -> GBADOLITE, IAB -> WICHITA, RUN -> ST.-DENIS, SZA -> SOYO, SMF -> SACRAMENTO, VAF -> VALENCE, ZCO -> TEMUCO, AQA -> ARARACUARA, XFW -> HAMBURG, MYG -> MAYAGUANA, YYL -> LYNN LAKE, ZAJ -> ZARANJ, MEX -> MEXICO CITY, AJL -> AIZWAL, MMB -> MEMANBETSU, SCL -> SANTIAGO, TMX -> TIMIMOUN, YRT -> RANKIN INLET, LGG -> LIEGE, SMS -> SAINTE MARIE, MMX -> MALMOE, GNT -> GRANTS, UMR -> WOOMERA, DZH -> DZHEZKAZGAN, BBA -> BALMACEDA, SOZ -> SOLENZARA, AFL -> ALTA FLORESTA, GWE -> GWERT, ZQN -> QUEENSTOWN INTERNATIONAL, RNS -> RENNES, MOB -> MOBILE, DBO -> DUBBO, YBT -> BROCHET, YPH -> INUKJUAK, SFB -> SANFORD, MGD -> MAGDALENA, BUF -> BUFFALO, SHA -> SHANGHAI, YZS -> CORAL HARBOUR, AUR -> AURILLAC, SUV -> SUVA, PZO -> GUAYANA, HBT -> KING KHALID MIL.CITY, IOM -> ISLE OF MAN, MGQ -> MOGADISHU, GPI -> GUAPI, QYR -> TROYES, HLP -> JAKARTA, FLA -> FLORENCIA, HIF -> OGDEN, VIC -> VICENZA, TCU -> THABA NCHU, CPX -> CULEBRA, MKB -> MEKAMBO, HKT -> PHUKET, YSR -> NANISIVIK, YYR -> GOOSE BAY, CVM -> CIUDAD VICTORIA, IAH -> HOUSTON, PLZ -> PORT ELIZABETH, GYA -> GUAYARAMERIN, ROS -> ROSARIO, UVE -> OUVEA, TSF -> TREVISO, LUW -> LUWUK, IMO -> ZEMIO, EDW -> EDWARDS AFB, YUY -> ROUYN, KNG -> KAIMANA, NSY -> SIGONELLA, YHI -> HOLMAN ISLAND, SVW -> SPARREVOHN, FKQ -> FAK FAK, SSY -> M'BANZA-CONGO, CPC -> SAN MARTIN DES ANDES, HAV -> HAVANA, PVK -> PREVEZA, BED -> BEDFORD, IVC -> INVERCARGILL, LKL -> BANAK, LII -> MULIA, IXH -> KAILASHAHAR, OUE -> OUESSO, CTT -> LE CASTELLET, TKV -> TATAKOTO, KBI -> KRIBI, ZAM -> ZAMBOANGA, ORB -> OREBRO, MAB -> MARABA, OYL -> MOYALE LOWER, SWG -> SUMBAWA, FAN -> LISTA, LYE -> LYNEHAM, TBT -> TABATINGA, MEB -> MELBOURNE, PGF -> PERPIGNAN, VLV -> VALERA, IPH -> IPOH, SWX -> SHAKAWE, XMS -> MACAS, NLO -> KINSHASA, PNZ -> PETROLINA, YLD -> CHAPLEAU, BKR -> BOKORO, CAV -> CAZOMBO, FMO -> MUENSTER/OSNABRUECK, GEV -> GALLIVARE, MLW -> MONROVIA, KNJ -> KINDAMBA, RVA -> FARAFANGANA, AMA -> AMARILLO, ISA -> MOUNT ISA, TEY -> THINGEYRI, YNG -> YOUNGSTOWN, FIG -> FIRA, SJT -> SAN ANGELO, HJR -> KHAJURAHO, NKY -> N'KAYI, JAK -> JAKARTA, MUX -> MULTAN, BGR -> BANGOR, AXU -> AXUM, CGR -> CAMPO GRANDE, LBJ -> LABUHAN BAJO, LWR -> LEEUWARDEN, MVZ -> MASVINGO, MPM -> MAPUTO, PSS -> POSADAS, BOD -> BORDEAUX, GOH -> GODTHAAB, QPZ -> PIACENZA, MTC -> MOUNT CLEMENS, ANB -> ANNISTON, NBX -> NABIRE, YAL -> ALERT BAY, AEH -> ABECHE, KED -> KAEDI, INX -> INANWATAN, CCJ -> CALICUT, RCH -> RIO HACHA, KIV -> KISHINEV, FEN -> FERNANDO DO NORONHA, LRD -> LAREDO, KWH -> KHWAHAN, MUY -> MUYONDZI, ITM -> OSAKA, PRC -> PRESCOTT, TTB -> TORTOLI, PNH -> PHNOM-PENH, FDF -> FORT-DE-FRANCE, AVB -> AVIANO, OKA -> NAHA, AEA -> ABEMAMA ATOLL, SDK -> SANDAKAN, BAU -> BAURU, LTL -> LASTOURVILLE, YXL -> SIOUX LOOKOUT, OUT -> BOUSSO, IAM -> ZARZAITINE, TUR -> TUCURUI, BFM -> MOBILE, BJM -> BUJUMBURA, RCU -> RIO CUARTO, GGG -> LONGVIEW, BOU -> BOURGES, BSU -> BASANKUSU, GOU -> GAROUA, MLG -> MALANG, GCM -> GEORGETOWN, UNI -> UNION ISLAND, SCC -> DEADHORSE, TBZ -> TABRIZ, MEY -> MEGHAULI, RCM -> RICHMOND, CIX -> CHICLAYO, HOW -> HOWARD, SAV -> SAVANNAH, MZM -> METZ, EDM -> LA ROCHE-SUR-YON, GGT -> GEORGE TOWN, NRM -> NARA, WTD -> WEST END, DIL -> DILI, JAF -> JAFFNA, KYZ -> KYZYL, YLC -> LAKE HARBOUR, GOI -> GOA, BND -> BANDAR ABBAS, KMJ -> KUMAMOTO, ESS -> ESSEN, WTS -> TSIROANOMANDIDY, YJN -> ST. JEAN, RFP -> RAIATEA ISLAND, YSK -> SANIKILUAQ, VOL -> VOLOS, AGR -> AGRA, AJA -> AJACCIO, VGO -> VIGO, SRJ -> SAN BORJA, KKN -> KIRKENES, MBW -> MELBOURNE, OLS -> NOGALES, WGP -> WAINGAPU, MZW -> MATSU, BWF -> BARROW ISLAND, ALC -> ALICANTE, ZAD -> ZADAR, ELD -> EL DORADO, NAW -> NARATHIWAT, NID -> CHINA, MGN -> MAGANGUE, KLE -> KAELE, STU -> RIO DE JANEIRO, TRZ -> TIRUCHCHIRAPPALLI, ELU -> EL OUED, TID -> TIARET, SUL -> SUI, FYU -> FORT YUKON, QCY -> CONINGSBY, MHZ -> MILDENHALL, NUE -> NUERNBERG, ETE -> METEMA, BQS -> BLAGOVESCHENSK, BTI -> BARTER ISLAND, KLV -> KARLOVY VARY, MHH -> MARSH HARBOR, CMH -> COLUMBUS, AOR -> ALOR SETAR, FLW -> FLORES (FLORES ISL.), MDW -> CHICAGO, PMO -> PALERMO, CUU -> CHIHUAHUA, ROR -> BABELTHUAP, PIU -> PIURA, SIJ -> SIGLUFJORDUR, BLK -> BLACKPOOL, LSF -> FORT BENNING, TXM -> TEMINABUAN, BHK -> BUKHARA, YGZ -> GRISE FIORD, YVR -> VANCOUVER, MUN -> MATURIN, MCN -> MACON, MLH -> MULHOUSE, LAZ -> BOM JESUS DA LAPA, LGK -> PULAU, PXM -> PUERTO ESCONDIDO, UBA -> UBERABA, CEG -> HAWARDEN, ULA -> SAN JULIAN, PDG -> PADANG, BQO -> BUONA, CBM -> COLOMBUS, TUD -> TAMBACOUNDA, YVC -> LA RONGE, SVQ -> SEVILLA, RVE -> SARAVENA, BUO -> BURAO, TIU -> TIMARU, TUU -> TABUK, TTN -> TRENTON, TGH -> TONGOA, CLL -> COLLEGE STATION, URO -> ROUEN, SBW -> SIBU, TCQ -> TACNA, UAL -> LUAU, YED -> EDMONTON, ING -> LAGO ARGENTINO, XGN -> XANGONGO, IXL -> LEH, NBG -> NEW ORLEANS, CLJ -> CLUJ-NAPOCA, MSN -> MADISON, THI -> TICHITT, MLZ -> MELO, STD -> SANTO DOMINGO, WTN -> WADDINGTON, OIR -> OKUSHIRI, MVO -> MONGO, GBE -> GABERONE, VNX -> VILANKULU, LNK -> LINCOLN, GLK -> GALCAIO, SPN -> SAIPAN, IMF -> IMPHAL, USN -> ULSAN, GXG -> NEGAGE, MYZ -> MONKEY BAY, CAW -> CAMPOS, BBV -> GRAND BEREBY, TBP -> TUMBES, MOL -> MOLDE, DOM -> DOMINICA, WOE -> WOENSDRECHT, MKL -> JACKSON, CXJ -> CAXIAS DO SUL, ETZ -> METZ, ZUN -> ZUNI PUEBLO, SZL -> KNOBNOSTER, YYG -> CHARLOTTETOWN, PAD -> PADERBORN, SJP -> SAO JOSE DO RIO PRETO, NOZ -> NOVOKUZNETSK, BCM -> BACAU, YND -> GATINEAU, MXL -> MEXICALI, TED -> THISTED, CBD -> CAR NICOBAR, COS -> COLORADO SPRINGS, TGO -> TONGLIAO, AUF -> AUXERRE, SOM -> SAN TOME, CIJ -> COBIJA, BKI -> KOTA KINABALU, YPR -> PRINCE PUPERT, IPL -> IMPERIAL, MWL -> MINERAL WELLS, CCN -> CHAKHCHARAN, SNP -> ST. PAUL ISLAND, ZKM -> SETTE-CAMA, PCB -> JAKARTA, GWT -> WESTERLAND, TEU -> TE ANAU, VBG -> LOMPOC, DCF -> CANEFIELD, PUB -> PUEBLO MEMORIAL, KNN -> KANKAN, RYK -> RAHIM YAR KHAN, POI -> POTOSI, ZRH -> ZURICH, KKC -> KHON KAEN, LRL -> NIATOUGOU, BFI -> SEATTLE, SGV -> SIERRA GRANDE, AIT -> AITUTAKI, LKO -> LUCKNOW, SZK -> SKUKUZA, BGN -> BRUEGGEN, FAJ -> FAJARDO, YAP -> YAP, GAO -> GUANTANAMO, IXW -> JAMSHEDPUR, BRX -> BARAHONA, ORF -> NORFOLK, BAQ -> BARRANQUILLA, YEV -> INUVIK, DUM -> DUMAI, BRC -> SAN CARLOS DE BARILOCH, MJF -> MOSJOEN, IPI -> IPIALES, MEL -> MELBOURNE, PZH -> ZHOB, ATA -> ANTA, LAE -> NADZAB, JFR -> FREDERIKSHAAB, HUE -> ALOFI, TOZ -> TOUBA, RHE -> REIMS, EPL -> EPINAL, KGD -> KALININGRAD, POX -> PONTOISE, TNI -> SATNA, MEN -> MENDE, INS -> INDIAN SPRINGS, GLX -> GALELA, UPP -> OPOLU, ABK -> KABRE DARE, INQ -> INISHEER, NCY -> ANNECY, ZWA -> ANDAPA, NHT -> NORTHOLT, PGI -> CHITATO, HDS -> HOEDSPRUIT, SKD -> SAMARKAND, KSE -> KASESE, MAN -> MANCHESTER, ZTH -> ZAKYNTHOS, NTR -> MONTERREY, PAP -> PORT-AU-PRINCE, SLW -> SALTILLO, FXE -> FORT LAUDERDALE, IOR -> INISHMORE, YQV -> YORKTON, OTP -> BUCHAREST, WSZ -> WESTPORT, ACE -> LANZEROTE, MWZ -> MWANZA, TLS -> TOULOUSE, DBT -> DEBRE TABOR, LUQ -> SAN LUIS, YQZ -> QUESNEL, NYI -> SUNYANI, JPA -> JOAO PESSOA, FKI -> KISANGANI, TJA -> TARIJA, ASV -> AMBOSELI, KTN -> KETCHIKAN, DOK -> DONETSK, YTH -> THOMPSON, TTJ -> TOTTORI, TVA -> MORAFENOBE, EME -> EMDEN, IXS -> SILCHAR, MFM -> MACAU, BTZ -> BURSA, AGV -> ACARIGUA, 1Z8 -> ENIWETOK ISLAND, PHC -> PORT HARTCOURT, WAG -> WANGANUI, BHO -> BHOPAL, ANU -> ANTIGUA, PMS -> PALMYRA, LNY -> LANAI, THT -> TAMCHAKETT, UVF -> HEWANDORRA, RAS -> RASHT, RSA -> SANTA ROSA, BZI -> BALIKESIR, CYI -> CHIAYI, EJA -> BARRANCABERMEJA, MNK -> MAIANA, PAV -> PAULO ALFONSO, NJK -> EL CENTRO, YZV -> SEPT-ILES, LFW -> LOME, EDI -> EDINBURGH, ABD -> ABADAN, SHJ -> SHARJAH, PIK -> PRESTWICK, TPS -> TRAPANI, BSR -> BASRAH, CAC -> CASCAVEL, MCP -> MACAPA, AJU -> ARACAJU, YGP -> GASPE, CRD -> COMODORO RIVADAVIA, SBK -> ST.-BRIEUC ARMOR, YMW -> MANIWAKI, GEA -> NOUMEA, MDE -> RIO NEGRO, POE -> FORT POLK, ILK -> ILAKA EAST, LEK -> LABE, CND -> CONSTANTA, SVB -> SAMBAVA, ABU -> ATAMBUA, YPE -> PEACE RIVER, NKC -> NOUAKSCHOTT, SSR -> SARA, FDU -> BANDOUNDU, IWO -> IWOJIMA, HAH -> MORONI, JUI -> JUIST, GUS -> PERU, NNA -> KENTIRA, BBY -> BAMBARI, TMP -> TAMPERE, HNA -> HANAMAKI, PNM -> PRINCETON, FBK -> FORT WAINWRIGHT, TCB -> TREASURE CAY, AGE -> WANGEROOGE, TYN -> TAIYUAN, GSE -> GOTHENBORG, ODB -> CORDOBA, IXA -> AGARTALA, EGP -> EAGLE PASS, MMJ -> MATSUMOTO, SLA -> SALTA, GUD -> GOUNDAM, LVI -> LIVINGSTONE, DGT -> DUMAGUETE, NIX -> NIORO, MVB -> FRANCEVILLE, HEI -> HEIDE-BUESUM, BMK -> BORKUM, OMA -> OMAHA, FUN -> FUNAFUTI, BTS -> BRATISLAVA, KRS -> KRISTIANSAND, ECG -> ELIZABETH CITY, MZR -> MAZAR-I-SHARIF, ARU -> ARACATUBA, KDA -> KOLDA, YKL -> SCHEFFERVILLE, GHA -> GHARDAIA, HDH -> DILLINGHAM, GND -> POINT SALINES, MUJ -> MUI RIVER, DRW -> DARWIN, LCD -> LOUIS TRICHARDT, GSB -> GOLDSBORO, ETH -> ELAT, DRI -> DERIDDER, SYA -> SHEMYA, JOI -> JOINVILLE, EYW -> KEY WEST, RTB -> ROATAN, ULN -> ULAN BATOR, PFB -> PASSO FUNDO, YXU -> LONDON, NTD -> POINT MUGU, SJZ -> SAO JORGE ISLAND, TKN -> TOKUNOSHIMA, ILM -> WILMINGTON, BOM -> BOMBAY, ZVK -> SAVANNAKHET, TAC -> TACLOBAN, TCM -> TACOMA, COO -> COTONOU, ZCL -> ZACATECAS, OLA -> ORLAND, NGS -> NAGASAKI, DUH -> OUDTSHOORN, MAL -> MANGOLE, MGZ -> MYINGYAN, THF -> BERLIN, POS -> PORT-OF-SPAIN, PDX -> PORTLAND, ABA -> ABAKAN, IEG -> ZIELONA GORA, PVA -> PROVIDENCIA, FAV -> FAKARAVA, EAE -> EMAE, BOZ -> BOZOUM, MSP -> MINNEAPOLIS, KZS -> KASTELORIZO, YYC -> CALGARY, NYO -> STOCKHOLM, FNG -> FADA N'GOURMA, VXC -> LICHINGA, TIJ -> TIJUANA, GLS -> GALVESTON, NGV -> N'GIVA, AXM -> ARMENIA, RTG -> RUTENG, CFE -> CLERMONT FERRAND, NLD -> NUEVO LAREDO, JRO -> KILIMANJARO, KTT -> KITTILA, NHA -> NHATRANG, OGR -> BONGOR, ERF -> ERFURT, YGJ -> MIHO, CYB -> CAYMAN BARAC, MUA -> MUNDA, ZYL -> SYLHET OSMANI, ENF -> ENONTEKIO, FOE -> TOPEKA, YRJ -> ROBERVAL, LBB -> LUBBOCK, BZZ -> BRIZE NORTON, BKJ -> BOKE, OZZ -> OUARZAZATE, LOD -> LONGANA, TRU -> TRUJILLO, RUH -> RIYADH, GOZ -> GORNA ORECHOVICA, PZB -> PIETERMARITZBURG, YFR -> FORT RESOLUTION, VYD -> VRYHEID, PNC -> PONCA CITY, THC -> TCHIEN, YHD -> DRYDEN, MKP -> MAKEMO, POT -> PORT ANTONIO, MLB -> MELBOURNE, AEP -> BUENOS AIRES, ADX -> LEUCHARS, SOQ -> SORONG, SSA -> SALVADOR, NVT -> NAVEGANTES, GHU -> GUALEGUAYCHU, KOO -> KONGOLO, RAI -> PRAIA, LIH -> LIHUE, QHD -> HEIDELBERG, FOR -> FORTALEZA, ZOS -> OSORNO, RIB -> RIBERALTA, XMH -> MANIHI, XBL -> BUNNO BEDELE, OKJ -> OKAYAMA, ERC -> ERZINCAN, KNX -> KUNUNURRA, GKA -> GOROKA, ZGC -> LANZHOU, ADK -> ADAK ISLAND, ENC -> NANCY, PRH -> PHRAE, NGB -> NINBO, MOZ -> MOOREA, FRO -> FLORO, TTT -> FENGNIN, KDC -> KANDI, GTF -> GREAT FALLS, AEY -> AKUREYRI, WKJ -> WAKKANAI, HUA -> REDSTONE, PUY -> PULA, BYH -> BLYTHEVILLE, HKK -> HOKITIKA, FLV -> FORT LEAVENWORTH, BPN -> BALIKPAPAN, AZZ -> AMBRIZ, TUO -> TAUPO, BDN -> TALHAR, UTT -> UMTATA, AMP -> AMPANIHY, SFH -> SAN FELIPE, LRS -> LEROS, LUH -> LUDHIAHA, LCO -> LAGUE, UET -> QUETTA, EZS -> ELAZIG, YQR -> REGINA, CGK -> JAKARTA, LBU -> LABUAN, IQT -> IQUITOS, PBM -> ZANDERY, BLV -> BELLEVILLE, VSA -> VILLAHERMOSA, PBL -> PUERTO CABELLO, AAH -> AACHEN, TKP -> TAKAPOTO, BDQ -> BARODA, BSC -> BAHIA SOLANO, GDN -> GDANSK, SEN -> SOUTHEND, YXH -> MEDICINE HAT, CVG -> CINCINNATI, ZLO -> MANZANILLO, BOC -> BOCAS DEL TORO, MBO -> MMABATHO, HRE -> HARARE, OFI -> OUANGO FITINI, GEO -> GEORGETOWN, ADM -> ARDMORE, VHY -> VICHY, SNI -> GREENVILLE, GAG -> GAGE, MTF -> MIZAN TEFERI, PNB -> PORTO NACIONAL, YTL -> BIG TROUT LAKE, TCC -> TUCUMCARI, SVP -> KUITO, SAN -> SAN DIEGO, SKV -> ST. CATHERINE, ORA -> ORAN, MQQ -> MOUNDOU, HME -> HASSI-MESSAOUD, BEV -> BEER-SHEBA, FAB -> FARNBOROUGH, IBA -> IBADAN, LOS -> LAGOS, SKE -> SKIEN, FLO -> FLORENCE, ILG -> WILMINGTON, DND -> DUNDEE, PUZ -> PUERTO CABEZAS, VXO -> VAXJO, YZR -> SARNIA, BOP -> BOUAR, SPK -> SAPPORO, BAV -> BAOTOU, YDL -> DEASE LAKE, NOB -> NOSARA BEACH, MCC -> SACRAMENTO, TEB -> TETERBORO, LLW -> LILONGWE, AEX -> ALEXANDRIA, MYT -> MYITKYINA, CLQ -> COLIMA, VXE -> SAO VICENTE ISLAND, HUL -> HOULTON, MCY -> MAROOCHYDORE, BSN -> BOSSANGOA, YGK -> KINGSTON, YRF -> CARTWRIGHT, SAK -> SAUDARKROKUR, GWL -> GWALIOR, CAX -> CARLISLE, KCH -> KUCHING, CUM -> CUMANA, SMR -> SANTA MARTA, RUR -> RURUTU, EIS -> ROADTOWN/BEEF ISLAND, AFY -> AFYON, GJA -> GUANAJA, LMB -> SALIMA, CTL -> CHARLIEVILLE, LPA -> GRAN CANARIA, ASW -> ASWAN, OUD -> OUJDA, DIE -> ANTSIRANANA, AWZ -> AHWAZ, EZE -> BUENOS AIRES, HEL -> HELSINKI, TBU -> TONGATAPU, VKT -> VORKUTA, MDI -> MAKURDI, TPA -> TAMPA, MXN -> MORLAIX, MEC -> MANTA, PKZ -> PAKSE, HAS -> HAIL, PET -> PELOTAS, HLN -> HELENA, NUW -> WHIDBEY ISLAND, EMN -> NEMA, UME -> UMEA, SBH -> ST.-BARTHELEMY, NOU -> NOUMEA, NCU -> NUKUS, AWA -> AWASA, DUB -> DUBLIN, TAB -> SCARBOROUGH, YUM -> YUMA, SLF -> SULAYEL, GVA -> GENEVA, HOQ -> HOF, BDH -> BANDAR LENGEH, TBN -> FORT LEONARDWOOD, SCU -> SANTIAGO DE CUBA, ELP -> EL PASO, GYM -> GUAYMAS, PIZ -> POINT LAY, ENE -> ENDE, OVB -> NOVOSIBIRSK, HGA -> HARGEISA, LIS -> LISBON, CEF -> CHICOPEE FALLS, SMA -> SANTA MARIA (ISLAND), PSI -> PASNI, YCO -> COPPERMINE, ABI -> ABILENE, MRS -> MARSEILLE, MDT -> HARRISBURG, VNO -> VILNIUS, JUB -> JUBA, RNJ -> YORON, DIR -> DIRE DAWA, MAF -> MIDLAND, LIM -> LIMA, BPG -> BARRA DO GARCAS, MZC -> MITZIC, CQF -> CALAIS, AWD -> ANIWA, LGQ -> LAGO AGRIO, ABV -> ABUJA, CYO -> CAYO, NDE -> MANDERA, KSF -> KASSEL, FXO -> CUAMBA, CSK -> CAP SKIRING, VAG -> VARGINHA, DSE -> DESSIE, CMR -> COLMAR, MMC -> CIUDAD MANTE, TRC -> TORREON, UCT -> UKHTA, LTD -> GHADAMES, LHR -> LONDON, OUA -> OUAGADOUGOU, ISK -> NASIK ROAD, ADW -> CAMP SPRINGS, LRC -> LAARBRUCH, ATI -> ARTIGAS, KAG -> KANGNUNG, INF -> IN GUEZZAM, PCN -> PICTON, AKJ -> ASAHIKAWA, SFO -> SAN FRANCISCO, SLM -> SALAMANCA, PNI -> POHNPEI, EBD -> EL OBEID, IXT -> PASIGHAT, YYU -> KAPUSKASING, AUS -> AUSTIN, LSQ -> LOS ANGELES, SDL -> SUNDSVALL, ERZ -> ERZURUM, PPS -> PUERTO PRINCESA, AKD -> AKOLA, MGE -> MARIETTA, TTU -> TETOUAN, TAW -> TACUAREMBO, MKY -> MACKAY, OMH -> UROMIYEH, KAB -> KARIBA, TUS -> TUCSON, PUK -> PUKARUA, KHW -> KHWAI RIVER LODGE, POG -> PORT GENTIL, HGS -> HASTINGS, KNU -> KANPUR, TDD -> TRINIDAD, PAM -> PANAMA CITY, YLW -> KELOWNA, NYK -> NANYUKI, KER -> KERMAN, JWA -> JWANENG, WUH -> WUHAN, OMO -> MOSTAR, VRU -> VRYBURG, TGR -> TOUGGOURT, ASD -> ANDROS TOWN, TMN -> TAMANA, PSX -> PALACIOS, SXR -> SRINAGAR, SGD -> SOENDERBORG, SOE -> SOUANKE, DKR -> DAKAR, BBS -> BLACKBUSHE, PMF -> PARMA, HON -> HURON, BEI -> BEICA, ONI -> MOANAMANI, RUA -> ARUA, PAC -> PANAMA, ATR -> ATAR, CTS -> SAPPORO, JNS -> NARSSAQ, CDB -> COLD BAY, TAM -> TAMPICO, LDK -> LIDKOPING, SDR -> SANTANDER, GVT -> GREENVILE, GFK -> GRAND FORKS, IOS -> ILHEUS, RRK -> ROURKELA, FTU -> TOLAGNARO, MKE -> MILWAUKEE, GCI -> GUERNSEY, MOT -> MINOT, YMJ -> MOOSE JAW, MRD -> MERIDA, LBA -> LEEDS, DED -> DEHRA DUN, AGZ -> AGGENEYS, KTM -> KATHMANDU, BCT -> BOCA RATON, KTG -> KETAPANG, MST -> MAASTRICHT, CAB -> CABINDA, CFD -> BRYAN, VAN -> VAN, LYS -> LYON, PDS -> PIEDRAS NEGRAS, JBR -> JONESBORO, ZSA -> COCKBURN TOWN, OPO -> PORTO, CUF -> LEVALDIGI, MSE -> MANSTON, LUD -> LUDERITZ, CDP -> CUDDAPAH, KWL -> GUILIN, TTH -> THUMRAIT, NAT -> NATAL, DJM -> DJAMBALA, MFU -> MFUWE, BGU -> BANGASSOU, LBI -> ALBI, CBV -> COBAN, FRA -> FRANKFURT, JYV -> JYVASKYLA, BCA -> BARACOA PLAYA, SOJ -> SORKJOSEN, STV -> SURAT, RDU -> RALEIGH-DURHAM, GAL -> GALENA, KRE -> KIRUNDO, CRQ -> CARAVELAS, TUI -> TURAIF, BTU -> BINTULU, BDU -> BARDUFOSS, ADA -> ADANA, KGJ -> KARONGA, PRV -> PREROV, KDH -> KANDAHAR, KPO -> POHANG, TMH -> TANAH MERAH, NZY -> SAN DIEGO, BMW -> BORDJ MOKHTAR, ZAZ -> ZARAGOZA, RJK -> RIJEKA, AGS -> BUSH FIELD, NVA -> NEIVA, BIF -> EL PASO, BEZ -> BERU, HRM -> TILREMPT, ALP -> ALEPPO, TRN -> TORINO, SFT -> SKELLEFTEA, BLE -> BORLANGE, DPA -> WEST CHICAGO, YWY -> WRIGLEY, ESE -> ENSENADA, BHE -> WOODBOURNE, LZH -> LIUZHOU, BYS -> FORT IRWIN, SVL -> SAVONLINNA, BST -> BOST, SEB -> SEBHA, STI -> SANTIAGO, KHH -> KAOHSIUNG, GOV -> GOVE, KLO -> KALIBO, CCH -> CHILE CHICO, OTI -> MOROTAI ISLAND, RMS -> RAMSTEIN, MTK -> MAKIN ISLAND, POR -> PORI, TOM -> TOMBOUCTOU, NHK -> PATUXENT RIVER, REA -> REAO, KSU -> KRISTIANSUND, NQN -> NEUQUEN, ABM -> AMBERLEY, IXY -> KANDLA, ENK -> ENNISKILLEN, JDP -> PARIS, NWI -> NORWICH, MDS -> MIDDLE CAICOS, KGG -> KEDOUGOU, YOL -> YOLA, CGB -> CUIABA, YBB -> PELLY BAY, CZL -> CONSTANTINE, HFE -> HEFEI, NUS -> NORSUP, WEL -> WELKOM, BIX -> BILOXI, WHK -> WHAKATANE, IRJ -> LA RIOJA, VRK -> VARKAUS, ZNF -> HANAU, VOH -> VOHEMAR, SJK -> SAO JOSE DOS CAMPOS, BRI -> BARI, RDR -> RED RIVER, OKO -> YOKOTA, TRW -> TARAWA, OKL -> OKSIBIL, MTT -> MINATITLAN, ROC -> ROCHESTER, FMN -> FARMINGTON, INK -> WINK, AMB -> AMBILOBE, MJD -> MOENJODARO, YKS -> YAKUTSK, PQI -> PRESQUE ISLE, LLA -> LULEA, CHX -> CHANGUINOLA, MLT -> MILLINOCKET, CXP -> CILACAP, MLM -> MORELIA, WJR -> WAJIR, GRY -> GRIMSEY, PIX -> PICO, ANM -> ANTALAHA, MZI -> MOPTI, AMQ -> AMBON, BNS -> BARINAS, HMO -> HERMOSILLO, KEV -> HALLI, DLG -> DILLINGHAM, MKH -> MOKHOTLONG, NAS -> NASSAU, LXR -> LUXOR, LMG -> LAMBASA, BQH -> BIGGIN HILL, TDA -> TRINIDAD, OTC -> BOL, BKO -> BAMAKO, ANC -> ANCHORAGE, SHM -> NANKI-SHIRAHAMA, MTZ -> METZADA, NOP -> MASBATE, YLT -> ALERT, ANO -> ANGOCHE, USH -> USHUAIA, RFN -> RAUFARHOFN, RAJ -> RAJKOT, KEE -> KELLE, PHL -> PHILADELPHIA, CFG -> CIENFUEGOS, BVE -> BRIVE, YUB -> TUKTOYAKTUK, SUF -> LAMEZIA, YET -> EDSON, CAI -> CAIRO, BRS -> BRISTOL, NVY -> NEYVELI, PWM -> PORTLAND, WRO -> WROCLAW, PCR -> PUERTO CARRENO, KWA -> KWAJALEIN, PFJ -> PATREKSFJORDUR, OAK -> OAKLAND, CMJ -> CHIMEI, BTK -> BRATSK, QRO -> QUERETARO, UNT -> UNST, DCM -> CASTRES, JAX -> JACKSONVILLE, MOA -> MOA, LES -> LESOBENG, YDC -> PRINCETON, FOM -> FOUMBAN, CGH -> SAO PAULO, DWA -> DWANGWA, DAV -> DAVID, YWK -> WABUSH, SBO -> SANTA BARBARA, JOH -> JODHPUR, OMD -> ORANJEMUND, PSD -> PORT SAID, ELH -> NORTH ELEUTHERA, LDA -> MALDA, OES -> SAN ANTONIO OESTE, GOA -> GENOA, SOC -> SOLO CITY, YYQ -> CHURCHILL, DOV -> DOVER, LRH -> LA ROCHELLE, CLF -> COLTISHALL, PHW -> PHALABORWA, YPG -> PORTAGE-LA-PRAIRIE, IMP -> IMPERATRIZ, PTY -> PANAMA CITY, SJD -> SAN JOSE DEL CABO, MYW -> MTWARA, RES -> RESISTENCIA, NIA -> GRASSFIELD, TEI -> TEZU, CXI -> KIRITIMATI, KEY -> KERICHO, THK -> THAKHEK, BWU -> SYDNEY, ARR -> ALTO RIO SENGUERR, OIM -> OSHIMA, SIT -> SITKA, BZE -> BELIZE CITY, TMR -> TAMANRASSET, DXB -> DUBAI, IXK -> KESHOD, HRB -> HARBIN, LYG -> LIANYUNGANG, NFL -> FALLON, CBG -> CAMBRIDGE, MCT -> MUSCAT, HBR -> HOBART, MNJ -> MANANJARY, MAR -> MARACAIBO, BKU -> BETIOKY, ANR -> ANTWERP, COU -> COLUMBIA, MAA -> MADRAS, MZX -> MASSLO, YCG -> CASTLEGAR, CCZ -> CHUB CAY, CNM -> CARLSBAD, UDI -> UBERLANDIA, CHC -> CHRISTCHURCH, SNU -> SANTA CLARA, REP -> SIEM-REAP, SBY -> SALISBURY, KSA -> KOSRAE, BHH -> BISHA, SJU -> SAN JUAN, XAP -> CHAPECO, SVG -> STAVANGER, AJR -> ARVIDSJAUR, TKF -> TAKAKA, YQM -> MONCTON, NIP -> JACKSONVILLE, MRO -> MASTERTON, SRE -> SUCRE, HOB -> HOBBS, DJB -> JAMBI, BBO -> BERBERA, MEH -> MEHAMN, YMO -> MOOSONEE, BLI -> BELLINGHAM, NRD -> NORDERNEY, AQP -> AREQUIPA, UTW -> QUEENSTOWN, KNQ -> KONE, JIB -> DJIBOUTI, ISC -> ISLES OF SCILLY, LSV -> LAS VEGAS, ODE -> ODENSE, MUI -> MUIR, YPL -> PICKLE LAKE, RIJ -> RIOJA, PBD -> PORBANDAR, YVQ -> NORMAN WELLS, RGT -> RENGAT, BKY -> BUKAVU/KAVUMU, TNE -> TANEGASHIMA, CAY -> CAYENNE, PYE -> PENRHYN ISLAND, TGI -> TINGO MARIA, HOI -> HAO ISLAND, MIK -> MIKKELI, YPQ -> PETERBOROUGH, WRI -> WRIGHTSTOWN, CBR -> CANBERRA, ODN -> LONG SERIDAN, XSC -> SOUTH CAICOS, ORG -> PARAMARIBO, LAD -> LUANDA, CCS -> CARACAS, MEK -> MEKNES, SJJ -> SARAJEVO, TMD -> TIMBEDRA, BEN -> BENGHAZI, YLJ -> MEADOW LAKE, SRZ -> SANTA CRUZ, SVX -> SVERDLOVSK, UTA -> MUTARE, MEM -> MEMPHIS, CFR -> CAEN, OZP -> SEVILLA, DTM -> DORTMUND, OVA -> BEKILY, MWH -> GRANT COUNTY AIRPORT, OGN -> YONAGUNI JIMA, VRN -> VILLAFRANCA, MAM -> MATAMOROS, WFI -> FIANARANTSOA, YYN -> SWIFT CURRENT, OAX -> OAXACA, VAV -> VAVA'U, GRB -> GREEN BAY, RHO -> RHODOS, HAK -> HAIKOU, ABQ -> KIRTLAND A.F.B., SNO -> SAKON NAKHON, DUG -> DOUGLAS, KSI -> KISSIDOUGOU, PEZ -> PENZA, SZX -> SHENZHEN, MCH -> MACHALA, TNJ -> TANJUNG PINANG, BIM -> BAMYAN, YCY -> CLYDE RIVER, PKP -> PUKA PUKA, KNH -> CHINMEN, ULQ -> TULUA, BMM -> BITAM, ALU -> ALULA, RNO -> RENO, VLI -> PORT-VILA, COT -> COTULLA, LAU -> LAMU, BXI -> BOUNDIALI, DAL -> DALLAS, THY -> THOHOYANDOU, ORP -> ORAPA, PMR -> PALMERSTON NORTH, SJO -> SAN JOSE, JOE -> JOENSUU, ZAG -> ZAGREB, MRX -> BANDAR MAHSHAHR, ITO -> HILO, BGH -> BOGUE, TLN -> TOULON, SWY -> SITIAWAN, KOC -> KOUMAC, ILR -> ILORIN, YPB -> YPENBURG, ORY -> PARIS, EYL -> YELIMANE, CJU -> CHEJU, KMG -> KUNMING, MRI -> ANCHORAGE, PGK -> PANGKAL PINANG, PIT -> PITTSBURGH (PENNSYLVA), SII -> SIDI IFINI, PNQ -> PUNE, BRM -> BARQUISIMETO, JSH -> SITIA, AOO -> ALTOONA, SDE -> SANTIAGO DEL ESTERO, SAC -> SACRAMENTO, LEJ -> LEIPZIG, TSH -> TSHIKAPA, CFU -> KERKYRA/CORFU, BYM -> BAYAMO, GOY -> GALOYA, UAM -> ANDERSEN, VAS -> SIVAS, KZN -> KAZAN, YAM -> SAULT SAINTE MARIE, AIU -> ATIU ISLAND, ACA -> ACAPULCO, TUV -> TUCUPITA, YNT -> YANTAI, SPU -> SPLIT, JUJ -> JUJUY, MUE -> KAMUELA, MLA -> MALTA, SOT -> SODANKYLA, BRW -> BARROW, YHM -> HAMILTON, HOG -> HOLGUIN, HRT -> MARY ESTHER, RBJ -> REBUN, ATQ -> AMRITSAR, HCS -> JOHANNESBURG, YQH -> WATSON LAKE, HST -> HOMESTEAD, SPD -> SAIDPUR, JRH -> JORHAT, BKK -> BANGKOK, MDL -> MANDALAY, FRW -> FRANCISTOWN, ACK -> NANTUCKET, CAM -> CAMIRI, LET -> LETICIA, CAJ -> CANAIMA, YBK -> BAKER LAKE, KMP -> KEETMANSHOOP, MNI -> PLYMOUTH, RBM -> ROBINSON, ZNZ -> ZANZIBAR, QPA -> PADOVA, XGA -> AMILCAR CABRAL DE GAQUA, INT -> WINSTON-SALEM, ZQL -> DONAUESCHINGEN, TCH -> TCHIBANGA, GEG -> SPOKANE, INN -> INNSBRUCK, YUT -> REPULSE BAY, MDC -> MANADO, YCT -> CORONATION, MPV -> MONTPELIER, RME -> ROME, BJX -> DEL BAJIO, LCH -> LAKE CHARLES, ELL -> ELLISRAS, EFL -> KEFFALLINIA, KTX -> KOUTIALA, SFG -> ST. MARTIN, CUE -> CUENCA, JOS -> JOS, FAO -> FARO, NCL -> NEWCASTLE, EKN -> ELKINS, MKM -> MUKAH, TEE -> TEBESSA, UTP -> RAYONG, ASR -> KAYSERI, SIP -> SIMFEROPOL, GRQ -> GRONINGEN, HLH -> ULANHOT, HKG -> HONG KONG, LCY -> LONDON, ILU -> KILAGUNI, TDL -> TANDIL, HLD -> HAILAR, ANN -> ANNETTE ISLAND, KBL -> KABUL, COC -> CONCORDIA, AXA -> THE VALLEY, PPP -> PROSSERPINE, PHS -> PHITSANULOK, CIH -> CHANGZHI, LTK -> LATAKIA, KAO -> KUUSAMO, CVF -> COURCHEVEL, YQC -> QUAQTAQ, YXP -> PANGNIRTUNG, LOO -> LAGHOUAT, HMR -> HAMAR, SUJ -> SATU MARE, NGF -> KANEOHE BAY, HZK -> HUSAVIK, YKF -> WATERLOO, NVS -> NEVERS, RRS -> ROROS, FRS -> FLORES, ALB -> ALBANY, BKH -> BARKING SANDS, CNS -> CAIRNS, DMM -> DAMMAM, BEQ -> HONINGTON, YYB -> NORTH BAY, OSK -> OSKARSHAMN, GDX -> MAGADAN, FYT -> FAYA-LARGEAU, LCK -> COLUMBUS, TIK -> OKLAHOMA CITY, NDJ -> N'DJAMENA, CMG -> CORUMBA, KTU -> KOTA, OHR -> WYK, HTF -> HATFIELD, BBK -> KASANE, BLL -> BILLUND, SYZ -> SHIRAZ, LPP -> LAPPEENRANTA, PCA -> PACHUCA, EIL -> FAIRBANKS, NXX -> WILLOW GROVE, LJU -> LJUBLIANA, JED -> JEDDAH, TOJ -> MADRID, GBK -> GBANGBATOK, ENS -> ENSCHEDE, BUD -> BUDAPEST, THO -> THORSHOFN, BSG -> BATA, CIT -> CHIMKENT, PSR -> PESCARA, CBN -> CIREBON, PZU -> PORT SUDAN, AXR -> ARUTUA, ASM -> ASMARA, VDM -> VIEDMA, CGO -> ZHENGZHOU, VCP -> CAMPINAS, ISG -> ISHIGAKI, LUA -> LUKLA, TIP -> TRIPOLI, PFO -> PAPHOS, GOM -> GOMA, KIS -> KISUMU, UYL -> NYALA, MPA -> MPACHA, IXB -> BAGHDOGRA, CTA -> CATANIA, GYI -> GISENYI, LYA -> LUOYANG, RGN -> YANGON, ELQ -> GASSIM, BOG -> BOGOTA, CET -> CHOLET, NDM -> MENDI, SPG -> ST. PETERSBURG, KRT -> KHARTOUM, XRY -> JEREZ, FOU -> FOUGAMOU, PRG -> PRAGUE, KYS -> KAYES, GXQ -> COYHAIQUE, XQP -> QUEPOS, YXE -> SASKATOON, YMS -> YURIMAGUAS, RKV -> REYKJAVIK, HNM -> HANA, BDM -> BANDIRMA, CHM -> CHIMBOTE, GJL -> JIJEL, SKA -> SPOKANE, AYP -> AYACUCHO, PAQ -> PALMER, YEC -> YECHON, TJQ -> TANJUNG PANDAN, DFW -> DALLAS-FORT WORTH, DNZ -> DENIZLI, BSB -> BRASILIA, FDH -> FRIEDRICHSHAFEN, SIN -> SINGAPORE, HTA -> CHITA, ORL -> ORLANDO, SEM -> SELMA, POO -> POCOS DE CALDAS, PBI -> WEST PALM BEACH, PMC -> PUERTO MONTT, MXS -> MAOTA, MFN -> MILFORD SOUND, SDA -> BAGHDAD, NWA -> MOHELI, CZU -> COROZAL, NEK -> NEKEMTE, ALI -> ALICE, TST -> TRANG, ALY -> ALEXANDRIA, MSJ -> MISAWA, GTN -> MOUNT COOK, HUV -> HUDIKSVALL, NLC -> LEMOORE, PRN -> PRISTINA, YSJ -> ST. JOHN, SGY -> SKAGWAY, RAR -> AVARUA, ZUD -> ANCUD, XIC -> XICHANG, PUF -> PAU, BOJ -> BOURGAS, HRL -> HARLINGEN, ELT -> EL-TOR, MJL -> MOUILA, SHI -> SHIMOJISHIMA, TLJ -> TATALINA, WPB -> PORT BERGE, SCQ -> SANTIAGO, NBC -> BEAUFORT, GKE -> GEILENKIRCHEN, BNA -> NASHVILLE, UBJ -> YAMAGUCHI, KYD -> LANYU, BLZ -> BLANTYRE, YAY -> ST. ANTHONY, YOD -> COLD LAKE, LBQ -> LAMBARENE, FOD -> FORT DODGE, SKP -> SKOPJE, LOE -> LOEI, LRM -> LA ROMANA, IHO -> IHOSY, GUT -> GUETERSLOH, LNB -> LAMEN BAY, CPR -> CASPER, ROY -> RIO MAYO, FAI -> FAIRBANKS, CDS -> CHILDRESS, BVB -> BOA VISTA, WMX -> WAMENA, VTB -> VITEBSK, WAW -> WARSAW, BHI -> BAHIA BLANCA, URG -> URUGUAIANA, VGA -> VIJAYAWADA, AGF -> AGEN, GHT -> GHAT, NFO -> NIUAFO'OU, DEN -> DENVER, MSY -> NEW ORLEANS, NBO -> NAIROBI, CMN -> CASABLANCA, MBJ -> MONTEGO BAY, IXP -> PATHANKOT, DLY -> DILLON'S BAY, ENV -> WENDOVER, LTO -> LORETO, RMI -> RIMINI, KOI -> KIRKWALL, BKZ -> BUKOBA, LYN -> LYON, PEI -> PEREIRA, LCE -> LA CEIBA, NRT -> TOKYO, PLW -> PALU, YCB -> CAMBRIDGE BAY, ABJ -> ABIDJAN, SAQ -> SAN ANDROS, KWI -> KUWAIT, KEN -> KENEMA, KBP -> KIEV, EBB -> ENTEBBE, CHS -> CHARLESTON, SYD -> SYDNEY, LDI -> LINDI, XVF -> VILEFRANCE, JAA -> JALALABAD, YQU -> GRANDE PRAIRIE, MVR -> MAROUA, ISN -> WILLISTON, BPY -> BESALAMPY, MBX -> MARIBOR, YXT -> TERRACE, GID -> GITEGA, TEA -> TELA, TKS -> TOKUSHIMA, STN -> LONDON, YZF -> YELLOWKNIFE, SDV -> TEL-AVIV, LUX -> LUXEMBURG, DTW -> DETROIT, INC -> YINCHUAN, CEQ -> CANNES, UVL -> NEW VALLEY, MMZ -> MAIMAMA, HNY -> HENGYANG, DIY -> DIYABAKIR, PCL -> PUCALLPA, FAF -> FORT EUSTIS, YYF -> PENTICTON, TLC -> TOLUCA, STA -> STAUNING, HHN -> HAHN, JAV -> JAKOBSHAVN, NAN -> NANDI, MZP -> MOTUEKA, JLD -> LANDSKRONA, RGH -> BALURGHAT, WLS -> WALLIS, PAY -> PAMOL, FBU -> OSLO, RIV -> RIVERSIDE, DVO -> DAVAO, KTQ -> KUSTANAY, CIC -> CHICO, BEB -> BENBECULA, KHN -> NANCHANG, LHI -> LEREH, MCO -> ORLANDO, POD -> PODOR, JKG -> JOENKOEPING, GHF -> GIEBELSTADT, WBO -> BEROROHA, LSC -> LA SERENA, VER -> VERA CRUZ, LPT -> LAMPANG, SAH -> SANAA, SGA -> SHEGHNAN, EWI -> ENAROTALI, OBO -> OBIHIRO, BBT -> BERBERATI, PAB -> BILASPUR, WKA -> WANAKA, SOF -> SOFIA, OCC -> COCA, IKT -> IRKUTSK, CTM -> CHETUMAL, SXB -> STRASSBOURG, BTA -> BERTOUA, ZCN -> CELLE, SRI -> SAMARINDA, STM -> SANTAREM, LYC -> LYCKSELE, QNJ -> ANNEMASSE, DAC -> DHAKA, NEL -> LAKEHURST, KUB -> KUNSAN, GHC -> HEIDELBERG, AXK -> ATAQ, YEG -> EDMONTON, VDB -> FAGERNES, SWA -> SHANTOU, SBU -> SPRINGBOK, BCO -> BACO, OKN -> OKONDJA, MOF -> MAUMERE, LKN -> LEKNES, DPS -> DENPASAR, SNR -> ST.-NAZAIRE, MZB -> MOCIMBOA DA PRAIA, DET -> DETROIT, IIA -> INISHMAAN, TKC -> TIKO, BWA -> BHAIRAWA, MLU -> MONROE, GRX -> GRANADA, SBZ -> SIBIU, END -> ENID, DMB -> DZHAMBUL, KHS -> KHASAB, DIS -> LOUBOMO, BNR -> BANFORA, KRP -> KARUP, RCB -> RICHARD'S BAY, TRS -> TRIEST, CRA -> CRAIOVA, BGC -> BRAGANCA, FEL -> FUERSTENFELDBRUCK, IQQ -> IQUIQUE, YGW -> KUUJJUARARAPIK, HDY -> SONGKHLA, NSE -> MILTON, TRB -> TURBO, NAG -> NAGPUR, TXU -> TABOU, AZD -> YAZD, WWK -> WEWAK, NOR -> NORDFJORDUR, GTE -> GROOTE EYLANDT, BRR -> BARRA, MHR -> SACRAMENTO, PWQ -> PAVLODAR, DHA -> DHAHRAN, ACT -> WACO, LKA -> LARANTUKA, OKC -> OKLAHOMA CITY, BRE -> BREMEN, MHP -> MINSK, BKF -> BUCKLEY, AIN -> FORT WAINWRIGHT, IXU -> AURANGABAD, PMG -> PONTA PORA, BEF -> BLUEFIELDS, SKF -> SAN ANTONIO, GAY -> GAYA, BJO -> BERMEJO, ENU -> ENUGU, DCA -> WASHINGTON, VNA -> SARAVANE, TIM -> TIMIKA, BFO -> CHIREDZI, LGP -> LEGAZPI, ZKB -> KASABA BAY, OSI -> OSIJEK, DWB -> SOALALA, TER -> LAJES (TERCEIRA ISLAND), MFA -> MAFIA, SVI -> SAN VINCENTE DE CAGUAN, MBA -> MOMBASA, OST -> OSTEND, UIP -> QUIMPER, SHW -> SHARURAH, BJF -> BATSFJORD, AKX -> AKTYUBINSK, BLG -> BELAGA, KSL -> KASSALA, YGR -> ILES DE LA MADELEINE, MCZ -> MACEIO, TNC -> TIN CITY, YCL -> CHARLO, URA -> URALSK, NVK -> NARKVIK, EAS -> SAN SEBASTIAN, DBV -> DUBROVNIK, TLH -> TALLAHASSEE, OTR -> COTO 47, YKZ -> TORONTO, URC -> URUMQI, NXP -> TWENTY NINE PALMS, BPT -> BEAUMONT, ZND -> ZINDER, CER -> CHERBOURG, MJN -> MAHAJANGA, TMS -> SAO TOME, RBR -> RIO BRANCO, COK -> COCHIN, RZE -> RZESZOW, AUC -> ARAUCA, CMF -> CHAMBERY, AGH -> HELSINGBORG, PMV -> PORLAMAR, XKH -> XIENG KHOUANG, DOD -> DODOMA, BHU -> BHAUNAGAR, ANS -> ANDAHUAYLAS, MJC -> MAN, BZK -> BRYANSK, KTP -> KINGSTON, YZP -> SANDSPIT, IPT -> WILLIAMSPORT, HUF -> TERRE HAUTE, SBI -> KOUNDARA, ELS -> EAST LONDON, PHE -> PORT HEDLAND, LYR -> SVALBARD, THR -> TEHERAN, EXT -> EXETER, LCA -> LARNACA, GIG -> RIO DE JANEIRO, QKT -> KORTRIJK-VEVELGEM, CBL -> CIUDAD BOLIVAR, ABF -> ABAIANG, GYN -> GOIANIA, CSB -> CARANSEBES, FPO -> FREEPORT, TNT -> MIAMI, CAE -> COLOMBIA, TPE -> TAIPEI, QNX -> MACON, BBN -> BARIO, TTE -> TERNATE, MLN -> MELILLA, LIR -> LIBERIA, LTS -> ALTUS, BCD -> BACOLOD, MYR -> MYRTLE BEACH, LBV -> LIBREVILLE, ABS -> ABU SIMBEL, CXB -> COX'S BAZAR, ROV -> ROSTOV, BXB -> BABO, YXX -> ABBOTSFORD, DLF -> DEL RIO, GUQ -> GUANARE, LDB -> LONDRINA, FHZ -> FAKAHINA, IAD -> WASHINGTON, IZO -> IZUMO, YQQ -> COMOX, WOT -> WANG AN, DAR -> DAR ES SALAAM, DSD -> DESIRADE, GMA -> GEMENA, TAP -> TAPACHULA, CIF -> CHIFENG, TFS -> TENERIFE, MMD -> MINAMI DAITO, BTT -> BETTLES, MEE -> MARE, STW -> STAVROPOL, CJC -> CALAMA, DOR -> DORI, BME -> BROOME, WLG -> WELLINGTON, DRT -> DEL RIO, MMV -> MACKMINNVILLE, GAJ -> YAMAGATA, CCV -> CRAIG COVE, DHR -> DE KOOY, THU -> THULE, MYD -> MALINDI, INI -> NIS, CVS -> CLOVIS, CVT -> COVENTRY, SLL -> SALALAH, IKK -> KANKAKEE, YIO -> POND INLET, VBS -> MONTICHIARI, CTU -> CHENGDU, MJT -> MYTILINI, MCF -> TAMPA, JHS -> HOLSTEINSBORG, LHE -> LAHORE, GRK -> KILLEEN, MZT -> MAZATLAN, MYB -> MAYUMBA, VIE -> VIENNA, NOC -> CONNAUGHT, MGF -> MARINGA, YWL -> WILLIAMS LAKE, SIQ -> SINGKEP, YYJ -> VICTORIA, CLN -> CAROLINA, DUT -> UNALASKA, ACC -> ACCRA, PDU -> PAYSANDU, TCS -> TRUTH OR CONSEQUENCES, YYT -> ST. JOHN'S, DBM -> DEBRE MARCOS, RML -> COLOMBO, NPA -> PENSACOLA, TGM -> TIRGU MURES, UAQ -> SAN JULIAN, SJE -> SAN JOSE DEL GUAVIARE, IXJ -> JAMMU, POB -> FAYETTEVILLE, YGL -> LA GRANDE RIVIERE, PKO -> PARAKOU, SVU -> SAVU SAVU, DNH -> DUNHUANG, HOM -> HOMER, HAC -> HACHIJOJIMA, ERH -> ER-RACHIDIA, LBG -> PARIS, LEH -> LE HAVRE, CRL -> CHARLEROI, AUH -> ABU DHABI, MAD -> MADRID, BDE -> BAUDETTE, OFF -> OMAHA, TIV -> TIVAT, WMR -> MANANARA, IBE -> IBAGUE, ADQ -> KODIAK, MGX -> MOABI, FBM -> LUBUMASHI, MED -> MADINAH, GNV -> GAINESVILLE, CZM -> COZUMEL, KIT -> KITHIRA, BWE -> BRAUNSCHWEIG, ILY -> ISLAY, VVZ -> ILLIZI, TIH -> TIKEHAU, TAF -> ORAN, THL -> TACHILEK, SHB -> NAKASHIBETSU, TAE -> TAEGU, FOG -> FOGGIA, MIB -> MINOT, HGL -> HELGOLAND, GUI -> GUIRIA, FNA -> FREETOWN, JAI -> JAIPUR, YWG -> WINNIPEG, CSX -> CHANGCHA, PSJ -> POSO, AMC -> AM-TIMAN, NDU -> RUNDU, AAA -> ANAA, GRR -> GRAND RAPIDS, DLA -> DOUALA, OGX -> OUARGLA, MBE -> MONBETSU, NNI -> NAMUTONI, LIF -> LIFOU, RAK -> MARRAKECH, MAG -> MADANG, TXL -> BERLIN, GFY -> GROOTFONTEIN, DZA -> DZAOUDZI, BNN -> BRONNOYSUND, KKE -> KERIKERI, DYS -> ABILENE, MFE -> MCALLEN, EDF -> ANCHORAGE, XMN -> XIAMEN, BOB -> BORA BORA, INV -> INVERNESS, VUP -> VALLEDUPAR, KEF -> KEFLAVIK, SVZ -> SAN ANTONIO, YDQ -> DAWSON CREEK, UKR -> MUKEIRAS, KMU -> KISMAYU, COH -> COOCH-BEHAR, SSG -> MALABO, LAI -> LANNION, RAZ -> RAWALA KOT, BOS -> BOSTON, TYS -> KNOXVILLE, KAT -> KAITAIA, DNA -> KADENA, KDI -> KENDARI, KRF -> KRAMFORS, KRK -> KRAKOW, IPA -> IPOTA, VCE -> VENICE, WIL -> NAIROBI, OGG -> KAHULUI, MDP -> MINDIPTANAH, BHD -> BELFAST, DSC -> DSCHANG, ZCC -> BADEN-BADEN, BXU -> BUTUAN, LUF -> PHOENIX, BFS -> BELFAST, WSD -> WHITE SANDS, NLK -> NORFOLK ISLAND, TRG -> TAURANGA, KHI -> KARACHI, VQS -> VIEQUES, YRI -> RIVIERE DU LOUP, SSJ -> SANDNESSJOEN, PSE -> PONCE, BEW -> BEIRA, YCS -> CHESTERFIELD INLET, BNI -> BENIN, TBY -> TSHABONG, GOB -> GOBA, HNL -> HONOLULU, EUX -> ORANJESTAD, POL -> PEMBA, LIP -> LINS, PPG -> PAGO PAGO, MQX -> MAKALE, MKO -> MUSKOGEE, BHX -> BIRMINGHAM, OSP -> SLUPSK, MKU -> MAKOKOU, AKT -> AKROTIRI, RCO -> ROCHEFORT, VIT -> VITORIA, SAT -> SAN ANTONIO, TPQ -> TEPIC, AJO -> AL-JOUF, KOW -> GANZHOU, VKO -> MOSCOW, FTX -> OWANDO, RGA -> RIO GRANDE, BIV -> BRIA, SIU -> SIUNA, HEH -> HEHO, THN -> TROLLHATTAN, KTL -> KITALE, XCD -> CHALON, AAR -> AARHUS, ZNV -> KOBLENZ, KMK -> MAKABANA, WAQ -> ANTSALOVA, SWJ -> SOUTH WEST BAY, SID -> AMILCAR CABRAL, VRL -> VILA REAL, PAT -> PATINA, PVH -> PORTO VELHO, ELF -> EL FASHER, ROB -> MONROVIA, BPC -> BAMENDA, NPL -> NEW PLYMOUTH, CTC -> CATAMARCA, NYG -> QUANTICO, AER -> SOCHI, TMB -> KENDALL-TAMIAMI, BLQ -> BOLOGNA, NAU -> NAPUKA ISLAND, YAW -> HALIFAX, WNS -> NAWABSHAH, ROP -> ROTA, SAB -> SABA, YTE -> CAPE DORSET, SLX -> SALT CAY, SSX -> SAMSUN, CRP -> CORPUS CHRISTI, JAN -> JACKSON, WDH -> WINDHOEK, JOG -> YOGYAKARTA, TGZ -> TUXTLA GUTIERREZ, NNG -> NANNING, HOR -> HORTA, RTA -> ROTUMA ISLAND, YZU -> WHITECOURT, SKZ -> SUKKUR, UND -> KUNDUZ, PMQ -> PERITO MORENO, SAY -> SIENA, FLL -> FORT LAUDERDALE, SZG -> SALZBURG, PNK -> PONTIANAK, RIX -> RIGA, WKR -> WALKERS CAY, TAI -> TAIZ, GZO -> GIZO, EBW -> EBOLOWA, KCZ -> KOCHI, HUY -> HUMBERSIDE, WMA -> MANDRITSARA, LNE -> LONORORE, SNE -> SAO NOCOLAU ISLAND, AVI -> CIEGO DE AVILA, ODH -> ODIHAM, LMP -> LAMPEDUSA, YBR -> BRANDON, PLF -> PALA, MUB -> MAUN, SUT -> SUMBAWANGA, HEA -> HERAT, GIS -> GISBORNE, MLX -> MALATYA, ZIH -> ZIHUATANEJO, ESF -> ALEXANDRIA, VVI -> SANTA CRUZ, CNG -> COGNAC, TXN -> TUNXI, LNZ -> LINZ, ASP -> ALICE SPRINGS, FNJ -> PYONGYANG, GRU -> SAO PAULO, HDD -> HYDERABAD, ATF -> AMBATO, RRG -> RODRIGUEZ ISLAND, KGS -> KOS, RLG -> LAAGE, MON -> GLENTANNER, SXU -> SODO, BSK -> BISKRA, PTF -> MALOLO LAILAI, CBB -> COCHABAMBA, TBF -> TABITEUEA NORTH, YAK -> YAKUTAT, SSN -> SEOUL EAST, LOK -> LODWAR, ILO -> ILOILO, CPE -> CAMPECHE, KIW -> SOUTHDOWNS, CLE -> CLEVELAND, IGU -> IGUASSU FALLS, SDU -> RIO DE JANEIRO, HLA -> JOHANNESBURG, NZE -> N'ZEREKORE, SNA -> SANTA ANA, GYE -> GUAYAQUIL, HFA -> HAIFA, MSS -> MASSENA, LBW -> LONG BAWAN, BOY -> BOBO-DIOULASSO, IDR -> INDORE, AYT -> ANTALYA, FAT -> FRESNO, XNU -> NOUNA, GUM -> AGANA, SKS -> SKRYDSTRUP, KFA -> KIFFA, YOP -> GORAKHPUR, YHB -> HUDSON BAY, CST -> CASTAWAY ISLD., BGI -> BRIDGETOWN, ONX -> COLON, PBC -> PUEBLA, AAE -> ANNABA, SCT -> SOCOTRA, OUZ -> ZOUERATT, TKK -> CHUUK, LED -> ST. PETERSBURG, BDI -> BIRD ISLAND, MDZ -> MENDOZA, LPG -> LA PLATA, CAP -> CAP HAITIEN, FOC -> FUZHOU, JHM -> LAHANIA-KAPALUA, KSC -> KOSICE, GAQ -> GAO, KEJ -> KEMOROVO, LJA -> LODJA, SSC -> SUMTER, BJZ -> BADAJOZ, GCK -> GARDEN CITY, NPE -> NAPIER, LRF -> JACKSONVILLE, INZ -> IN SALAH, ILP -> ILE DES PINS, HLF -> HULTSFRED, PRY -> PRETORIA, BGX -> BAGE, BSF -> BRADSHAW FIELD, AND -> ANDERSEN, KZI -> KOZANI, PAS -> PAROS, TOX -> TOBOLSK, XSP -> SINGAPORE, LSI -> SUMBURGH, BAS -> BALALAE, KRO -> KURGAN, YQG -> WINDSOR, WEI -> WEIPA, LEU -> SEO DE URGEL, MAX -> MATAM, VDP -> VALLE DE LA PASCUA, INU -> NAURU ISLAND, SWP -> SWAKOPMUND, RDT -> RICHARD TOLL, LTN -> LONDON, BOO -> BODOE, ADE -> ADEN, GWY -> GALWAY, PNA -> PAMPLONA, EBM -> EL BORMA, CXL -> CALEXICO, KUM -> YAKUSHIMA, YMX -> MONTREAL, BJW -> BAJAWA, AHU -> AL HOCIEMA, SFF -> SPOKANE, ANG -> ANGOULEME, KHV -> KHABAROVSK, DIJ -> DIJON, LPY -> LE PUY, PZY -> PIESTANY, WML -> MALAIMBRANDY, MMY -> MIYAKO, VIX -> VITORIA, AGP -> MALAGA, IND -> INDIANAPOLIS, IEV -> KIEV, BDO -> BANDUNG, ZVA -> MIANDRIVAZO, PUS -> KIMHAE, OIT -> OITA, BFH -> CURITIBA, AHB -> ABHA, HER -> HERAKLION, RIY -> RIYAN, LVO -> LAVERTON, YSM -> FORT SMITH, RSD -> ROCK SOUND, MFK -> MAFIKENG, KWE -> GUIYANG, YQX -> GANDER, ASB -> ASHKHABAD, YUF -> PELLY BAY, DSM -> DES MOINES, THZ -> TAHOUA, KOE -> KUPANG, YFC -> FREDERICTON, FAE -> VAGAR, BIR -> BIRATNAGAR, CUN -> CANCUN, EGN -> GENEINA, HVR -> HAVRE, ALA -> ALMA-ATA, ILI -> ILIAMNA, SDD -> LUBANGO, NST -> NAKHON SI THAMMARAT, BRN -> BERN, PLU -> BELO HORIZONTE, TYL -> TALARA, OSL -> OSLO, JRS -> JERUSALEM, BEP -> BELLARY, YPA -> PRINCE ALBERT, TLM -> TLEMCEN, KLX -> KALAMATA, LUK -> CINCINNATI, KUH -> KUSHIRO, GUW -> GURYEV, DEZ -> DEIRE ZOR, HPN -> WHITE PLAINS, TXK -> TEXARKANA, HAJ -> HANNOVER, BHM -> BIRMINGHAM, ZIG -> ZIGUINCHOR, NTU -> OCEANA, YOC -> OLD CROW, FGD -> F'DERIK, ASO -> ASOSA, ULC -> SANTIAGO, RNB -> RONNEBY, MGL -> MOENCHENGLADBACH, YZX -> GREENWOOD, YVA -> MORONI, URY -> GURIAT, UII -> UTILA, LGI -> DEAD MAN'S CAY, KEM -> KEMI, IXG -> BELGAUM, BVC -> BOA VISTA, NKT -> CHERRY POINT, OTU -> OTU, OBF -> OBERPFAFFENHOFEN, TGJ -> TIGA, EWR -> NEWARK, RNE -> ROANNE, YVP -> QUUJJUAQ, TUF -> TOURS, CMW -> CAMAGUEY, EVG -> SVEG, NJC -> NIZHNEVARTOVSK, AJN -> ANJOUAN, REC -> RECIFE, PEM -> PUERTO MALDONADO, AAO -> ANACO, YKY -> KINDERSLEY, AOL -> PASO DE LOS LIBRES, KTD -> KITADAITO, GZT -> GAZIANTEP, OOT -> ONOTOA, DCI -> DECIMOMANNU, SCN -> SAARBRUECKEN, TME -> TAME, BYC -> YACUIBA, AGA -> AGADIR, ODY -> OUDOMXAY, EGC -> BERGERAC, RPR -> RAIPUR, APB -> APOLO, SMY -> SIMENTI, ATJ -> ANTSIRABE, GHB -> GOVERNOR'S HARBOR, CUZ -> CUZCO, MOC -> MONTES CLAROS, CFS -> COFF'S HARBOUR, TSJ -> TSUSHIMA, BOH -> BOURNEMOUTH, ROU -> ROUSSE, CPV -> CAMPINA GRANDE, HLR -> FORT HOOD, SAP -> SAN PEDRO SULA, ZMM -> ZAMORA, BWI -> BALTIMORE, SDZ -> SCATSTA, MPL -> MONTPELLIER, SNN -> SHANNON, KYA -> KONYA, AQJ -> AQABA, SAL -> SAN SALVADOR, ORK -> CORK, OHI -> OSHAKATI, SUX -> SIOUX CITY, CPA -> HARPER, NQI -> KINGSVILLE, MFF -> MOANDA, YNB -> YENBO, HYN -> HUANGYAN, LFT -> LAFAYETTE, YYE -> FORT NELSON, PBH -> PARO, TSU -> TABITEUEA SOUTH, TCO -> TUMACO, AAL -> AALBORG, GTO -> GORONTALO, MAJ -> MAJURO, JUL -> JULIACA, XAC -> ARCACHON, WRE -> WHANGAREI, SOO -> SODERHAMN, MJM -> MBUJI-MAYI, WVN -> WILHELMSHAVEN, NOS -> NOSY-BE, NOV -> HUAMBO, YXS -> PRINCE GEORGE, ONT -> ONTARIO, MTS -> MANZINI, VPS -> VALPARAISO, XMU -> MOULINS, GUA -> GUATEMALA CITY, VDS -> VADSO, PUD -> PUERTO DESEADO, ZNE -> NEWMAN, KGO -> KIROVOGRAD, RCA -> RAPID CITY, ZQF -> TRIER, YAZ -> TOFINO, QPS -> PIRACUNUNGA, KND -> KINDU, OBS -> AUBENAS-VALS-LANAS, BYK -> BOUAKE, JSI -> SKIATHOS, VAR -> VARNA, ICI -> CICIA, IHN -> QISHAN, CBQ -> CALABAR, TRF -> TORP, FMI -> KALEMIE, FAH -> FARAH, NRR -> ROOSEVELT ROADS, YQK -> KENORA, POZ -> POZNAN, CGP -> CHITTAGONG, SKO -> SOKOTO, PMY -> PUERTO MADRYN, BHJ -> BHUJ, KIN -> KINGSTON, SGX -> SONGEA, BRV -> BREMERHAVEN, VDZ -> VALDEZ, RIS -> RISHIRI ISLAND, ROK -> ROCKHAMPTON, VHZ -> VAHITAHI, CCP -> CONCEPCION, MXJ -> MINNA, TOU -> TOUHO, TNF -> TOUSSOUS-LE-NOBLE, GCE -> GODE, OCJ -> OCHO RIOS, ADZ -> SAN ANDRES ISLAND, RZR -> RAMSAR, ADI -> ARANDIS, AAY -> AL GHAIDA, LAP -> LA PAZ, GGO -> GUIGLO, UPN -> URUAPAN, KWJ -> KWANGJU, YMA -> MAYO, FRI -> FORT RILEY, YXN -> WHALE COVE, LRB -> LERIBE, YBL -> CAMPBELL RIVER, SDQ -> SANTO DOMINGO, ZAR -> ZARIA, BCN -> BARCELONA, ARK -> ARUSHA, ENA -> KENAI, NRK -> NORRKOEPING, OGO -> ABENGOUROU, ANK -> ANKARA, VHC -> SAURIMO, YXD -> EDMONTON, SKB -> BASSE TERRE, ZRM -> SARMI, SFJ -> SONDRESTROM, BDL -> WINDSOR LOCKS, OPA -> KOPASKER, BAB -> MARYSVILLE, JUV -> UPERNAVIK, CUR -> WILLEMSTAD, MLE -> MALE, TLD -> TULI LODGE, CEN -> CIUDAD OBREGON, JKH -> CHIOS, MCI -> KANSAS CITY, VNS -> VARANASI, HOU -> HOUSTON, BNB -> BOENDE, FTK -> FORT KNOX, PKW -> SELEBI-PHIKWE, LUO -> LUENA, HVG -> HONNINGSVAG, CYS -> CHEYENNE, RAB -> RABAUL, ORW -> ORMARA, BMA -> STOCKHOLM, KKR -> KAUKURA ATOLL, LOU -> LOUISVILLE, YQB -> QUEBEC, QXB -> AIX-LES-MILLES, OUS -> OURINHOS, RSW -> FORT MYERS, WAI -> ANTSOHIHY, PGX -> PERIGUEUX, NQX -> KEY WEST, RGI -> RANGIROA, ALF -> ALTA, GRG -> GARDEZ, MNM -> MACON, RBA -> RABAT, ATM -> ALTAMIRA, VLC -> VALENCIA, LMO -> LOSSIEMOUTH, ATV -> ATI, RZA -> SANTA CRUZ, KLC -> KAOLACK, GAF -> GAFSA, OYE -> OYEM, GRJ -> GEORGE, AKL -> AUCKLAND, ARA -> LOUISIANA, BZO -> BOLZANO, TLI -> TOLI TOLI, CVJ -> CUERNAVACA, YYY -> MONT JOLI, BBJ -> BAUTZEN, ARZ -> N'ZETO, PDL -> PONTA DELGADA, IFJ -> ISAFJORDUR, BCY -> BULCHI, BHY -> BEIHAI, SVO -> MOSCOW, CZE -> CORO, LIO -> LIMON, IOA -> IOANNINA, PXO -> PORTO SANTO, YAV -> WINNIPEG, CIS -> CANTON ISLAND, GVX -> GAVLE, TAT -> POPRAD, SPP -> MENONGUE, MZF -> MZAMBA, SPC -> SANTA CRUZ DE LA PALMA, CBO -> COTABATO, CMB -> COLOMBO, VFA -> VICTORIA FALLS, SHV -> SHREVEPORT, MKZ -> MALACCA, OMS -> OMSK, WTA -> TAMBOHORANO, YNM -> MATAGAMI, ZAL -> VALDIVIA, TGT -> TANGA, IXC -> CHANDIGARH, REU -> REUS, NOG -> NOGALES, YUX -> HALL BEACH, BEM -> BOSSEMBELE, CPO -> COPIAPO, BBG -> BUTARITARI, BUQ -> BULAWAYO, SLC -> SALT LAKE CITY, MNB -> MOANZA, YVT -> BUFFALO NARROWS, RJA -> RAJAHMUNDRY, GDL -> GUADALAJARA, MKI -> OBO, EWN -> NEW BERN, WNZ -> WENZHOU, CAN -> GUANGZHOU, SLP -> SAN LUIS POTOSI, KVX -> KIROV, BIA -> BASTIA, LDY -> LONDONDERRY, BIK -> BIAK, SEZ -> MAHE, ZSE -> ST.-PIERRE, ARW -> ARAD, PHF -> NEWPORT NEWS, GWO -> GREENWOOD, ABZ -> ABERDEEN, PLX -> SEMIPLATINSK, KEQ -> KEBAR, MLO -> MILOS, VVC -> VILLAVICENCIO, CHR -> CHATEAUROUX, KAN -> KANO, PAN -> PATTANI)"
      ]
     },
     "execution_count": 25,
     "metadata": {},
     "output_type": "execute_result"
    }
   ],
   "source": [
    "//Scala calls dicionary MAP\n",
    "val airDB_pair:Map[String, String] = tt.toMap"
   ]
  },
  {
   "cell_type": "code",
   "execution_count": 26,
   "metadata": {},
   "outputs": [
    {
     "data": {
      "text/plain": [
       "LONDON"
      ]
     },
     "execution_count": 26,
     "metadata": {},
     "output_type": "execute_result"
    }
   ],
   "source": [
    "airDB_pair(\"LHR\")//test it"
   ]
  },
  {
   "cell_type": "code",
   "execution_count": 27,
   "metadata": {},
   "outputs": [
    {
     "name": "stdout",
     "output_type": "stream",
     "text": [
      "(88809,LONDON)\n",
      "(70930,ORLANDO)\n",
      "(70530,LOS ANGELES)\n",
      "(69630,LAS VEGAS)\n",
      "(66270,NEW YORK)\n",
      "(64490,PARIS)\n",
      "(59460,BANGKOK)\n",
      "(58150,MIAMI)\n",
      "(58000,SAN FRANCISCO)\n",
      "(55590,DUBAI)\n"
     ]
    }
   ],
   "source": [
    "top10.foreach(e => println(e._1,airDB_pair(e._2)))"
   ]
  },
  {
   "cell_type": "code",
   "execution_count": 28,
   "metadata": {},
   "outputs": [
    {
     "data": {
      "text/plain": [
       "top10_human = Array((88809,LONDON), (70930,ORLANDO), (70530,LOS ANGELES), (69630,LAS VEGAS), (66270,NEW YORK), (64490,PARIS), (59460,BANGKOK), (58150,MIAMI), (58000,SAN FRANCISCO), (55590,DUBAI))\n"
      ]
     },
     "metadata": {},
     "output_type": "display_data"
    },
    {
     "data": {
      "text/plain": [
       "[(88809,LONDON), (70930,ORLANDO), (70530,LOS ANGELES), (69630,LAS VEGAS), (66270,NEW YORK), (64490,PARIS), (59460,BANGKOK), (58150,MIAMI), (58000,SAN FRANCISCO), (55590,DUBAI)]"
      ]
     },
     "execution_count": 28,
     "metadata": {},
     "output_type": "execute_result"
    }
   ],
   "source": [
    "val top10_human = top10.map(x=> (x._1, airDB_pair(x._2)) )"
   ]
  },
  {
   "cell_type": "code",
   "execution_count": 29,
   "metadata": {},
   "outputs": [
    {
     "name": "stdout",
     "output_type": "stream",
     "text": [
      "(88809,LONDON)\n",
      "(70930,ORLANDO)\n",
      "(70530,LOS ANGELES)\n",
      "(69630,LAS VEGAS)\n",
      "(66270,NEW YORK)\n",
      "(64490,PARIS)\n",
      "(59460,BANGKOK)\n",
      "(58150,MIAMI)\n",
      "(58000,SAN FRANCISCO)\n",
      "(55590,DUBAI)\n"
     ]
    }
   ],
   "source": [
    "top10_human.foreach(println(_))"
   ]
  },
  {
   "cell_type": "markdown",
   "metadata": {},
   "source": [
    "## 3) Plot the monthly number of searches for 3 airports\n",
    "\n",
    "plot the monthly number of searches for flights arriving at Málaga, Madrid or Barcelona\n",
    "\n",
    "For the arriving airport, you can use the Destination column in the searches file. Plot a curve for Málaga, another one for Madrid, and another one for Barcelona, in the same figure."
   ]
  },
  {
   "cell_type": "code",
   "execution_count": 30,
   "metadata": {},
   "outputs": [
    {
     "data": {
      "text/plain": [
       "List(Date, Time, TxnCode, OfficeID, Country, Origin, Destination, RoundTrip, NbSegments, Seg1Departure, Seg1Arrival, Seg1Date, Seg1Carrier, Seg1BookingCode, Seg2Departure, Seg2Arrival, Seg2Date, Seg2Carrier, Seg2BookingCode, Seg3Departure, Seg3Arrival, Seg3Date, Seg3Carrier, Seg3BookingCode, Seg4Departure, Seg4Arrival, Seg4Date, Seg4Carrier, Seg4BookingCode, Seg5Departure, Seg5Arrival, Seg5Date, Seg5Carrier, Seg5BookingCode, Seg6Departure, Seg6Arrival, Seg6Date, Seg6Carrier, Seg6BookingCode, From, IsPublishedForNeg, IsFromInternet, IsFromVista, TerminalID, InternetOffice)"
      ]
     },
     "execution_count": 30,
     "metadata": {},
     "output_type": "execute_result"
    }
   ],
   "source": [
    "headerColumns_searches"
   ]
  },
  {
   "cell_type": "code",
   "execution_count": 31,
   "metadata": {},
   "outputs": [
    {
     "data": {
      "text/plain": [
       "parseLineSearches: (line: String)(String, String)\n"
      ]
     },
     "metadata": {},
     "output_type": "display_data"
    }
   ],
   "source": [
    "/* Lets define a function to take each line and return what we want\n",
    " * In particular, we want the column 12 with arr_port and 34 with pax\n",
    " * VIP: to handle the wrong lines reading (ex. 14 fields) we need to cover that exception, \n",
    " * otherwise it would corrupt the RDD and give many headaches...\n",
    " */\n",
    "def parseLineSearches(line:String) = {\n",
    "    val fields   = line.split(\"\\\\^\")\n",
    "    //check if the line is complete..\n",
    "    if (fields.length>34){\n",
    "    val date = fields(0).trim\n",
    "    val destination = fields(6).trim\n",
    "    \n",
    "    if (destination ==\" \" || date==\"\") (\"KKK\",\"0\") else\n",
    "    (destination, date)\n",
    "    }\n",
    "    else (\"KKK\",\"0\")\n",
    "}"
   ]
  },
  {
   "cell_type": "code",
   "execution_count": 32,
   "metadata": {},
   "outputs": [
    {
     "data": {
      "text/plain": [
       "searches01 = MapPartitionsRDD[23] at map at <console>:37\n"
      ]
     },
     "metadata": {},
     "output_type": "display_data"
    },
    {
     "data": {
      "text/plain": [
       "MapPartitionsRDD[23] at map at <console>:37"
      ]
     },
     "execution_count": 32,
     "metadata": {},
     "output_type": "execute_result"
    }
   ],
   "source": [
    "val searches01 = searches.map(parseLineSearches).persist(MEMORY_AND_DISK)"
   ]
  },
  {
   "cell_type": "code",
   "execution_count": 33,
   "metadata": {},
   "outputs": [
    {
     "data": {
      "text/plain": [
       "[(Destination,Date), (AUH,2013-01-01), (MIL,2013-01-01), (SFO,2013-01-01), (ARN,2013-01-01), (MAD,2013-01-01), (BLR,2013-01-01), (PAR,2013-01-01), (DUB,2013-01-01), (ACE,2013-01-01)]"
      ]
     },
     "execution_count": 33,
     "metadata": {},
     "output_type": "execute_result"
    }
   ],
   "source": [
    "searches01.take(10)"
   ]
  },
  {
   "cell_type": "code",
   "execution_count": 34,
   "metadata": {},
   "outputs": [
    {
     "data": {
      "text/plain": [
       "searches02 = MapPartitionsRDD[24] at filter at <console>:39\n"
      ]
     },
     "metadata": {},
     "output_type": "display_data"
    },
    {
     "data": {
      "text/plain": [
       "MapPartitionsRDD[24] at filter at <console>:39"
      ]
     },
     "execution_count": 34,
     "metadata": {},
     "output_type": "execute_result"
    }
   ],
   "source": [
    "val searches02=searches01.filter(e => e._1 == \"MAD\" || e._1 == \"BCN\" || e._1 == \"AGP\").persist(MEMORY_AND_DISK)"
   ]
  },
  {
   "cell_type": "code",
   "execution_count": 35,
   "metadata": {},
   "outputs": [
    {
     "data": {
      "text/plain": [
       "[(MAD,2013-01-01), (AGP,2013-01-01), (BCN,2013-01-01), (AGP,2013-01-01), (MAD,2013-01-01), (BCN,2013-01-01), (BCN,2013-01-01), (BCN,2013-01-01), (BCN,2013-01-01), (BCN,2013-01-01)]"
      ]
     },
     "execution_count": 35,
     "metadata": {},
     "output_type": "execute_result"
    }
   ],
   "source": [
    "searches02.take(10)"
   ]
  },
  {
   "cell_type": "markdown",
   "metadata": {},
   "source": [
    "## Handling dates in Scala/Java"
   ]
  },
  {
   "cell_type": "code",
   "execution_count": 36,
   "metadata": {},
   "outputs": [
    {
     "data": {
      "text/plain": [
       "dateFormat = yyyy-MM-dd\n",
       "dtf = Value(YearOfEra,4,19,EXCEEDS_PAD)'-'Value(MonthOfYear,2)'-'Value(DayOfMonth,2)\n",
       "dateString = 2013-01-04\n",
       "d = 2013-01-04\n",
       "year = 2013\n",
       "ymd = Array(Some(2013), Some(1), Some(4))\n"
      ]
     },
     "metadata": {},
     "output_type": "display_data"
    },
    {
     "data": {
      "text/plain": [
       "[Some(2013), Some(1), Some(4)]"
      ]
     },
     "execution_count": 36,
     "metadata": {},
     "output_type": "execute_result"
    }
   ],
   "source": [
    "val dateFormat = \"yyyy-MM-dd\"\n",
    "val dtf = java.time.format.DateTimeFormatter.ofPattern(dateFormat)\n",
    "//TEST\n",
    "val dateString = \"2013-01-04\"\n",
    "val d = java.time.LocalDate.parse(dateString, dtf)\n",
    "val year = d.getYear\n",
    "val ymd = dateString.split(\"-\").map(toInt(_))"
   ]
  },
  {
   "cell_type": "code",
   "execution_count": 37,
   "metadata": {},
   "outputs": [
    {
     "data": {
      "text/plain": [
       "MAD01 = MapPartitionsRDD[26] at map at <console>:39\n",
       "BCN01 = MapPartitionsRDD[28] at map at <console>:40\n",
       "AGP01 = MapPartitionsRDD[30] at map at <console>:41\n"
      ]
     },
     "metadata": {},
     "output_type": "display_data"
    },
    {
     "data": {
      "text/plain": [
       "MapPartitionsRDD[30] at map at <console>:41"
      ]
     },
     "execution_count": 37,
     "metadata": {},
     "output_type": "execute_result"
    }
   ],
   "source": [
    "val MAD01 = searches01.filter(e=> e._1 ==\"MAD\").map(x=>x._2.split(\"-\")(1).toInt)//second is month\n",
    "val BCN01 = searches01.filter(e=> e._1 ==\"BCN\").map(x=>x._2.split(\"-\")(1).toInt)\n",
    "val AGP01 = searches01.filter(e=> e._1 ==\"AGP\").map(x=>x._2.split(\"-\")(1).toInt)"
   ]
  },
  {
   "cell_type": "code",
   "execution_count": 38,
   "metadata": {},
   "outputs": [
    {
     "data": {
      "text/plain": [
       "[1, 1, 1, 1, 1, 1, 1, 1, 1, 1, 1, 1]"
      ]
     },
     "execution_count": 38,
     "metadata": {},
     "output_type": "execute_result"
    }
   ],
   "source": [
    "MAD01.take(12)"
   ]
  },
  {
   "cell_type": "raw",
   "metadata": {},
   "source": [
    "//Define a conversion to integer with exception handling. \n",
    "//This is important to avoid NaN when trying to convert your strings to integers\n",
    "def toDate(s: String): Option[java.] = {\n",
    "  try {\n",
    "    Some(s.toInt)\n",
    "  } catch {\n",
    "    case e: Exception => None\n",
    "  }\n",
    "}"
   ]
  },
  {
   "cell_type": "code",
   "execution_count": 39,
   "metadata": {},
   "outputs": [
    {
     "data": {
      "text/plain": [
       "monthsMAD = ShuffledRDD[32] at reduceByKey at <console>:45\n",
       "monthsBCN = ShuffledRDD[34] at reduceByKey at <console>:46\n",
       "monthsAGP = ShuffledRDD[36] at reduceByKey at <console>:47\n"
      ]
     },
     "metadata": {},
     "output_type": "display_data"
    },
    {
     "data": {
      "text/plain": [
       "ShuffledRDD[36] at reduceByKey at <console>:47"
      ]
     },
     "execution_count": 39,
     "metadata": {},
     "output_type": "execute_result"
    }
   ],
   "source": [
    "//We map with some care using match to handle the exceptions. If we find a None we will write 0 pax.\n",
    "//Make sure wee have integers\n",
    "val monthsMAD = MAD01.map(x=>(x,1)).reduceByKey(_+_).persist(MEMORY_AND_DISK)\n",
    "val monthsBCN = BCN01.map(x=>(x,1)).reduceByKey(_+_).persist(MEMORY_AND_DISK)\n",
    "val monthsAGP = AGP01.map(x=>(x,1)).reduceByKey(_+_).persist(MEMORY_AND_DISK)"
   ]
  },
  {
   "cell_type": "code",
   "execution_count": 40,
   "metadata": {},
   "outputs": [
    {
     "name": "stdout",
     "output_type": "stream",
     "text": [
      "[Stage 22:====================================================>   (14 + 1) / 15]"
     ]
    },
    {
     "data": {
      "text/plain": [
       "MAD = Array((1,24258), (2,22800), (3,24681), (4,25251), (5,26334), (6,22800), (7,22971), (8,21831), (9,21147), (10,22294), (11,20272), (12,14504))\n",
       "BCN = Array((1,29469), (2,28329), (3,30552), (4,31236), (5,28728), (6,26505), (7,29241), (8,27075), (9,23427), (10,20276), (11,19824), (12,15400))\n",
       "AGP = Array((1,9633), (2,8379), (3,10659), (4,8265), (5,10830), (6,7923), (7,8892), (8,7866), (9,8151), (10,6499), (11,6384), (12,3696))\n"
      ]
     },
     "metadata": {},
     "output_type": "display_data"
    },
    {
     "data": {
      "text/plain": [
       "[(1,9633), (2,8379), (3,10659), (4,8265), (5,10830), (6,7923), (7,8892), (8,7866), (9,8151), (10,6499), (11,6384), (12,3696)]"
      ]
     },
     "execution_count": 40,
     "metadata": {},
     "output_type": "execute_result"
    }
   ],
   "source": [
    "val MAD = monthsMAD.collect\n",
    "val BCN = monthsBCN.collect\n",
    "val AGP = monthsAGP.collect"
   ]
  },
  {
   "cell_type": "raw",
   "metadata": {},
   "source": [
    "//We map with some care using match to handle the exceptions. If we find a None we will write 0 pax.\n",
    "//Make sure wee have integers\n",
    "val monthsMAD = MAD01.map(x=> {\n",
    "      val dateString = x._1;\n",
    "      val ymd = dateString.split(\"-\").map(toInt(_))\n",
    "      val month = ymd(1)//get the month Option\n",
    "      month  match {\n",
    "      case None => (99, 0)//dummy\n",
    "      case Some(y) => (y,x._2) }\n",
    "}).persist(MEMORY_AND_DISK)"
   ]
  },
  {
   "cell_type": "code",
   "execution_count": 60,
   "metadata": {},
   "outputs": [
    {
     "data": {
      "text/plain": [
       "render = <function1>\n"
      ]
     },
     "metadata": {},
     "output_type": "display_data"
    },
    {
     "data": {
      "text/plain": [
       "<function1>"
      ]
     },
     "execution_count": 60,
     "metadata": {},
     "output_type": "execute_result"
    }
   ],
   "source": [
    "import vegas._\n",
    "implicit val render = vegas.render.ShowHTML(kernel.display.content(\"text/html\", _))"
   ]
  },
  {
   "cell_type": "code",
   "execution_count": 112,
   "metadata": {},
   "outputs": [
    {
     "data": {
      "text/plain": [
       "loadHistogram: (path: String)List[(String, String)]\n"
      ]
     },
     "metadata": {},
     "output_type": "display_data"
    }
   ],
   "source": [
    "def loadHistogram(path: String) : List[Tuple2[String, String]] = {\n",
    "  sc.textFile(path).map(_.split(\",\"))\n",
    "                   .map{case Array(x1,x2) => (x1,x2)}\n",
    "                   .collect.toList\n",
    "}"
   ]
  },
  {
   "cell_type": "code",
   "execution_count": 67,
   "metadata": {},
   "outputs": [
    {
     "data": {
      "text/plain": [
       "hist2Plot: (data: List[(String, String)], labelBins: String, labelValues: String)List[Map[String,String]]\n"
      ]
     },
     "metadata": {},
     "output_type": "display_data"
    }
   ],
   "source": [
    "def hist2Plot(data: List[(String, String)], labelBins: String, labelValues: String) : List[Map[String, String]] = {\n",
    "    data.map{case (bin, value) => Map(labelBins -> bin, labelValues -> value)}\n",
    "  }"
   ]
  },
  {
   "cell_type": "code",
   "execution_count": 124,
   "metadata": {},
   "outputs": [
    {
     "data": {
      "text/plain": [
       "MADplt = List((1,24258), (2,22800), (3,24681), (4,25251), (5,26334), (6,22800), (7,22971), (8,21831), (9,21147), (10,22294), (11,20272), (12,14504))\n",
       "BCNplt = List((1,29469), (2,28329), (3,30552), (4,31236), (5,28728), (6,26505), (7,29241), (8,27075), (9,23427), (10,20276), (11,19824), (12,15400))\n",
       "AGPplt = List((1,9633), (2,8379), (3,10659), (4,8265), (5,10830), (6,7923), (7,8892), (8,7866), (9,8151), (10,6499), (11,6384), (12,3696))\n"
      ]
     },
     "metadata": {},
     "output_type": "display_data"
    },
    {
     "data": {
      "text/plain": [
       "List((1,9633), (2,8379), (3,10659), (4,8265), (5,10830), (6,7923), (7,8892), (8,7866), (9,8151), (10,6499), (11,6384), (12,3696))"
      ]
     },
     "execution_count": 124,
     "metadata": {},
     "output_type": "execute_result"
    }
   ],
   "source": [
    "//val MADplt=MAD.toList.map{case (x,y)=>Tuple2(x,y)}\n",
    "val MADplt=MAD.sortBy(_._1).map(x => Tuple2(x._1.toString, x._2.toString)).toList\n",
    "val BCNplt=BCN.sortBy(_._1).map(x => Tuple2(x._1.toString, x._2.toString)).toList\n",
    "val AGPplt=AGP.sortBy(_._1).map(x => Tuple2(x._1.toString, x._2.toString)).toList"
   ]
  },
  {
   "cell_type": "code",
   "execution_count": 125,
   "metadata": {},
   "outputs": [
    {
     "data": {
      "text/plain": [
       "MADpltVegas = List(Map(Month -> 1, # searches -> 24258), Map(Month -> 2, # searches -> 22800), Map(Month -> 3, # searches -> 24681), Map(Month -> 4, # searches -> 25251), Map(Month -> 5, # searches -> 26334), Map(Month -> 6, # searches -> 22800), Map(Month -> 7, # searches -> 22971), Map(Month -> 8, # searches -> 21831), Map(Month -> 9, # searches -> 21147), Map(Month -> 10, # searches -> 22294), Map(Month -> 11, # searches -> 20272), Map(Month -> 12, # searches -> 14504))\n",
       "BCNpltVegas = List(Map(Month -> 1, # searches -> 29469), Map(Month -> 2, # searches -> 28329), Map(Month -> 3, # searches -> 30552), Map(Month -> 4, # searches -> 31236), Map(Month -> 5, # searches -> 28728), Map(Month -> 6, # searches -> 26505), Map(Month -> 7, # se...\n"
      ]
     },
     "metadata": {},
     "output_type": "display_data"
    },
    {
     "data": {
      "text/plain": [
       "List(Map(Month -> 1, # searches -> 29469), Map(Month -> 2, # searches -> 28329), Map(Month -> 3, # searches -> 30552), Map(Month -> 4, # searches -> 31236), Map(Month -> 5, # searches -> 28728), Map(Month -> 6, # searches -> 26505), Map(Month -> 7, # searches -> 29241), Map(Month -> 8, # searches -> 27075), Map(Month -> 9, # searches -> 23427), Map(Month -> 10, # searches -> 20276), Map(Month -> 11, # searches -> 19824), Map(Month -> 12, # searches -> 15400))"
      ]
     },
     "execution_count": 125,
     "metadata": {},
     "output_type": "execute_result"
    }
   ],
   "source": [
    "val MADpltVegas = hist2Plot(MADplt, \"Month\", \"# searches\")\n",
    "val BCNpltVegas = hist2Plot(BCNplt, \"Month\", \"# searches\")\n",
    "val AGPpltVegas = hist2Plot(AGPplt, \"Month\", \"# searches\")"
   ]
  },
  {
   "cell_type": "code",
   "execution_count": 127,
   "metadata": {},
   "outputs": [
    {
     "data": {
      "text/html": [
       "\n",
       "  <iframe id=\"frame-vegas-1284a43f-9823-47c6-8b9d-f8b34aebde73\" sandbox=\"allow-scripts allow-same-origin\" style=\"border: none; width: 100%\" srcdoc=\"&lt;html&gt;\n",
       "  &lt;head&gt;\n",
       "    &lt;script src=&quot;https://cdn.jsdelivr.net/webjars/org.webjars.bower/d3/3.5.17/d3.min.js&quot; charset=&quot;utf-8&quot;&gt;&lt;/script&gt;\n",
       "&lt;script src=&quot;https://cdn.jsdelivr.net/webjars/org.webjars.bower/vega/2.6.3/vega.min.js&quot; charset=&quot;utf-8&quot;&gt;&lt;/script&gt;\n",
       "&lt;script src=&quot;https://cdn.jsdelivr.net/webjars/org.webjars.bower/vega-lite/1.2.0/vega-lite.min.js&quot; charset=&quot;utf-8&quot;&gt;&lt;/script&gt;\n",
       "&lt;script src=&quot;https://vega.github.io/vega-editor/vendor/vega-embed.js&quot; charset=&quot;utf-8&quot;&gt;&lt;/script&gt;\n",
       "  &lt;/head&gt;\n",
       "  &lt;body&gt;\n",
       " &lt;div id='vegas-1284a43f-9823-47c6-8b9d-f8b34aebde73'&gt;&lt;/div&gt;\n",
       " &lt;script&gt;\n",
       "   var embedSpec = {\n",
       "     mode: &quot;vega-lite&quot;,\n",
       "     spec: {\n",
       "  &quot;mark&quot; : &quot;bar&quot;,\n",
       "  &quot;encoding&quot; : {\n",
       "    &quot;x&quot; : {\n",
       "      &quot;field&quot; : &quot;Month&quot;,\n",
       "      &quot;type&quot; : &quot;quantitative&quot;\n",
       "    },\n",
       "    &quot;y&quot; : {\n",
       "      &quot;field&quot; : &quot;# searches&quot;,\n",
       "      &quot;type&quot; : &quot;quantitative&quot;\n",
       "    }\n",
       "  },\n",
       "  &quot;description&quot; : &quot;Number of Trips (Histogram)&quot;,\n",
       "  &quot;data&quot; : {\n",
       "    &quot;values&quot; : [\n",
       "      {\n",
       "        &quot;Month&quot; : &quot;1&quot;,\n",
       "        &quot;# searches&quot; : &quot;24258&quot;\n",
       "      },\n",
       "      {\n",
       "        &quot;Month&quot; : &quot;2&quot;,\n",
       "        &quot;# searches&quot; : &quot;22800&quot;\n",
       "      },\n",
       "      {\n",
       "        &quot;Month&quot; : &quot;3&quot;,\n",
       "        &quot;# searches&quot; : &quot;24681&quot;\n",
       "      },\n",
       "      {\n",
       "        &quot;Month&quot; : &quot;4&quot;,\n",
       "        &quot;# searches&quot; : &quot;25251&quot;\n",
       "      },\n",
       "      {\n",
       "        &quot;Month&quot; : &quot;5&quot;,\n",
       "        &quot;# searches&quot; : &quot;26334&quot;\n",
       "      },\n",
       "      {\n",
       "        &quot;Month&quot; : &quot;6&quot;,\n",
       "        &quot;# searches&quot; : &quot;22800&quot;\n",
       "      },\n",
       "      {\n",
       "        &quot;Month&quot; : &quot;7&quot;,\n",
       "        &quot;# searches&quot; : &quot;22971&quot;\n",
       "      },\n",
       "      {\n",
       "        &quot;Month&quot; : &quot;8&quot;,\n",
       "        &quot;# searches&quot; : &quot;21831&quot;\n",
       "      },\n",
       "      {\n",
       "        &quot;Month&quot; : &quot;9&quot;,\n",
       "        &quot;# searches&quot; : &quot;21147&quot;\n",
       "      },\n",
       "      {\n",
       "        &quot;Month&quot; : &quot;10&quot;,\n",
       "        &quot;# searches&quot; : &quot;22294&quot;\n",
       "      },\n",
       "      {\n",
       "        &quot;Month&quot; : &quot;11&quot;,\n",
       "        &quot;# searches&quot; : &quot;20272&quot;\n",
       "      },\n",
       "      {\n",
       "        &quot;Month&quot; : &quot;12&quot;,\n",
       "        &quot;# searches&quot; : &quot;14504&quot;\n",
       "      }\n",
       "    ]\n",
       "  }\n",
       "}\n",
       "   }\n",
       "   vg.embed(&quot;#vegas-1284a43f-9823-47c6-8b9d-f8b34aebde73&quot;, embedSpec, function(error, result) {});\n",
       " &lt;/script&gt;\n",
       "\n",
       "    &lt;/body&gt;\n",
       "&lt;/html&gt;\"></iframe>\n",
       "  <script>\n",
       "    (function() {\n",
       "      function resizeIFrame(el, k) {\n",
       "        var height = el.contentWindow.document.body.scrollHeight || '400'; // Fallback in case of no scroll height\n",
       "        el.style.height = height + 'px';\n",
       "        if (k <= 10) { setTimeout(function() { resizeIFrame(el, k+1) }, 1000 + (k * 250)) };\n",
       "      }\n",
       "      resizeIFrame(document.querySelector('#frame-vegas-1284a43f-9823-47c6-8b9d-f8b34aebde73'), 1);\n",
       "    })(); // IIFE\n",
       "  </script>\n",
       "    "
      ]
     },
     "metadata": {},
     "output_type": "display_data"
    },
    {
     "data": {
      "text/plain": [
       "searchesHist = ExtendedUnitSpecBuilder(ExtendedUnitSpec(None,None,Bar,Some(Encoding(None,None,Some(PositionChannelDef(None,None,None,Some(Month),Some(Quantitative),None,None,None,None,None)),Some(PositionChannelDef(None,None,None,Some(# searches),Some(Quantitative),None,None,None,None,None)),None,None,None,None,None,None,None,None,None,None,None)),None,Some(Number of Trips (Histogram)),Some(Data(None,None,Some(List(Values(Map(Month -> 1, # searches -> 24258)), Values(Map(Month -> 2, # searches -> 22800)), Values(Map(Month -> 3, # searches -> 24681)), Values(Map(Month -> 4, # searches -> 25251)), Values(Map(Month -> 5, # searches -> 26334)), Values(Map(Month -> 6, # searches -> 22800)), Values(Map(Month -> 7, # searches -> 22971)), Values(Map(Month -> 8...\n"
      ]
     },
     "metadata": {},
     "output_type": "display_data"
    },
    {
     "data": {
      "text/plain": [
       "ExtendedUnitSpecBuilder(ExtendedUnitSpec(None,None,Bar,Some(Encoding(None,None,Some(PositionChannelDef(None,None,None,Some(Month),Some(Quantitative),None,None,None,None,None)),Some(PositionChannelDef(None,None,None,Some(# searches),Some(Quantitative),None,None,None,None,None)),None,None,None,None,None,None,None,None,None,None,None)),None,Some(Number of Trips (Histogram)),Some(Data(None,None,Some(List(Values(Map(Month -> 1, # searches -> 24258)), Values(Map(Month -> 2, # searches -> 22800)), Values(Map(Month -> 3, # searches -> 24681)), Values(Map(Month -> 4, # searches -> 25251)), Values(Map(Month -> 5, # searches -> 26334)), Values(Map(Month -> 6, # searches -> 22800)), Values(Map(Month -> 7, # searches -> 22971)), Values(Map(Month -> 8, # searches -> 21831)), Values(Map(Month -> 9, # searches -> 21147)), Values(Map(Month -> 10, # searches -> 22294)), Values(Map(Month -> 11, # searches -> 20272)), Values(Map(Month -> 12, # searches -> 14504)))))),None,None))"
      ]
     },
     "execution_count": 127,
     "metadata": {},
     "output_type": "execute_result"
    }
   ],
   "source": [
    "//MAD\n",
    "val searchesHist = Vegas(\"Number of Trips (Histogram)\")\n",
    "  .withData(MADpltVegas)\n",
    "  .mark(Bar)\n",
    "  .encodeY(\"# searches\", Quantitative)\n",
    "  .encodeX(\"Month\", Quantitative)\n",
    "searchesHist.show"
   ]
  },
  {
   "cell_type": "code",
   "execution_count": 132,
   "metadata": {},
   "outputs": [
    {
     "data": {
      "text/html": [
       "\n",
       "  <iframe id=\"frame-vegas-2af7cdae-e765-48b3-8051-9f4bd16664e9\" sandbox=\"allow-scripts allow-same-origin\" style=\"border: none; width: 100%\" srcdoc=\"&lt;html&gt;\n",
       "  &lt;head&gt;\n",
       "    &lt;script src=&quot;https://cdn.jsdelivr.net/webjars/org.webjars.bower/d3/3.5.17/d3.min.js&quot; charset=&quot;utf-8&quot;&gt;&lt;/script&gt;\n",
       "&lt;script src=&quot;https://cdn.jsdelivr.net/webjars/org.webjars.bower/vega/2.6.3/vega.min.js&quot; charset=&quot;utf-8&quot;&gt;&lt;/script&gt;\n",
       "&lt;script src=&quot;https://cdn.jsdelivr.net/webjars/org.webjars.bower/vega-lite/1.2.0/vega-lite.min.js&quot; charset=&quot;utf-8&quot;&gt;&lt;/script&gt;\n",
       "&lt;script src=&quot;https://vega.github.io/vega-editor/vendor/vega-embed.js&quot; charset=&quot;utf-8&quot;&gt;&lt;/script&gt;\n",
       "  &lt;/head&gt;\n",
       "  &lt;body&gt;\n",
       " &lt;div id='vegas-2af7cdae-e765-48b3-8051-9f4bd16664e9'&gt;&lt;/div&gt;\n",
       " &lt;script&gt;\n",
       "   var embedSpec = {\n",
       "     mode: &quot;vega-lite&quot;,\n",
       "     spec: {\n",
       "  &quot;mark&quot; : &quot;bar&quot;,\n",
       "  &quot;encoding&quot; : {\n",
       "    &quot;x&quot; : {\n",
       "      &quot;field&quot; : &quot;Month&quot;,\n",
       "      &quot;type&quot; : &quot;quantitative&quot;\n",
       "    },\n",
       "    &quot;y&quot; : {\n",
       "      &quot;field&quot; : &quot;# searches&quot;,\n",
       "      &quot;type&quot; : &quot;quantitative&quot;\n",
       "    }\n",
       "  },\n",
       "  &quot;description&quot; : &quot;Number of Trips (Histogram)&quot;,\n",
       "  &quot;data&quot; : {\n",
       "    &quot;values&quot; : [\n",
       "      {\n",
       "        &quot;Month&quot; : &quot;1&quot;,\n",
       "        &quot;# searches&quot; : &quot;29469&quot;\n",
       "      },\n",
       "      {\n",
       "        &quot;Month&quot; : &quot;2&quot;,\n",
       "        &quot;# searches&quot; : &quot;28329&quot;\n",
       "      },\n",
       "      {\n",
       "        &quot;Month&quot; : &quot;3&quot;,\n",
       "        &quot;# searches&quot; : &quot;30552&quot;\n",
       "      },\n",
       "      {\n",
       "        &quot;Month&quot; : &quot;4&quot;,\n",
       "        &quot;# searches&quot; : &quot;31236&quot;\n",
       "      },\n",
       "      {\n",
       "        &quot;Month&quot; : &quot;5&quot;,\n",
       "        &quot;# searches&quot; : &quot;28728&quot;\n",
       "      },\n",
       "      {\n",
       "        &quot;Month&quot; : &quot;6&quot;,\n",
       "        &quot;# searches&quot; : &quot;26505&quot;\n",
       "      },\n",
       "      {\n",
       "        &quot;Month&quot; : &quot;7&quot;,\n",
       "        &quot;# searches&quot; : &quot;29241&quot;\n",
       "      },\n",
       "      {\n",
       "        &quot;Month&quot; : &quot;8&quot;,\n",
       "        &quot;# searches&quot; : &quot;27075&quot;\n",
       "      },\n",
       "      {\n",
       "        &quot;Month&quot; : &quot;9&quot;,\n",
       "        &quot;# searches&quot; : &quot;23427&quot;\n",
       "      },\n",
       "      {\n",
       "        &quot;Month&quot; : &quot;10&quot;,\n",
       "        &quot;# searches&quot; : &quot;20276&quot;\n",
       "      },\n",
       "      {\n",
       "        &quot;Month&quot; : &quot;11&quot;,\n",
       "        &quot;# searches&quot; : &quot;19824&quot;\n",
       "      },\n",
       "      {\n",
       "        &quot;Month&quot; : &quot;12&quot;,\n",
       "        &quot;# searches&quot; : &quot;15400&quot;\n",
       "      }\n",
       "    ]\n",
       "  }\n",
       "}\n",
       "   }\n",
       "   vg.embed(&quot;#vegas-2af7cdae-e765-48b3-8051-9f4bd16664e9&quot;, embedSpec, function(error, result) {});\n",
       " &lt;/script&gt;\n",
       "\n",
       "    &lt;/body&gt;\n",
       "&lt;/html&gt;\"></iframe>\n",
       "  <script>\n",
       "    (function() {\n",
       "      function resizeIFrame(el, k) {\n",
       "        var height = el.contentWindow.document.body.scrollHeight || '400'; // Fallback in case of no scroll height\n",
       "        el.style.height = height + 'px';\n",
       "        if (k <= 10) { setTimeout(function() { resizeIFrame(el, k+1) }, 1000 + (k * 250)) };\n",
       "      }\n",
       "      resizeIFrame(document.querySelector('#frame-vegas-2af7cdae-e765-48b3-8051-9f4bd16664e9'), 1);\n",
       "    })(); // IIFE\n",
       "  </script>\n",
       "    "
      ]
     },
     "metadata": {},
     "output_type": "display_data"
    }
   ],
   "source": [
    "//BCN\n",
    "Vegas(\"Number of Trips (Histogram)\")\n",
    "  .withData(BCNpltVegas)\n",
    "  .mark(Bar)\n",
    "  .encodeY(\"# searches\", Quantitative)\n",
    "  .encodeX(\"Month\", Quantitative)\n",
    "   .show"
   ]
  },
  {
   "cell_type": "code",
   "execution_count": 144,
   "metadata": {},
   "outputs": [
    {
     "data": {
      "text/html": [
       "\n",
       "  <iframe id=\"frame-vegas-d28283c0-be18-4a9c-89b2-325749a862ea\" sandbox=\"allow-scripts allow-same-origin\" style=\"border: none; width: 100%\" srcdoc=\"&lt;html&gt;\n",
       "  &lt;head&gt;\n",
       "    &lt;script src=&quot;https://cdn.jsdelivr.net/webjars/org.webjars.bower/d3/3.5.17/d3.min.js&quot; charset=&quot;utf-8&quot;&gt;&lt;/script&gt;\n",
       "&lt;script src=&quot;https://cdn.jsdelivr.net/webjars/org.webjars.bower/vega/2.6.3/vega.min.js&quot; charset=&quot;utf-8&quot;&gt;&lt;/script&gt;\n",
       "&lt;script src=&quot;https://cdn.jsdelivr.net/webjars/org.webjars.bower/vega-lite/1.2.0/vega-lite.min.js&quot; charset=&quot;utf-8&quot;&gt;&lt;/script&gt;\n",
       "&lt;script src=&quot;https://vega.github.io/vega-editor/vendor/vega-embed.js&quot; charset=&quot;utf-8&quot;&gt;&lt;/script&gt;\n",
       "  &lt;/head&gt;\n",
       "  &lt;body&gt;\n",
       " &lt;div id='vegas-d28283c0-be18-4a9c-89b2-325749a862ea'&gt;&lt;/div&gt;\n",
       " &lt;script&gt;\n",
       "   var embedSpec = {\n",
       "     mode: &quot;vega-lite&quot;,\n",
       "     spec: {\n",
       "  &quot;mark&quot; : &quot;line&quot;,\n",
       "  &quot;encoding&quot; : {\n",
       "    &quot;x&quot; : {\n",
       "      &quot;field&quot; : &quot;Month&quot;,\n",
       "      &quot;type&quot; : &quot;quantitative&quot;\n",
       "    },\n",
       "    &quot;y&quot; : {\n",
       "      &quot;field&quot; : &quot;# searches&quot;,\n",
       "      &quot;type&quot; : &quot;quantitative&quot;\n",
       "    }\n",
       "  },\n",
       "  &quot;description&quot; : &quot;Number of Trips (Histogram)&quot;,\n",
       "  &quot;data&quot; : {\n",
       "    &quot;values&quot; : [\n",
       "      {\n",
       "        &quot;Month&quot; : &quot;1&quot;,\n",
       "        &quot;# searches&quot; : &quot;9633&quot;\n",
       "      },\n",
       "      {\n",
       "        &quot;Month&quot; : &quot;2&quot;,\n",
       "        &quot;# searches&quot; : &quot;8379&quot;\n",
       "      },\n",
       "      {\n",
       "        &quot;Month&quot; : &quot;3&quot;,\n",
       "        &quot;# searches&quot; : &quot;10659&quot;\n",
       "      },\n",
       "      {\n",
       "        &quot;Month&quot; : &quot;4&quot;,\n",
       "        &quot;# searches&quot; : &quot;8265&quot;\n",
       "      },\n",
       "      {\n",
       "        &quot;Month&quot; : &quot;5&quot;,\n",
       "        &quot;# searches&quot; : &quot;10830&quot;\n",
       "      },\n",
       "      {\n",
       "        &quot;Month&quot; : &quot;6&quot;,\n",
       "        &quot;# searches&quot; : &quot;7923&quot;\n",
       "      },\n",
       "      {\n",
       "        &quot;Month&quot; : &quot;7&quot;,\n",
       "        &quot;# searches&quot; : &quot;8892&quot;\n",
       "      },\n",
       "      {\n",
       "        &quot;Month&quot; : &quot;8&quot;,\n",
       "        &quot;# searches&quot; : &quot;7866&quot;\n",
       "      },\n",
       "      {\n",
       "        &quot;Month&quot; : &quot;9&quot;,\n",
       "        &quot;# searches&quot; : &quot;8151&quot;\n",
       "      },\n",
       "      {\n",
       "        &quot;Month&quot; : &quot;10&quot;,\n",
       "        &quot;# searches&quot; : &quot;6499&quot;\n",
       "      },\n",
       "      {\n",
       "        &quot;Month&quot; : &quot;11&quot;,\n",
       "        &quot;# searches&quot; : &quot;6384&quot;\n",
       "      },\n",
       "      {\n",
       "        &quot;Month&quot; : &quot;12&quot;,\n",
       "        &quot;# searches&quot; : &quot;3696&quot;\n",
       "      }\n",
       "    ]\n",
       "  }\n",
       "}\n",
       "   }\n",
       "   vg.embed(&quot;#vegas-d28283c0-be18-4a9c-89b2-325749a862ea&quot;, embedSpec, function(error, result) {});\n",
       " &lt;/script&gt;\n",
       "\n",
       "    &lt;/body&gt;\n",
       "&lt;/html&gt;\"></iframe>\n",
       "  <script>\n",
       "    (function() {\n",
       "      function resizeIFrame(el, k) {\n",
       "        var height = el.contentWindow.document.body.scrollHeight || '400'; // Fallback in case of no scroll height\n",
       "        el.style.height = height + 'px';\n",
       "        if (k <= 10) { setTimeout(function() { resizeIFrame(el, k+1) }, 1000 + (k * 250)) };\n",
       "      }\n",
       "      resizeIFrame(document.querySelector('#frame-vegas-d28283c0-be18-4a9c-89b2-325749a862ea'), 1);\n",
       "    })(); // IIFE\n",
       "  </script>\n",
       "    "
      ]
     },
     "metadata": {},
     "output_type": "display_data"
    }
   ],
   "source": [
    "//AGP\n",
    "Vegas(\"Number of Trips (Histogram)\")\n",
    "  .withData(AGPpltVegas)\n",
    "  .mark(Line)\n",
    "  .encodeY(\"# searches\", Quantitative)\n",
    "  .encodeX(\"Month\", Quantitative)\n",
    "   .show"
   ]
  },
  {
   "cell_type": "code",
   "execution_count": null,
   "metadata": {
    "collapsed": true
   },
   "outputs": [],
   "source": []
  },
  {
   "cell_type": "code",
   "execution_count": null,
   "metadata": {
    "collapsed": true
   },
   "outputs": [],
   "source": []
  },
  {
   "cell_type": "code",
   "execution_count": null,
   "metadata": {
    "collapsed": true
   },
   "outputs": [],
   "source": []
  }
 ],
 "metadata": {
  "kernelspec": {
   "display_name": "Apache Toree - Scala",
   "language": "scala",
   "name": "apache_toree_scala"
  },
  "language_info": {
   "codemirror_mode": "text/x-scala",
   "file_extension": ".scala",
   "mimetype": "text/x-scala",
   "name": "scala",
   "pygments_lexer": "scala",
   "version": "2.11.8"
  }
 },
 "nbformat": 4,
 "nbformat_minor": 2
}
